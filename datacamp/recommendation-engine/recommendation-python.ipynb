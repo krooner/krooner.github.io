{
  "nbformat": 4,
  "nbformat_minor": 0,
  "metadata": {
    "colab": {
      "name": "datacamp-building-recommendation-engines-in-python.ipynb",
      "provenance": [],
      "collapsed_sections": [
        "BRdHztVYzIGA",
        "6P5pSrrizW7p",
        "mH0ACmpe4GP2",
        "_X-xWq1V4QLR",
        "8MeQ7cV3554B",
        "b5-S4OULE1Nx"
      ],
      "authorship_tag": "ABX9TyObbjUJLTNmwcoujimcuFgk",
      "include_colab_link": true
    },
    "kernelspec": {
      "name": "python3",
      "display_name": "Python 3"
    },
    "language_info": {
      "name": "python"
    }
  },
  "cells": [
    {
      "cell_type": "markdown",
      "metadata": {
        "id": "view-in-github",
        "colab_type": "text"
      },
      "source": [
        "<a href=\"https://colab.research.google.com/github/krooner/recommendation-pyspark/blob/main/datacamp_building_recommendation_engines_in_python.ipynb\" target=\"_parent\"><img src=\"https://colab.research.google.com/assets/colab-badge.svg\" alt=\"Open In Colab\"/></a>"
      ]
    },
    {
      "cell_type": "markdown",
      "source": [
        "# Python 기반 추천 엔진 설계 및 개발 \n",
        "---\n",
        "from [Datacamp](https://app.datacamp.com/learn/courses/building-recommendation-engines-in-python)\n",
        "\n",
        "## Introduction\n",
        "- 추천 엔진이란?\n",
        "- 추천을 위해 필요한 데이터는?\n",
        "- 활용 분야\n",
        "  - 사용자 A가 좋아할만한 영화는?\n",
        "  - 사용자 A가 이 레스토랑을 좋아할까?\n",
        "  - 해당 영화는 티켓을 얼마나 팔까?\n",
        "  - 이 집은 얼마 정도의 가치가 있을까?\n",
        "- Explicit data와 Implicit data\n",
        "  - Explicit data: 사용자의 선택 및 평가가 측정 가능한 (수치) 형태\n",
        "    - 영화 평점은 로튼토마토 지수로 매겨진다\n",
        "    - SNS 사용자 A가 \"해당 광고는 본인의 취향과 관련성이 없다\"고 피드백을 줌\n",
        "    - 사용자는 유튜브에서 좋아요/싫어요를 누른다\n",
        "  - Implicit data: 사용자의 선택 및 평가가 측정 불가능한 형태\n",
        "    - 사용자 A는 주로 동일한 장르 음악을 듣는다\n",
        "    - 특정 제품은 특정 사용자에 의해 반복적으로 구매된다\n",
        "    - 사용자 A는 영화를 관람하던 도중에 관람을 그만두었다\n"
      ],
      "metadata": {
        "id": "iJT5QlH32IFx"
      }
    },
    {
      "cell_type": "markdown",
      "source": [
        "## 0. Download and load dataset\n",
        "---\n",
        "### 0.1 Connect to Google Drive"
      ],
      "metadata": {
        "id": "BRdHztVYzIGA"
      }
    },
    {
      "cell_type": "code",
      "execution_count": 129,
      "metadata": {
        "colab": {
          "base_uri": "https://localhost:8080/"
        },
        "id": "nkJRYZjRyDOO",
        "outputId": "dfb8e7f6-6de0-4cf3-f25b-ec59517900ba"
      },
      "outputs": [
        {
          "output_type": "stream",
          "name": "stdout",
          "text": [
            "Drive already mounted at /gdrive; to attempt to forcibly remount, call drive.mount(\"/gdrive\", force_remount=True).\n"
          ]
        }
      ],
      "source": [
        "from google.colab import drive\n",
        "\n",
        "drive.mount('/gdrive')\n",
        "gdrive_root = \"/gdrive/My\\ Drive\""
      ]
    },
    {
      "cell_type": "markdown",
      "source": [
        "### 0.2 Copy dataset files from My Drive"
      ],
      "metadata": {
        "id": "6P5pSrrizW7p"
      }
    },
    {
      "cell_type": "code",
      "source": [
        "dataset_folder = gdrive_root + \"/my_data/datacamp/building-recommendation-engines-in-python/*.csv\"\n",
        "!cp $dataset_folder ."
      ],
      "metadata": {
        "id": "Jb7DUINLzWgi"
      },
      "execution_count": 130,
      "outputs": []
    },
    {
      "cell_type": "markdown",
      "source": [
        "### 0.3 Import"
      ],
      "metadata": {
        "id": "mH0ACmpe4GP2"
      }
    },
    {
      "cell_type": "code",
      "source": [
        "import numpy as np\n",
        "import pandas as pd\n",
        "from matplotlib import pyplot as plt"
      ],
      "metadata": {
        "id": "vXNEdfO84GU_"
      },
      "execution_count": 131,
      "outputs": []
    },
    {
      "cell_type": "markdown",
      "source": [
        "### 0.4 Load raw dataset files (.csv)"
      ],
      "metadata": {
        "id": "_X-xWq1V4QLR"
      }
    },
    {
      "cell_type": "code",
      "source": [
        "movies_original = pd.read_csv(\"movies.csv\", sep=\",\",)\n",
        "print(\"Movies table:\")\n",
        "display(movies_original.head())\n",
        "\n",
        "user_ratings_original = pd.read_csv(\"user_ratings.csv\", sep=\",\")\n",
        "print(\"User ratings table:\")\n",
        "display(user_ratings_original.head())"
      ],
      "metadata": {
        "colab": {
          "base_uri": "https://localhost:8080/",
          "height": 431
        },
        "id": "EVkWW8tY4QRB",
        "outputId": "68b428d3-6b98-4b00-abae-52852ae89fdf"
      },
      "execution_count": 132,
      "outputs": [
        {
          "output_type": "stream",
          "name": "stdout",
          "text": [
            "Movies table:\n"
          ]
        },
        {
          "output_type": "display_data",
          "data": {
            "text/html": [
              "\n",
              "  <div id=\"df-541f0921-f0fb-4845-9c20-83bce55fece9\">\n",
              "    <div class=\"colab-df-container\">\n",
              "      <div>\n",
              "<style scoped>\n",
              "    .dataframe tbody tr th:only-of-type {\n",
              "        vertical-align: middle;\n",
              "    }\n",
              "\n",
              "    .dataframe tbody tr th {\n",
              "        vertical-align: top;\n",
              "    }\n",
              "\n",
              "    .dataframe thead th {\n",
              "        text-align: right;\n",
              "    }\n",
              "</style>\n",
              "<table border=\"1\" class=\"dataframe\">\n",
              "  <thead>\n",
              "    <tr style=\"text-align: right;\">\n",
              "      <th></th>\n",
              "      <th>movieId</th>\n",
              "      <th>title</th>\n",
              "      <th>genres</th>\n",
              "    </tr>\n",
              "  </thead>\n",
              "  <tbody>\n",
              "    <tr>\n",
              "      <th>0</th>\n",
              "      <td>1</td>\n",
              "      <td>Toy Story (1995)</td>\n",
              "      <td>Adventure|Animation|Children|Comedy|Fantasy</td>\n",
              "    </tr>\n",
              "    <tr>\n",
              "      <th>1</th>\n",
              "      <td>2</td>\n",
              "      <td>Jumanji (1995)</td>\n",
              "      <td>Adventure|Children|Fantasy</td>\n",
              "    </tr>\n",
              "    <tr>\n",
              "      <th>2</th>\n",
              "      <td>3</td>\n",
              "      <td>Grumpier Old Men (1995)</td>\n",
              "      <td>Comedy|Romance</td>\n",
              "    </tr>\n",
              "    <tr>\n",
              "      <th>3</th>\n",
              "      <td>4</td>\n",
              "      <td>Waiting to Exhale (1995)</td>\n",
              "      <td>Comedy|Drama|Romance</td>\n",
              "    </tr>\n",
              "    <tr>\n",
              "      <th>4</th>\n",
              "      <td>5</td>\n",
              "      <td>Father of the Bride Part II (1995)</td>\n",
              "      <td>Comedy</td>\n",
              "    </tr>\n",
              "  </tbody>\n",
              "</table>\n",
              "</div>\n",
              "      <button class=\"colab-df-convert\" onclick=\"convertToInteractive('df-541f0921-f0fb-4845-9c20-83bce55fece9')\"\n",
              "              title=\"Convert this dataframe to an interactive table.\"\n",
              "              style=\"display:none;\">\n",
              "        \n",
              "  <svg xmlns=\"http://www.w3.org/2000/svg\" height=\"24px\"viewBox=\"0 0 24 24\"\n",
              "       width=\"24px\">\n",
              "    <path d=\"M0 0h24v24H0V0z\" fill=\"none\"/>\n",
              "    <path d=\"M18.56 5.44l.94 2.06.94-2.06 2.06-.94-2.06-.94-.94-2.06-.94 2.06-2.06.94zm-11 1L8.5 8.5l.94-2.06 2.06-.94-2.06-.94L8.5 2.5l-.94 2.06-2.06.94zm10 10l.94 2.06.94-2.06 2.06-.94-2.06-.94-.94-2.06-.94 2.06-2.06.94z\"/><path d=\"M17.41 7.96l-1.37-1.37c-.4-.4-.92-.59-1.43-.59-.52 0-1.04.2-1.43.59L10.3 9.45l-7.72 7.72c-.78.78-.78 2.05 0 2.83L4 21.41c.39.39.9.59 1.41.59.51 0 1.02-.2 1.41-.59l7.78-7.78 2.81-2.81c.8-.78.8-2.07 0-2.86zM5.41 20L4 18.59l7.72-7.72 1.47 1.35L5.41 20z\"/>\n",
              "  </svg>\n",
              "      </button>\n",
              "      \n",
              "  <style>\n",
              "    .colab-df-container {\n",
              "      display:flex;\n",
              "      flex-wrap:wrap;\n",
              "      gap: 12px;\n",
              "    }\n",
              "\n",
              "    .colab-df-convert {\n",
              "      background-color: #E8F0FE;\n",
              "      border: none;\n",
              "      border-radius: 50%;\n",
              "      cursor: pointer;\n",
              "      display: none;\n",
              "      fill: #1967D2;\n",
              "      height: 32px;\n",
              "      padding: 0 0 0 0;\n",
              "      width: 32px;\n",
              "    }\n",
              "\n",
              "    .colab-df-convert:hover {\n",
              "      background-color: #E2EBFA;\n",
              "      box-shadow: 0px 1px 2px rgba(60, 64, 67, 0.3), 0px 1px 3px 1px rgba(60, 64, 67, 0.15);\n",
              "      fill: #174EA6;\n",
              "    }\n",
              "\n",
              "    [theme=dark] .colab-df-convert {\n",
              "      background-color: #3B4455;\n",
              "      fill: #D2E3FC;\n",
              "    }\n",
              "\n",
              "    [theme=dark] .colab-df-convert:hover {\n",
              "      background-color: #434B5C;\n",
              "      box-shadow: 0px 1px 3px 1px rgba(0, 0, 0, 0.15);\n",
              "      filter: drop-shadow(0px 1px 2px rgba(0, 0, 0, 0.3));\n",
              "      fill: #FFFFFF;\n",
              "    }\n",
              "  </style>\n",
              "\n",
              "      <script>\n",
              "        const buttonEl =\n",
              "          document.querySelector('#df-541f0921-f0fb-4845-9c20-83bce55fece9 button.colab-df-convert');\n",
              "        buttonEl.style.display =\n",
              "          google.colab.kernel.accessAllowed ? 'block' : 'none';\n",
              "\n",
              "        async function convertToInteractive(key) {\n",
              "          const element = document.querySelector('#df-541f0921-f0fb-4845-9c20-83bce55fece9');\n",
              "          const dataTable =\n",
              "            await google.colab.kernel.invokeFunction('convertToInteractive',\n",
              "                                                     [key], {});\n",
              "          if (!dataTable) return;\n",
              "\n",
              "          const docLinkHtml = 'Like what you see? Visit the ' +\n",
              "            '<a target=\"_blank\" href=https://colab.research.google.com/notebooks/data_table.ipynb>data table notebook</a>'\n",
              "            + ' to learn more about interactive tables.';\n",
              "          element.innerHTML = '';\n",
              "          dataTable['output_type'] = 'display_data';\n",
              "          await google.colab.output.renderOutput(dataTable, element);\n",
              "          const docLink = document.createElement('div');\n",
              "          docLink.innerHTML = docLinkHtml;\n",
              "          element.appendChild(docLink);\n",
              "        }\n",
              "      </script>\n",
              "    </div>\n",
              "  </div>\n",
              "  "
            ],
            "text/plain": [
              "   movieId                               title  \\\n",
              "0        1                    Toy Story (1995)   \n",
              "1        2                      Jumanji (1995)   \n",
              "2        3             Grumpier Old Men (1995)   \n",
              "3        4            Waiting to Exhale (1995)   \n",
              "4        5  Father of the Bride Part II (1995)   \n",
              "\n",
              "                                        genres  \n",
              "0  Adventure|Animation|Children|Comedy|Fantasy  \n",
              "1                   Adventure|Children|Fantasy  \n",
              "2                               Comedy|Romance  \n",
              "3                         Comedy|Drama|Romance  \n",
              "4                                       Comedy  "
            ]
          },
          "metadata": {}
        },
        {
          "output_type": "stream",
          "name": "stdout",
          "text": [
            "User ratings table:\n"
          ]
        },
        {
          "output_type": "display_data",
          "data": {
            "text/html": [
              "\n",
              "  <div id=\"df-43a81b3f-6d96-49de-9fb2-c2d7df9cab37\">\n",
              "    <div class=\"colab-df-container\">\n",
              "      <div>\n",
              "<style scoped>\n",
              "    .dataframe tbody tr th:only-of-type {\n",
              "        vertical-align: middle;\n",
              "    }\n",
              "\n",
              "    .dataframe tbody tr th {\n",
              "        vertical-align: top;\n",
              "    }\n",
              "\n",
              "    .dataframe thead th {\n",
              "        text-align: right;\n",
              "    }\n",
              "</style>\n",
              "<table border=\"1\" class=\"dataframe\">\n",
              "  <thead>\n",
              "    <tr style=\"text-align: right;\">\n",
              "      <th></th>\n",
              "      <th>userId</th>\n",
              "      <th>movieId</th>\n",
              "      <th>rating</th>\n",
              "      <th>timestamp</th>\n",
              "      <th>title</th>\n",
              "      <th>genres</th>\n",
              "    </tr>\n",
              "  </thead>\n",
              "  <tbody>\n",
              "    <tr>\n",
              "      <th>0</th>\n",
              "      <td>1</td>\n",
              "      <td>1</td>\n",
              "      <td>4.0</td>\n",
              "      <td>964982703</td>\n",
              "      <td>Toy Story (1995)</td>\n",
              "      <td>Adventure|Animation|Children|Comedy|Fantasy</td>\n",
              "    </tr>\n",
              "    <tr>\n",
              "      <th>1</th>\n",
              "      <td>5</td>\n",
              "      <td>1</td>\n",
              "      <td>4.0</td>\n",
              "      <td>847434962</td>\n",
              "      <td>Toy Story (1995)</td>\n",
              "      <td>Adventure|Animation|Children|Comedy|Fantasy</td>\n",
              "    </tr>\n",
              "    <tr>\n",
              "      <th>2</th>\n",
              "      <td>7</td>\n",
              "      <td>1</td>\n",
              "      <td>4.5</td>\n",
              "      <td>1106635946</td>\n",
              "      <td>Toy Story (1995)</td>\n",
              "      <td>Adventure|Animation|Children|Comedy|Fantasy</td>\n",
              "    </tr>\n",
              "    <tr>\n",
              "      <th>3</th>\n",
              "      <td>15</td>\n",
              "      <td>1</td>\n",
              "      <td>2.5</td>\n",
              "      <td>1510577970</td>\n",
              "      <td>Toy Story (1995)</td>\n",
              "      <td>Adventure|Animation|Children|Comedy|Fantasy</td>\n",
              "    </tr>\n",
              "    <tr>\n",
              "      <th>4</th>\n",
              "      <td>17</td>\n",
              "      <td>1</td>\n",
              "      <td>4.5</td>\n",
              "      <td>1305696483</td>\n",
              "      <td>Toy Story (1995)</td>\n",
              "      <td>Adventure|Animation|Children|Comedy|Fantasy</td>\n",
              "    </tr>\n",
              "  </tbody>\n",
              "</table>\n",
              "</div>\n",
              "      <button class=\"colab-df-convert\" onclick=\"convertToInteractive('df-43a81b3f-6d96-49de-9fb2-c2d7df9cab37')\"\n",
              "              title=\"Convert this dataframe to an interactive table.\"\n",
              "              style=\"display:none;\">\n",
              "        \n",
              "  <svg xmlns=\"http://www.w3.org/2000/svg\" height=\"24px\"viewBox=\"0 0 24 24\"\n",
              "       width=\"24px\">\n",
              "    <path d=\"M0 0h24v24H0V0z\" fill=\"none\"/>\n",
              "    <path d=\"M18.56 5.44l.94 2.06.94-2.06 2.06-.94-2.06-.94-.94-2.06-.94 2.06-2.06.94zm-11 1L8.5 8.5l.94-2.06 2.06-.94-2.06-.94L8.5 2.5l-.94 2.06-2.06.94zm10 10l.94 2.06.94-2.06 2.06-.94-2.06-.94-.94-2.06-.94 2.06-2.06.94z\"/><path d=\"M17.41 7.96l-1.37-1.37c-.4-.4-.92-.59-1.43-.59-.52 0-1.04.2-1.43.59L10.3 9.45l-7.72 7.72c-.78.78-.78 2.05 0 2.83L4 21.41c.39.39.9.59 1.41.59.51 0 1.02-.2 1.41-.59l7.78-7.78 2.81-2.81c.8-.78.8-2.07 0-2.86zM5.41 20L4 18.59l7.72-7.72 1.47 1.35L5.41 20z\"/>\n",
              "  </svg>\n",
              "      </button>\n",
              "      \n",
              "  <style>\n",
              "    .colab-df-container {\n",
              "      display:flex;\n",
              "      flex-wrap:wrap;\n",
              "      gap: 12px;\n",
              "    }\n",
              "\n",
              "    .colab-df-convert {\n",
              "      background-color: #E8F0FE;\n",
              "      border: none;\n",
              "      border-radius: 50%;\n",
              "      cursor: pointer;\n",
              "      display: none;\n",
              "      fill: #1967D2;\n",
              "      height: 32px;\n",
              "      padding: 0 0 0 0;\n",
              "      width: 32px;\n",
              "    }\n",
              "\n",
              "    .colab-df-convert:hover {\n",
              "      background-color: #E2EBFA;\n",
              "      box-shadow: 0px 1px 2px rgba(60, 64, 67, 0.3), 0px 1px 3px 1px rgba(60, 64, 67, 0.15);\n",
              "      fill: #174EA6;\n",
              "    }\n",
              "\n",
              "    [theme=dark] .colab-df-convert {\n",
              "      background-color: #3B4455;\n",
              "      fill: #D2E3FC;\n",
              "    }\n",
              "\n",
              "    [theme=dark] .colab-df-convert:hover {\n",
              "      background-color: #434B5C;\n",
              "      box-shadow: 0px 1px 3px 1px rgba(0, 0, 0, 0.15);\n",
              "      filter: drop-shadow(0px 1px 2px rgba(0, 0, 0, 0.3));\n",
              "      fill: #FFFFFF;\n",
              "    }\n",
              "  </style>\n",
              "\n",
              "      <script>\n",
              "        const buttonEl =\n",
              "          document.querySelector('#df-43a81b3f-6d96-49de-9fb2-c2d7df9cab37 button.colab-df-convert');\n",
              "        buttonEl.style.display =\n",
              "          google.colab.kernel.accessAllowed ? 'block' : 'none';\n",
              "\n",
              "        async function convertToInteractive(key) {\n",
              "          const element = document.querySelector('#df-43a81b3f-6d96-49de-9fb2-c2d7df9cab37');\n",
              "          const dataTable =\n",
              "            await google.colab.kernel.invokeFunction('convertToInteractive',\n",
              "                                                     [key], {});\n",
              "          if (!dataTable) return;\n",
              "\n",
              "          const docLinkHtml = 'Like what you see? Visit the ' +\n",
              "            '<a target=\"_blank\" href=https://colab.research.google.com/notebooks/data_table.ipynb>data table notebook</a>'\n",
              "            + ' to learn more about interactive tables.';\n",
              "          element.innerHTML = '';\n",
              "          dataTable['output_type'] = 'display_data';\n",
              "          await google.colab.output.renderOutput(dataTable, element);\n",
              "          const docLink = document.createElement('div');\n",
              "          docLink.innerHTML = docLinkHtml;\n",
              "          element.appendChild(docLink);\n",
              "        }\n",
              "      </script>\n",
              "    </div>\n",
              "  </div>\n",
              "  "
            ],
            "text/plain": [
              "   userId  movieId  rating   timestamp             title  \\\n",
              "0       1        1     4.0   964982703  Toy Story (1995)   \n",
              "1       5        1     4.0   847434962  Toy Story (1995)   \n",
              "2       7        1     4.5  1106635946  Toy Story (1995)   \n",
              "3      15        1     2.5  1510577970  Toy Story (1995)   \n",
              "4      17        1     4.5  1305696483  Toy Story (1995)   \n",
              "\n",
              "                                        genres  \n",
              "0  Adventure|Animation|Children|Comedy|Fantasy  \n",
              "1  Adventure|Animation|Children|Comedy|Fantasy  \n",
              "2  Adventure|Animation|Children|Comedy|Fantasy  \n",
              "3  Adventure|Animation|Children|Comedy|Fantasy  \n",
              "4  Adventure|Animation|Children|Comedy|Fantasy  "
            ]
          },
          "metadata": {}
        }
      ]
    },
    {
      "cell_type": "markdown",
      "source": [
        "## 1. 전체 사용자 기반 추천 (Non-personalized Recommendations)\n",
        "---\n",
        "### 1.1 영화 평점을 기반으로 평균 평점이 높은 영화들을 추천"
      ],
      "metadata": {
        "id": "8MeQ7cV3554B"
      }
    },
    {
      "cell_type": "code",
      "source": [
        "movie_df = user_ratings_original[[\"userId\", \"title\"]].drop_duplicates()\n",
        "\n",
        "# 영화별 평점 수, 평점 많은 순으로 영화 나열\n",
        "display(movie_df['title'].value_counts().head())\n",
        "# movie_df['title'].value_counts().index"
      ],
      "metadata": {
        "colab": {
          "base_uri": "https://localhost:8080/",
          "height": 124
        },
        "id": "_hLkhK7X5qTk",
        "outputId": "5ce69f04-2f56-4ee5-efea-0a506447b20d"
      },
      "execution_count": 133,
      "outputs": [
        {
          "output_type": "display_data",
          "data": {
            "text/plain": [
              "Forrest Gump (1994)                 329\n",
              "Shawshank Redemption, The (1994)    317\n",
              "Pulp Fiction (1994)                 307\n",
              "Silence of the Lambs, The (1991)    279\n",
              "Matrix, The (1999)                  278\n",
              "Name: title, dtype: int64"
            ]
          },
          "metadata": {}
        }
      ]
    },
    {
      "cell_type": "code",
      "source": [
        "user_ratings = user_ratings_original[[\"userId\", \"title\", \"rating\"]].drop_duplicates()\n",
        "\n",
        "# 영화별 평균 평점, 평균 평점이 높은 영화 순\n",
        "avg_rating_df = user_ratings[[\"title\", \"rating\"]].groupby(by=[\"title\"]).mean()\n",
        "sorted_avg_rating_df = avg_rating_df.sort_values(by=[\"rating\"], ascending=False)\n",
        "\n",
        "# 평균 평점이 높은 경우 중에는 관람자 수가 1명 또는 너무 적은 경우가 발생 => 추천에 적합하지 않음!!!\n",
        "print((user_ratings['title']=='Gena the Crocodile (1969)').sum())\n",
        "print((user_ratings['title']=='True Stories (1986)').sum())\n",
        "print((user_ratings['title']=='Cosmic Scrat-tastrophe (2015)').sum())"
      ],
      "metadata": {
        "id": "ynaUbDRF8MzO"
      },
      "execution_count": null,
      "outputs": []
    },
    {
      "cell_type": "code",
      "source": [
        "# 영화별 평점 수가 100개보다 많은 영화 (Index)\n",
        "movie_frequency = user_ratings[\"title\"].value_counts()\n",
        "frequently_reviewed_movies = movie_frequency[movie_frequency>100].index\n",
        "\n",
        "# Index로 필터링한 dataframe\n",
        "frequent_movies_df = user_ratings[user_ratings[\"title\"].isin(frequently_reviewed_movies)]\n",
        "frequent_books_avgs = frequent_movies_df[[\"title\", \"rating\"]].groupby(by=[\"title\"]).mean()\n",
        "frequent_books_avgs = frequent_books_avgs.sort_values(by=[\"rating\"], ascending=False)\n",
        "print(frequent_books_avgs.head())"
      ],
      "metadata": {
        "colab": {
          "base_uri": "https://localhost:8080/"
        },
        "id": "0QF9l-nZ9ylI",
        "outputId": "67bb7583-3863-4d62-d347-eadf5abbd6a6"
      },
      "execution_count": 134,
      "outputs": [
        {
          "output_type": "stream",
          "name": "stdout",
          "text": [
            "                                    rating\n",
            "title                                     \n",
            "Shawshank Redemption, The (1994)  4.429022\n",
            "Godfather, The (1972)             4.289062\n",
            "Fight Club (1999)                 4.272936\n",
            "Godfather: Part II, The (1974)    4.259690\n",
            "Departed, The (2006)              4.252336\n"
          ]
        }
      ]
    },
    {
      "cell_type": "markdown",
      "source": [
        "### 1.2 영화 A를 본 사용자 1에게 추천할 영화를 선정\n",
        "쇼생크 탈출을 본 다른 사용자들이 본 영화들을 Count"
      ],
      "metadata": {
        "id": "b5-S4OULE1Nx"
      }
    },
    {
      "cell_type": "code",
      "source": [
        "from itertools import permutations\n",
        "\n",
        "def create_pairs(x):\n",
        "  pairs = pd.DataFrame(list(permutations(x.values, 2)),\\\n",
        "                       columns=[\"movie_a\", \"movie_b\"])\n",
        "  return pairs\n",
        "\n",
        "movie_pairs = movie_df.groupby(\"userId\")[\"title\"].apply(create_pairs)\n",
        "movie_pairs = movie_pairs.reset_index(drop=True)\n",
        "pair_counts = movie_pairs.groupby(by=[\"movie_a\", \"movie_b\"]).size()\n",
        "pair_counts_df = pair_counts.to_frame(name=\"size\").reset_index()\n",
        "pair_counts_sorted = pair_counts_df.sort_values(\"size\", ascending=False)\n",
        "shawshank_df =  pair_counts_sorted[pair_counts_sorted[\"movie_a\"]==\"Shawshank Redemption, The (1994)\"]\n",
        "\n",
        "shawshank_df[:10].plot.bar(x=\"movie_b\")\n",
        "plt.title(\"Recommendation of Top 10 movies for users who watched Shawshank Redemption, The (1994)\")\n",
        "plt.show()"
      ],
      "metadata": {
        "colab": {
          "base_uri": "https://localhost:8080/",
          "height": 500
        },
        "id": "quZc7G09Abfj",
        "outputId": "0406d5d6-898b-4d3b-e6ef-d751231083d5"
      },
      "execution_count": 17,
      "outputs": [
        {
          "output_type": "display_data",
          "data": {
            "image/png": "[encoded data removed]",
            "text/plain": [
              "<Figure size 432x288 with 1 Axes>"
            ]
          },
          "metadata": {
            "needs_background": "light"
          }
        }
      ]
    },
    {
      "cell_type": "markdown",
      "source": [
        "## 2. 컨텐츠 기반 추천 (Item, Content-based Recommendations)\n",
        "---\n",
        "1. Item의 속성 및 특성 (Attributes or characteristics)를 추출한다\n",
        "  - 예시: 책 (언어, 장르, 저자, 출판일자, 페이지 수, ...)\n",
        "2. Item 끼리의 유사도를 계산\n",
        "  - Item X와 Y의 유사도가 높다\n",
        "2. 사용자 A가 Item X를 좋아한다\n",
        "3. 사용자 A에게 Item Y를 추천한다\n",
        "\n",
        "### 2.1 Item (영화)의 특성 추출\n",
        "Item attributes: 영화의 장르"
      ],
      "metadata": {
        "id": "jK3jgALMJ6YQ"
      }
    },
    {
      "cell_type": "code",
      "source": [
        "# 영화 제목과 장르\n",
        "movie_genre_df = movies_original.copy()\n",
        "movie_genre_df[\"genres\"] = movie_genre_df['genres'].str.split(\"|\")\n",
        "movie_genre_df = movie_genre_df.explode([\"genres\"])[[\"title\", \"genres\"]].reset_index(drop=True)\n",
        "movie_genre_df = movie_genre_df[movie_genre_df[\"genres\"]!=\"(no genres listed)\"]\n",
        "\n",
        "# Crosstabulation\n",
        "genres_array_df = pd.crosstab(movie_genre_df[\"title\"], movie_genre_df[\"genres\"])\n",
        "display(genres_array_df.head())"
      ],
      "metadata": {
        "colab": {
          "base_uri": "https://localhost:8080/",
          "height": 509
        },
        "id": "N4TZrIbgJ57Z",
        "outputId": "ed001055-5afc-4808-a98d-1f8d78f6305d"
      },
      "execution_count": 136,
      "outputs": [
        {
          "output_type": "display_data",
          "data": {
            "text/html": [
              "\n",
              "  <div id=\"df-6b1c1219-a4a6-43c1-b657-ff7dcec6ae16\">\n",
              "    <div class=\"colab-df-container\">\n",
              "      <div>\n",
              "<style scoped>\n",
              "    .dataframe tbody tr th:only-of-type {\n",
              "        vertical-align: middle;\n",
              "    }\n",
              "\n",
              "    .dataframe tbody tr th {\n",
              "        vertical-align: top;\n",
              "    }\n",
              "\n",
              "    .dataframe thead th {\n",
              "        text-align: right;\n",
              "    }\n",
              "</style>\n",
              "<table border=\"1\" class=\"dataframe\">\n",
              "  <thead>\n",
              "    <tr style=\"text-align: right;\">\n",
              "      <th>genres</th>\n",
              "      <th>Action</th>\n",
              "      <th>Adventure</th>\n",
              "      <th>Animation</th>\n",
              "      <th>Children</th>\n",
              "      <th>Comedy</th>\n",
              "      <th>Crime</th>\n",
              "      <th>Documentary</th>\n",
              "      <th>Drama</th>\n",
              "      <th>Fantasy</th>\n",
              "      <th>Film-Noir</th>\n",
              "      <th>Horror</th>\n",
              "      <th>IMAX</th>\n",
              "      <th>Musical</th>\n",
              "      <th>Mystery</th>\n",
              "      <th>Romance</th>\n",
              "      <th>Sci-Fi</th>\n",
              "      <th>Thriller</th>\n",
              "      <th>War</th>\n",
              "      <th>Western</th>\n",
              "    </tr>\n",
              "    <tr>\n",
              "      <th>title</th>\n",
              "      <th></th>\n",
              "      <th></th>\n",
              "      <th></th>\n",
              "      <th></th>\n",
              "      <th></th>\n",
              "      <th></th>\n",
              "      <th></th>\n",
              "      <th></th>\n",
              "      <th></th>\n",
              "      <th></th>\n",
              "      <th></th>\n",
              "      <th></th>\n",
              "      <th></th>\n",
              "      <th></th>\n",
              "      <th></th>\n",
              "      <th></th>\n",
              "      <th></th>\n",
              "      <th></th>\n",
              "      <th></th>\n",
              "    </tr>\n",
              "  </thead>\n",
              "  <tbody>\n",
              "    <tr>\n",
              "      <th>'71 (2014)</th>\n",
              "      <td>1</td>\n",
              "      <td>0</td>\n",
              "      <td>0</td>\n",
              "      <td>0</td>\n",
              "      <td>0</td>\n",
              "      <td>0</td>\n",
              "      <td>0</td>\n",
              "      <td>1</td>\n",
              "      <td>0</td>\n",
              "      <td>0</td>\n",
              "      <td>0</td>\n",
              "      <td>0</td>\n",
              "      <td>0</td>\n",
              "      <td>0</td>\n",
              "      <td>0</td>\n",
              "      <td>0</td>\n",
              "      <td>1</td>\n",
              "      <td>1</td>\n",
              "      <td>0</td>\n",
              "    </tr>\n",
              "    <tr>\n",
              "      <th>'Hellboy': The Seeds of Creation (2004)</th>\n",
              "      <td>1</td>\n",
              "      <td>1</td>\n",
              "      <td>0</td>\n",
              "      <td>0</td>\n",
              "      <td>1</td>\n",
              "      <td>0</td>\n",
              "      <td>1</td>\n",
              "      <td>0</td>\n",
              "      <td>1</td>\n",
              "      <td>0</td>\n",
              "      <td>0</td>\n",
              "      <td>0</td>\n",
              "      <td>0</td>\n",
              "      <td>0</td>\n",
              "      <td>0</td>\n",
              "      <td>0</td>\n",
              "      <td>0</td>\n",
              "      <td>0</td>\n",
              "      <td>0</td>\n",
              "    </tr>\n",
              "    <tr>\n",
              "      <th>'Round Midnight (1986)</th>\n",
              "      <td>0</td>\n",
              "      <td>0</td>\n",
              "      <td>0</td>\n",
              "      <td>0</td>\n",
              "      <td>0</td>\n",
              "      <td>0</td>\n",
              "      <td>0</td>\n",
              "      <td>1</td>\n",
              "      <td>0</td>\n",
              "      <td>0</td>\n",
              "      <td>0</td>\n",
              "      <td>0</td>\n",
              "      <td>1</td>\n",
              "      <td>0</td>\n",
              "      <td>0</td>\n",
              "      <td>0</td>\n",
              "      <td>0</td>\n",
              "      <td>0</td>\n",
              "      <td>0</td>\n",
              "    </tr>\n",
              "    <tr>\n",
              "      <th>'Salem's Lot (2004)</th>\n",
              "      <td>0</td>\n",
              "      <td>0</td>\n",
              "      <td>0</td>\n",
              "      <td>0</td>\n",
              "      <td>0</td>\n",
              "      <td>0</td>\n",
              "      <td>0</td>\n",
              "      <td>1</td>\n",
              "      <td>0</td>\n",
              "      <td>0</td>\n",
              "      <td>1</td>\n",
              "      <td>0</td>\n",
              "      <td>0</td>\n",
              "      <td>1</td>\n",
              "      <td>0</td>\n",
              "      <td>0</td>\n",
              "      <td>1</td>\n",
              "      <td>0</td>\n",
              "      <td>0</td>\n",
              "    </tr>\n",
              "    <tr>\n",
              "      <th>'Til There Was You (1997)</th>\n",
              "      <td>0</td>\n",
              "      <td>0</td>\n",
              "      <td>0</td>\n",
              "      <td>0</td>\n",
              "      <td>0</td>\n",
              "      <td>0</td>\n",
              "      <td>0</td>\n",
              "      <td>1</td>\n",
              "      <td>0</td>\n",
              "      <td>0</td>\n",
              "      <td>0</td>\n",
              "      <td>0</td>\n",
              "      <td>0</td>\n",
              "      <td>0</td>\n",
              "      <td>1</td>\n",
              "      <td>0</td>\n",
              "      <td>0</td>\n",
              "      <td>0</td>\n",
              "      <td>0</td>\n",
              "    </tr>\n",
              "  </tbody>\n",
              "</table>\n",
              "</div>\n",
              "      <button class=\"colab-df-convert\" onclick=\"convertToInteractive('df-6b1c1219-a4a6-43c1-b657-ff7dcec6ae16')\"\n",
              "              title=\"Convert this dataframe to an interactive table.\"\n",
              "              style=\"display:none;\">\n",
              "        \n",
              "  <svg xmlns=\"http://www.w3.org/2000/svg\" height=\"24px\"viewBox=\"0 0 24 24\"\n",
              "       width=\"24px\">\n",
              "    <path d=\"M0 0h24v24H0V0z\" fill=\"none\"/>\n",
              "    <path d=\"M18.56 5.44l.94 2.06.94-2.06 2.06-.94-2.06-.94-.94-2.06-.94 2.06-2.06.94zm-11 1L8.5 8.5l.94-2.06 2.06-.94-2.06-.94L8.5 2.5l-.94 2.06-2.06.94zm10 10l.94 2.06.94-2.06 2.06-.94-2.06-.94-.94-2.06-.94 2.06-2.06.94z\"/><path d=\"M17.41 7.96l-1.37-1.37c-.4-.4-.92-.59-1.43-.59-.52 0-1.04.2-1.43.59L10.3 9.45l-7.72 7.72c-.78.78-.78 2.05 0 2.83L4 21.41c.39.39.9.59 1.41.59.51 0 1.02-.2 1.41-.59l7.78-7.78 2.81-2.81c.8-.78.8-2.07 0-2.86zM5.41 20L4 18.59l7.72-7.72 1.47 1.35L5.41 20z\"/>\n",
              "  </svg>\n",
              "      </button>\n",
              "      \n",
              "  <style>\n",
              "    .colab-df-container {\n",
              "      display:flex;\n",
              "      flex-wrap:wrap;\n",
              "      gap: 12px;\n",
              "    }\n",
              "\n",
              "    .colab-df-convert {\n",
              "      background-color: #E8F0FE;\n",
              "      border: none;\n",
              "      border-radius: 50%;\n",
              "      cursor: pointer;\n",
              "      display: none;\n",
              "      fill: #1967D2;\n",
              "      height: 32px;\n",
              "      padding: 0 0 0 0;\n",
              "      width: 32px;\n",
              "    }\n",
              "\n",
              "    .colab-df-convert:hover {\n",
              "      background-color: #E2EBFA;\n",
              "      box-shadow: 0px 1px 2px rgba(60, 64, 67, 0.3), 0px 1px 3px 1px rgba(60, 64, 67, 0.15);\n",
              "      fill: #174EA6;\n",
              "    }\n",
              "\n",
              "    [theme=dark] .colab-df-convert {\n",
              "      background-color: #3B4455;\n",
              "      fill: #D2E3FC;\n",
              "    }\n",
              "\n",
              "    [theme=dark] .colab-df-convert:hover {\n",
              "      background-color: #434B5C;\n",
              "      box-shadow: 0px 1px 3px 1px rgba(0, 0, 0, 0.15);\n",
              "      filter: drop-shadow(0px 1px 2px rgba(0, 0, 0, 0.3));\n",
              "      fill: #FFFFFF;\n",
              "    }\n",
              "  </style>\n",
              "\n",
              "      <script>\n",
              "        const buttonEl =\n",
              "          document.querySelector('#df-6b1c1219-a4a6-43c1-b657-ff7dcec6ae16 button.colab-df-convert');\n",
              "        buttonEl.style.display =\n",
              "          google.colab.kernel.accessAllowed ? 'block' : 'none';\n",
              "\n",
              "        async function convertToInteractive(key) {\n",
              "          const element = document.querySelector('#df-6b1c1219-a4a6-43c1-b657-ff7dcec6ae16');\n",
              "          const dataTable =\n",
              "            await google.colab.kernel.invokeFunction('convertToInteractive',\n",
              "                                                     [key], {});\n",
              "          if (!dataTable) return;\n",
              "\n",
              "          const docLinkHtml = 'Like what you see? Visit the ' +\n",
              "            '<a target=\"_blank\" href=https://colab.research.google.com/notebooks/data_table.ipynb>data table notebook</a>'\n",
              "            + ' to learn more about interactive tables.';\n",
              "          element.innerHTML = '';\n",
              "          dataTable['output_type'] = 'display_data';\n",
              "          await google.colab.output.renderOutput(dataTable, element);\n",
              "          const docLink = document.createElement('div');\n",
              "          docLink.innerHTML = docLinkHtml;\n",
              "          element.appendChild(docLink);\n",
              "        }\n",
              "      </script>\n",
              "    </div>\n",
              "  </div>\n",
              "  "
            ],
            "text/plain": [
              "genres                                   Action  Adventure  Animation  \\\n",
              "title                                                                   \n",
              "'71 (2014)                                    1          0          0   \n",
              "'Hellboy': The Seeds of Creation (2004)       1          1          0   \n",
              "'Round Midnight (1986)                        0          0          0   \n",
              "'Salem's Lot (2004)                           0          0          0   \n",
              "'Til There Was You (1997)                     0          0          0   \n",
              "\n",
              "genres                                   Children  Comedy  Crime  Documentary  \\\n",
              "title                                                                           \n",
              "'71 (2014)                                      0       0      0            0   \n",
              "'Hellboy': The Seeds of Creation (2004)         0       1      0            1   \n",
              "'Round Midnight (1986)                          0       0      0            0   \n",
              "'Salem's Lot (2004)                             0       0      0            0   \n",
              "'Til There Was You (1997)                       0       0      0            0   \n",
              "\n",
              "genres                                   Drama  Fantasy  Film-Noir  Horror  \\\n",
              "title                                                                        \n",
              "'71 (2014)                                   1        0          0       0   \n",
              "'Hellboy': The Seeds of Creation (2004)      0        1          0       0   \n",
              "'Round Midnight (1986)                       1        0          0       0   \n",
              "'Salem's Lot (2004)                          1        0          0       1   \n",
              "'Til There Was You (1997)                    1        0          0       0   \n",
              "\n",
              "genres                                   IMAX  Musical  Mystery  Romance  \\\n",
              "title                                                                      \n",
              "'71 (2014)                                  0        0        0        0   \n",
              "'Hellboy': The Seeds of Creation (2004)     0        0        0        0   \n",
              "'Round Midnight (1986)                      0        1        0        0   \n",
              "'Salem's Lot (2004)                         0        0        1        0   \n",
              "'Til There Was You (1997)                   0        0        0        1   \n",
              "\n",
              "genres                                   Sci-Fi  Thriller  War  Western  \n",
              "title                                                                    \n",
              "'71 (2014)                                    0         1    1        0  \n",
              "'Hellboy': The Seeds of Creation (2004)       0         0    0        0  \n",
              "'Round Midnight (1986)                        0         0    0        0  \n",
              "'Salem's Lot (2004)                           0         1    0        0  \n",
              "'Til There Was You (1997)                     0         0    0        0  "
            ]
          },
          "metadata": {}
        }
      ]
    },
    {
      "cell_type": "markdown",
      "source": [
        "### 2.2 Item간의 유사도 계산\n",
        "Jaccard Similarity $J(A, B)=\\frac{A\\cap B}{A\\cup B}$"
      ],
      "metadata": {
        "id": "GpJCraOaLYOX"
      }
    },
    {
      "cell_type": "code",
      "source": [
        "from sklearn.metrics import jaccard_score\n",
        "from scipy.spatial.distance import pdist, squareform\n",
        "toystory_row = genres_array_df.loc['Toy Story (1995)']\n",
        "jumanji_row = genres_array_df.loc['Jumanji (1995)']\n",
        "\n",
        "# 토이 스토리와 쥬만지의 자카드 유사도 = 0.6 (높다, 장르가 유사하다)\n",
        "print(jaccard_score(toystory_row, jumanji_row))\n",
        "\n",
        "jaccard_distances = pdist(genres_array_df.values, metric='jaccard')\n",
        "square_jaccard_distances = squareform(jaccard_distances)\n",
        "\n",
        "# 자카드 유사도 행렬\n",
        "jaccard_similarity_array = 1-square_jaccard_distances\n",
        "print(jaccard_similarity_array[:5, :5])"
      ],
      "metadata": {
        "colab": {
          "base_uri": "https://localhost:8080/"
        },
        "id": "spo3wkJ-LXzv",
        "outputId": "ba6b884b-3795-4530-cce0-7af8c626e600"
      },
      "execution_count": 137,
      "outputs": [
        {
          "output_type": "stream",
          "name": "stdout",
          "text": [
            "0.6\n",
            "[[1.         0.125      0.2        0.33333333 0.2       ]\n",
            " [0.125      1.         0.         0.         0.        ]\n",
            " [0.2        0.         1.         0.2        0.33333333]\n",
            " [0.33333333 0.         0.2        1.         0.2       ]\n",
            " [0.2        0.         0.33333333 0.2        1.        ]]\n"
          ]
        }
      ]
    },
    {
      "cell_type": "code",
      "source": [
        "similarity_df = pd.DataFrame(\n",
        "    jaccard_similarity_array,\n",
        "    index = genres_array_df.index,\n",
        "    columns = genres_array_df.index)\n",
        "# display(similarity_df.head())\n",
        "\n",
        "# 토이 스토리와 유사도가 높은 상위 10개의 영화 (자기 자신은 제외하자)\n",
        "print(similarity_df[\"Toy Story (1995)\"].sort_values(ascending=False)[:10])"
      ],
      "metadata": {
        "colab": {
          "base_uri": "https://localhost:8080/"
        },
        "id": "NP2I0NRuNv35",
        "outputId": "81edde29-1a32-414a-cfd8-ccb6ef307ef6"
      },
      "execution_count": 20,
      "outputs": [
        {
          "output_type": "stream",
          "name": "stdout",
          "text": [
            "title\n",
            "Emperor's New Groove, The (2000)                  1.0\n",
            "Adventures of Rocky and Bullwinkle, The (2000)    1.0\n",
            "Antz (1998)                                       1.0\n",
            "Toy Story 2 (1999)                                1.0\n",
            "Toy Story (1995)                                  1.0\n",
            "Shrek the Third (2007)                            1.0\n",
            "Moana (2016)                                      1.0\n",
            "Wild, The (2006)                                  1.0\n",
            "The Good Dinosaur (2015)                          1.0\n",
            "Monsters, Inc. (2001)                             1.0\n",
            "Name: Toy Story (1995), dtype: float64\n"
          ]
        }
      ]
    },
    {
      "cell_type": "markdown",
      "source": [
        "### 2.3 텍스트 기반 유사도\n",
        "TF-IDF (Term Frequency Inverse Document Frequency)\n",
        "\n",
        "$\\text{TF-IDF}=\\frac{\\frac{\\text{count of word occurrences}}{\\text{Total words in document}}}{\\log \\frac{\\text{Number of docs word is in}}{\\text{Total number of docs}}}$\n",
        "\n",
        "데이터 불러오기"
      ],
      "metadata": {
        "id": "5R4xnVNoPr7B"
      }
    },
    {
      "cell_type": "code",
      "source": [
        "book_summary_df = pd.read_csv(\"plots.csv\", sep=\",\")\n",
        "book_summary_df.head()"
      ],
      "metadata": {
        "colab": {
          "base_uri": "https://localhost:8080/",
          "height": 206
        },
        "id": "htagS9OuS8HD",
        "outputId": "3a355300-8e13-4e07-8ab4-eee44d1dd704"
      },
      "execution_count": 21,
      "outputs": [
        {
          "output_type": "execute_result",
          "data": {
            "text/html": [
              "\n",
              "  <div id=\"df-09d398f9-5ce0-4f80-982d-59f6b55d3d37\">\n",
              "    <div class=\"colab-df-container\">\n",
              "      <div>\n",
              "<style scoped>\n",
              "    .dataframe tbody tr th:only-of-type {\n",
              "        vertical-align: middle;\n",
              "    }\n",
              "\n",
              "    .dataframe tbody tr th {\n",
              "        vertical-align: top;\n",
              "    }\n",
              "\n",
              "    .dataframe thead th {\n",
              "        text-align: right;\n",
              "    }\n",
              "</style>\n",
              "<table border=\"1\" class=\"dataframe\">\n",
              "  <thead>\n",
              "    <tr style=\"text-align: right;\">\n",
              "      <th></th>\n",
              "      <th>Book</th>\n",
              "      <th>Description</th>\n",
              "    </tr>\n",
              "  </thead>\n",
              "  <tbody>\n",
              "    <tr>\n",
              "      <th>0</th>\n",
              "      <td>Ace Ventura: When Nature Calls</td>\n",
              "      <td>In the Himalayas, after a failed rescue missio...</td>\n",
              "    </tr>\n",
              "    <tr>\n",
              "      <th>1</th>\n",
              "      <td>Dracula: Dead and Loving It</td>\n",
              "      <td>Solicitor Thomas Renfield travels all the way ...</td>\n",
              "    </tr>\n",
              "    <tr>\n",
              "      <th>2</th>\n",
              "      <td>Father of the Bride Part II</td>\n",
              "      <td>\"The film begins five years after the events o...</td>\n",
              "    </tr>\n",
              "    <tr>\n",
              "      <th>3</th>\n",
              "      <td>Four Rooms</td>\n",
              "      <td>The film is set on New Year\\'s Eve, and starts...</td>\n",
              "    </tr>\n",
              "    <tr>\n",
              "      <th>4</th>\n",
              "      <td>Grumpier Old Men</td>\n",
              "      <td>The feud between Max (Walter Matthau) and John...</td>\n",
              "    </tr>\n",
              "  </tbody>\n",
              "</table>\n",
              "</div>\n",
              "      <button class=\"colab-df-convert\" onclick=\"convertToInteractive('df-09d398f9-5ce0-4f80-982d-59f6b55d3d37')\"\n",
              "              title=\"Convert this dataframe to an interactive table.\"\n",
              "              style=\"display:none;\">\n",
              "        \n",
              "  <svg xmlns=\"http://www.w3.org/2000/svg\" height=\"24px\"viewBox=\"0 0 24 24\"\n",
              "       width=\"24px\">\n",
              "    <path d=\"M0 0h24v24H0V0z\" fill=\"none\"/>\n",
              "    <path d=\"M18.56 5.44l.94 2.06.94-2.06 2.06-.94-2.06-.94-.94-2.06-.94 2.06-2.06.94zm-11 1L8.5 8.5l.94-2.06 2.06-.94-2.06-.94L8.5 2.5l-.94 2.06-2.06.94zm10 10l.94 2.06.94-2.06 2.06-.94-2.06-.94-.94-2.06-.94 2.06-2.06.94z\"/><path d=\"M17.41 7.96l-1.37-1.37c-.4-.4-.92-.59-1.43-.59-.52 0-1.04.2-1.43.59L10.3 9.45l-7.72 7.72c-.78.78-.78 2.05 0 2.83L4 21.41c.39.39.9.59 1.41.59.51 0 1.02-.2 1.41-.59l7.78-7.78 2.81-2.81c.8-.78.8-2.07 0-2.86zM5.41 20L4 18.59l7.72-7.72 1.47 1.35L5.41 20z\"/>\n",
              "  </svg>\n",
              "      </button>\n",
              "      \n",
              "  <style>\n",
              "    .colab-df-container {\n",
              "      display:flex;\n",
              "      flex-wrap:wrap;\n",
              "      gap: 12px;\n",
              "    }\n",
              "\n",
              "    .colab-df-convert {\n",
              "      background-color: #E8F0FE;\n",
              "      border: none;\n",
              "      border-radius: 50%;\n",
              "      cursor: pointer;\n",
              "      display: none;\n",
              "      fill: #1967D2;\n",
              "      height: 32px;\n",
              "      padding: 0 0 0 0;\n",
              "      width: 32px;\n",
              "    }\n",
              "\n",
              "    .colab-df-convert:hover {\n",
              "      background-color: #E2EBFA;\n",
              "      box-shadow: 0px 1px 2px rgba(60, 64, 67, 0.3), 0px 1px 3px 1px rgba(60, 64, 67, 0.15);\n",
              "      fill: #174EA6;\n",
              "    }\n",
              "\n",
              "    [theme=dark] .colab-df-convert {\n",
              "      background-color: #3B4455;\n",
              "      fill: #D2E3FC;\n",
              "    }\n",
              "\n",
              "    [theme=dark] .colab-df-convert:hover {\n",
              "      background-color: #434B5C;\n",
              "      box-shadow: 0px 1px 3px 1px rgba(0, 0, 0, 0.15);\n",
              "      filter: drop-shadow(0px 1px 2px rgba(0, 0, 0, 0.3));\n",
              "      fill: #FFFFFF;\n",
              "    }\n",
              "  </style>\n",
              "\n",
              "      <script>\n",
              "        const buttonEl =\n",
              "          document.querySelector('#df-09d398f9-5ce0-4f80-982d-59f6b55d3d37 button.colab-df-convert');\n",
              "        buttonEl.style.display =\n",
              "          google.colab.kernel.accessAllowed ? 'block' : 'none';\n",
              "\n",
              "        async function convertToInteractive(key) {\n",
              "          const element = document.querySelector('#df-09d398f9-5ce0-4f80-982d-59f6b55d3d37');\n",
              "          const dataTable =\n",
              "            await google.colab.kernel.invokeFunction('convertToInteractive',\n",
              "                                                     [key], {});\n",
              "          if (!dataTable) return;\n",
              "\n",
              "          const docLinkHtml = 'Like what you see? Visit the ' +\n",
              "            '<a target=\"_blank\" href=https://colab.research.google.com/notebooks/data_table.ipynb>data table notebook</a>'\n",
              "            + ' to learn more about interactive tables.';\n",
              "          element.innerHTML = '';\n",
              "          dataTable['output_type'] = 'display_data';\n",
              "          await google.colab.output.renderOutput(dataTable, element);\n",
              "          const docLink = document.createElement('div');\n",
              "          docLink.innerHTML = docLinkHtml;\n",
              "          element.appendChild(docLink);\n",
              "        }\n",
              "      </script>\n",
              "    </div>\n",
              "  </div>\n",
              "  "
            ],
            "text/plain": [
              "                             Book  \\\n",
              "0  Ace Ventura: When Nature Calls   \n",
              "1     Dracula: Dead and Loving It   \n",
              "2     Father of the Bride Part II   \n",
              "3                      Four Rooms   \n",
              "4                Grumpier Old Men   \n",
              "\n",
              "                                         Description  \n",
              "0  In the Himalayas, after a failed rescue missio...  \n",
              "1  Solicitor Thomas Renfield travels all the way ...  \n",
              "2  \"The film begins five years after the events o...  \n",
              "3  The film is set on New Year\\'s Eve, and starts...  \n",
              "4  The feud between Max (Walter Matthau) and John...  "
            ]
          },
          "metadata": {},
          "execution_count": 21
        }
      ]
    },
    {
      "cell_type": "markdown",
      "source": [
        "책 요약 줄거리를 가지고 TF-IDF 방식으로 각 책의 특성을 벡터화 하기"
      ],
      "metadata": {
        "id": "MELj0OoqXXYB"
      }
    },
    {
      "cell_type": "code",
      "source": [
        "from sklearn.feature_extraction.text import TfidfVectorizer\n",
        "\n",
        "tfidfvec = TfidfVectorizer(min_df=2, max_df=.7)\n",
        "vectorized_data = tfidfvec.fit_transform(book_summary_df['Description'])\n",
        "print(tfidfvec.get_feature_names())\n",
        "# print(vectorized_data.toarray())\n",
        "\n",
        "tfidf_df = pd.DataFrame(\n",
        "    vectorized_data.toarray(),\n",
        "    columns=tfidfvec.get_feature_names()\n",
        ")\n",
        "tfidf_df.index = book_summary_df['Book']\n",
        "print(tfidf_df.head())"
      ],
      "metadata": {
        "id": "Glr45MXEPrci"
      },
      "execution_count": null,
      "outputs": []
    },
    {
      "cell_type": "markdown",
      "source": [
        "Cosine similarity $\\cos \\theta = \\frac{A\\cdot B}{\\vert\\vert A\\vert\\vert \\cdot \\vert\\vert B\\vert\\vert}$\n",
        "\n",
        "책마다 단어들을 기반으로 특성을 벡터화했으면, 두 벡터의 코사인 유사도를 계산하여 책 간의 유사도 계산"
      ],
      "metadata": {
        "id": "-5O3RlN3SF2h"
      }
    },
    {
      "cell_type": "code",
      "source": [
        "from sklearn.metrics.pairwise import cosine_similarity\n",
        "cosine_similarity_array = cosine_similarity(tfidf_df)\n",
        "cosine_similarity(\n",
        "    tfidf_df.loc['Four Rooms'].values.reshape(1, -1),\n",
        "    tfidf_df.loc['Grumpier Old Men'].values.reshape(1, -1)\n",
        ")"
      ],
      "metadata": {
        "colab": {
          "base_uri": "https://localhost:8080/"
        },
        "id": "MxesdeyCSF9O",
        "outputId": "d8153303-21dc-4305-a467-5bddf28dd91a"
      },
      "execution_count": 23,
      "outputs": [
        {
          "output_type": "execute_result",
          "data": {
            "text/plain": [
              "array([[0.21411564]])"
            ]
          },
          "metadata": {},
          "execution_count": 23
        }
      ]
    },
    {
      "cell_type": "markdown",
      "source": [
        "### 사용자 프로파일 기반 추천\n",
        "\n",
        "Item to item recommendation\n",
        "1. 사용자가 읽은 책 리스트를 추출한다.\n",
        "2. 책 리스트의 특성들을 기반으로 사용자의 프로파일을 생성한다.\n",
        "3. 사용자의 프로파일과 유사도가 높은 책들을 추천한다\n"
      ],
      "metadata": {
        "id": "z12jIn0vYG2R"
      }
    },
    {
      "cell_type": "code",
      "source": [
        "# 사용자 A가 읽은 책\n",
        "list_of_books_read = [\"Four Rooms\", \"Grumpier Old Men\"]\n",
        "user_books = tfidf_df.reindex(list_of_books_read)\n",
        "\n",
        "# 사용자 A의 프로파일: 책의 특성들의 평균\n",
        "user_prof = user_books.mean()\n",
        "# 사용자 A가 읽은 책 제외\n",
        "non_user_books = tfidf_df.drop(list_of_books_read, axis = 0)\n",
        "# 사용자의 프로파일과 나머지 책들 간의 코사인 유사도 계산\n",
        "user_prof_similarity = cosine_similarity(user_prof.values.reshape(1, -1), non_user_books)\n",
        "\n",
        "user_prof_similarity_df = pd.DataFrame(\n",
        "    user_prof_similarity.T,\n",
        "    index = non_user_books.index,\n",
        "    columns = [\"cosine_similarity_score\"]\n",
        ").sort_values(\"cosine_similarity_score\", ascending=False)\n",
        "user_prof_similarity_df.head()"
      ],
      "metadata": {
        "colab": {
          "base_uri": "https://localhost:8080/",
          "height": 237
        },
        "id": "gZQbgF2JYSuI",
        "outputId": "c7e6119f-513e-4c03-b880-a121209422a0"
      },
      "execution_count": 24,
      "outputs": [
        {
          "output_type": "execute_result",
          "data": {
            "text/html": [
              "\n",
              "  <div id=\"df-17abe8b0-9498-4df5-b939-573b559ad69b\">\n",
              "    <div class=\"colab-df-container\">\n",
              "      <div>\n",
              "<style scoped>\n",
              "    .dataframe tbody tr th:only-of-type {\n",
              "        vertical-align: middle;\n",
              "    }\n",
              "\n",
              "    .dataframe tbody tr th {\n",
              "        vertical-align: top;\n",
              "    }\n",
              "\n",
              "    .dataframe thead th {\n",
              "        text-align: right;\n",
              "    }\n",
              "</style>\n",
              "<table border=\"1\" class=\"dataframe\">\n",
              "  <thead>\n",
              "    <tr style=\"text-align: right;\">\n",
              "      <th></th>\n",
              "      <th>cosine_similarity_score</th>\n",
              "    </tr>\n",
              "    <tr>\n",
              "      <th>Book</th>\n",
              "      <th></th>\n",
              "    </tr>\n",
              "  </thead>\n",
              "  <tbody>\n",
              "    <tr>\n",
              "      <th>Father of the Bride Part II</th>\n",
              "      <td>0.257056</td>\n",
              "    </tr>\n",
              "    <tr>\n",
              "      <th>Toy Story</th>\n",
              "      <td>0.255008</td>\n",
              "    </tr>\n",
              "    <tr>\n",
              "      <th>Dracula: Dead and Loving It</th>\n",
              "      <td>0.229904</td>\n",
              "    </tr>\n",
              "    <tr>\n",
              "      <th>Jumanji</th>\n",
              "      <td>0.214510</td>\n",
              "    </tr>\n",
              "    <tr>\n",
              "      <th>Tom and Huck</th>\n",
              "      <td>0.209247</td>\n",
              "    </tr>\n",
              "  </tbody>\n",
              "</table>\n",
              "</div>\n",
              "      <button class=\"colab-df-convert\" onclick=\"convertToInteractive('df-17abe8b0-9498-4df5-b939-573b559ad69b')\"\n",
              "              title=\"Convert this dataframe to an interactive table.\"\n",
              "              style=\"display:none;\">\n",
              "        \n",
              "  <svg xmlns=\"http://www.w3.org/2000/svg\" height=\"24px\"viewBox=\"0 0 24 24\"\n",
              "       width=\"24px\">\n",
              "    <path d=\"M0 0h24v24H0V0z\" fill=\"none\"/>\n",
              "    <path d=\"M18.56 5.44l.94 2.06.94-2.06 2.06-.94-2.06-.94-.94-2.06-.94 2.06-2.06.94zm-11 1L8.5 8.5l.94-2.06 2.06-.94-2.06-.94L8.5 2.5l-.94 2.06-2.06.94zm10 10l.94 2.06.94-2.06 2.06-.94-2.06-.94-.94-2.06-.94 2.06-2.06.94z\"/><path d=\"M17.41 7.96l-1.37-1.37c-.4-.4-.92-.59-1.43-.59-.52 0-1.04.2-1.43.59L10.3 9.45l-7.72 7.72c-.78.78-.78 2.05 0 2.83L4 21.41c.39.39.9.59 1.41.59.51 0 1.02-.2 1.41-.59l7.78-7.78 2.81-2.81c.8-.78.8-2.07 0-2.86zM5.41 20L4 18.59l7.72-7.72 1.47 1.35L5.41 20z\"/>\n",
              "  </svg>\n",
              "      </button>\n",
              "      \n",
              "  <style>\n",
              "    .colab-df-container {\n",
              "      display:flex;\n",
              "      flex-wrap:wrap;\n",
              "      gap: 12px;\n",
              "    }\n",
              "\n",
              "    .colab-df-convert {\n",
              "      background-color: #E8F0FE;\n",
              "      border: none;\n",
              "      border-radius: 50%;\n",
              "      cursor: pointer;\n",
              "      display: none;\n",
              "      fill: #1967D2;\n",
              "      height: 32px;\n",
              "      padding: 0 0 0 0;\n",
              "      width: 32px;\n",
              "    }\n",
              "\n",
              "    .colab-df-convert:hover {\n",
              "      background-color: #E2EBFA;\n",
              "      box-shadow: 0px 1px 2px rgba(60, 64, 67, 0.3), 0px 1px 3px 1px rgba(60, 64, 67, 0.15);\n",
              "      fill: #174EA6;\n",
              "    }\n",
              "\n",
              "    [theme=dark] .colab-df-convert {\n",
              "      background-color: #3B4455;\n",
              "      fill: #D2E3FC;\n",
              "    }\n",
              "\n",
              "    [theme=dark] .colab-df-convert:hover {\n",
              "      background-color: #434B5C;\n",
              "      box-shadow: 0px 1px 3px 1px rgba(0, 0, 0, 0.15);\n",
              "      filter: drop-shadow(0px 1px 2px rgba(0, 0, 0, 0.3));\n",
              "      fill: #FFFFFF;\n",
              "    }\n",
              "  </style>\n",
              "\n",
              "      <script>\n",
              "        const buttonEl =\n",
              "          document.querySelector('#df-17abe8b0-9498-4df5-b939-573b559ad69b button.colab-df-convert');\n",
              "        buttonEl.style.display =\n",
              "          google.colab.kernel.accessAllowed ? 'block' : 'none';\n",
              "\n",
              "        async function convertToInteractive(key) {\n",
              "          const element = document.querySelector('#df-17abe8b0-9498-4df5-b939-573b559ad69b');\n",
              "          const dataTable =\n",
              "            await google.colab.kernel.invokeFunction('convertToInteractive',\n",
              "                                                     [key], {});\n",
              "          if (!dataTable) return;\n",
              "\n",
              "          const docLinkHtml = 'Like what you see? Visit the ' +\n",
              "            '<a target=\"_blank\" href=https://colab.research.google.com/notebooks/data_table.ipynb>data table notebook</a>'\n",
              "            + ' to learn more about interactive tables.';\n",
              "          element.innerHTML = '';\n",
              "          dataTable['output_type'] = 'display_data';\n",
              "          await google.colab.output.renderOutput(dataTable, element);\n",
              "          const docLink = document.createElement('div');\n",
              "          docLink.innerHTML = docLinkHtml;\n",
              "          element.appendChild(docLink);\n",
              "        }\n",
              "      </script>\n",
              "    </div>\n",
              "  </div>\n",
              "  "
            ],
            "text/plain": [
              "                             cosine_similarity_score\n",
              "Book                                                \n",
              "Father of the Bride Part II                 0.257056\n",
              "Toy Story                                   0.255008\n",
              "Dracula: Dead and Loving It                 0.229904\n",
              "Jumanji                                     0.214510\n",
              "Tom and Huck                                0.209247"
            ]
          },
          "metadata": {},
          "execution_count": 24
        }
      ]
    },
    {
      "cell_type": "markdown",
      "source": [
        "## 3. Collaborative Filtering\n",
        "---\n",
        "사용자 간의 유사성을 활용한다\n",
        "- 사용자 A, B, C는 책 X를 좋아한다\n",
        "- 사용자 B, C는 책 Y를 좋아한다\n",
        "\n",
        "$\\therefore$ 사용자 A에게는 (책 Y를 읽지 않았으므로) 책 Y를 추천해줄 수 있다\n",
        "\n",
        "1. 피벗 테이블을 생성한다.\n",
        "- 행은 userId\n",
        "- 열은 영화\n",
        "- 값은 평점\n",
        "\n",
        "2. 사용자마다 NaN이 아닌 값으로 평균 평점을 만들고\n",
        "그 평균 값을 평점에서 뺀다\n",
        "- Zero-Centered values\n",
        "\n"
      ],
      "metadata": {
        "id": "h7W3qZwRa-UX"
      }
    },
    {
      "cell_type": "code",
      "source": [
        "user_ratings = user_ratings.drop_duplicates([\"userId\", \"title\"])\n",
        "user_ratings_pivot = user_ratings.pivot(\n",
        "    index = \"userId\",\n",
        "    columns = \"title\",\n",
        "    values = \"rating\"\n",
        ")\n",
        "\n",
        "avg_ratings = user_ratings_pivot.mean(axis=1)\n",
        "user_ratings_pivot_centered = user_ratings_pivot.sub(avg_ratings, axis=0).fillna(0)\n",
        "\n",
        "movie_ratings_pivot = user_ratings_pivot.T\n",
        "movie_ratings_pivot_centered = user_ratings_pivot_centered.T"
      ],
      "metadata": {
        "id": "M0LUTB0Ca-f3"
      },
      "execution_count": 147,
      "outputs": []
    },
    {
      "cell_type": "markdown",
      "source": [
        "### 3.1 User-based와 Item-based\n",
        "- User-based는 (사용자, 아이템)의 행렬\n",
        "- Item-based는 (아이템, 사용자)의 행렬\n",
        "\n",
        "Item-item similarity\n",
        "- 영화 간의 Cosine similarity\n",
        "- Toy Story (1995)와 유사도가 높은 영화 찾기"
      ],
      "metadata": {
        "id": "Gb207SHnfrqH"
      }
    },
    {
      "cell_type": "code",
      "source": [
        "similarities = cosine_similarity(movie_ratings_pivot_centered)\n",
        "similarities_df = pd.DataFrame(\n",
        "    similarities,\n",
        "    index = movie_ratings_pivot.index,\n",
        "    columns = movie_ratings_pivot.index\n",
        ")\n",
        "\n",
        "cosine_similarity_series = similarities_df.loc['Toy Story (1995)']\n",
        "ordered_similarities = cosine_similarity_series.sort_values(ascending=False)\n",
        "# print(ordered_similarities)"
      ],
      "metadata": {
        "colab": {
          "base_uri": "https://localhost:8080/"
        },
        "id": "4mMBJeBkgiwh",
        "outputId": "2d96b11f-817d-454f-88de-91ab5cf016ad"
      },
      "execution_count": 148,
      "outputs": [
        {
          "output_type": "stream",
          "name": "stdout",
          "text": [
            "title\n",
            "Toy Story (1995)                               1.000000\n",
            "Toy Story 2 (1999)                             0.403420\n",
            "Toy Story 3 (2010)                             0.327485\n",
            "Aladdin (1992)                                 0.327245\n",
            "Wallace & Gromit: The Wrong Trousers (1993)    0.305483\n",
            "                                                 ...   \n",
            "Honey, I Blew Up the Kid (1992)               -0.222452\n",
            "Batman & Robin (1997)                         -0.223622\n",
            "Around the World in 80 Days (2004)            -0.229409\n",
            "Mixed Nuts (1994)                             -0.233548\n",
            "Flintstones in Viva Rock Vegas, The (2000)    -0.285490\n",
            "Name: Toy Story (1995), Length: 9719, dtype: float64\n"
          ]
        }
      ]
    },
    {
      "cell_type": "markdown",
      "source": [
        "User-user similarity\n",
        "- 사용자 A (userId = 1)과 가장 유사하게 평점을 준 사용자들을 나열\n",
        "- Top 3명을 골라서, 그들이 Aladdin (1992) 영화에 부여한 평점 보기"
      ],
      "metadata": {
        "id": "Kw3YovgpicPs"
      }
    },
    {
      "cell_type": "code",
      "source": [
        "similarities = cosine_similarity(user_ratings_pivot_centered)\n",
        "similarities_df = pd.DataFrame(\n",
        "    similarities,\n",
        "    index = user_ratings_pivot.index,\n",
        "    columns = user_ratings_pivot.index\n",
        ")\n",
        "\n",
        "cosine_similarity_series = similarities_df.loc[1]\n",
        "ordered_similarities = cosine_similarity_series.sort_values(ascending=False)\n",
        "nearest_neighbors = ordered_similarities[1:4].index\n",
        "print(nearest_neighbors)\n",
        "\n",
        "neighbor_ratings = user_ratings_pivot.reindex(nearest_neighbors)\n",
        "neighbor_ratings['Aladdin (1992)'].mean()"
      ],
      "metadata": {
        "colab": {
          "base_uri": "https://localhost:8080/"
        },
        "id": "LmzFa-bSicWj",
        "outputId": "55d8ad0e-fd55-4c6d-a8bb-0d62c16544c8"
      },
      "execution_count": 149,
      "outputs": [
        {
          "output_type": "stream",
          "name": "stdout",
          "text": [
            "Int64Index([301, 597, 414], dtype='int64', name='userId')\n"
          ]
        },
        {
          "output_type": "execute_result",
          "data": {
            "text/plain": [
              "4.0"
            ]
          },
          "metadata": {},
          "execution_count": 149
        }
      ]
    },
    {
      "cell_type": "markdown",
      "source": [
        "### 3.2 K-Nearest Neighborhood (KNN)\n",
        "사용자 A와 유사한 K명을 고르기"
      ],
      "metadata": {
        "id": "gRh-P0U9laFC"
      }
    },
    {
      "cell_type": "code",
      "source": [
        "user_ratings_table = user_ratings_pivot\n",
        "user_ratings_pivot = user_ratings_pivot_centered"
      ],
      "metadata": {
        "id": "4rAB0ox2laK6"
      },
      "execution_count": 150,
      "outputs": []
    },
    {
      "cell_type": "code",
      "source": [
        "user_ratings_pivot.drop(\"Aladdin (1992)\", axis=1, inplace=True)\n",
        "# userId 1의 평점 (Aladdin 제외) \n",
        "target_user_x = user_ratings_pivot.loc[[1]]\n",
        "# print(target_user_x)"
      ],
      "metadata": {
        "id": "SY0qnmJClr6D"
      },
      "execution_count": 151,
      "outputs": []
    },
    {
      "cell_type": "code",
      "source": [
        "# Aladdin에 영화에 대한 각 사용자들의 평점\n",
        "other_users_y = user_ratings_table[\"Aladdin (1992)\"]\n",
        "\n",
        "# Aladdin을 본 사람들의 영화 정규화 평점\n",
        "other_users_x = user_ratings_pivot[other_users_y.notnull()]\n",
        "# print(other_users_x)\n",
        "\n",
        "other_users_y.dropna(inplace=True)\n",
        "# print(other_users_y)"
      ],
      "metadata": {
        "id": "TEIHa3Ycl3RI"
      },
      "execution_count": null,
      "outputs": []
    },
    {
      "cell_type": "code",
      "source": [
        "from sklearn.neighbors import KNeighborsRegressor\n",
        "user_knn = KNeighborsRegressor(metric='cosine', n_neighbors=3)\n",
        "user_knn.fit(other_users_x, other_users_y)\n",
        "user_user_pred = user_knn.predict(target_user_x)\n",
        "print(user_user_pred)"
      ],
      "metadata": {
        "colab": {
          "base_uri": "https://localhost:8080/"
        },
        "id": "P0HO0Gumm7aB",
        "outputId": "1332164c-e44e-4ae9-ad83-701d310b8b63"
      },
      "execution_count": 153,
      "outputs": [
        {
          "output_type": "stream",
          "name": "stdout",
          "text": [
            "[3.66666667]\n"
          ]
        }
      ]
    },
    {
      "cell_type": "code",
      "source": [
        "## 평점 y는 .5 단위인데, KNN에서 y (label)는 정수여야 해서 값을 변환한다.\n",
        "unique_values_y = sorted(list(set(other_users_y)))\n",
        "dict_encode = {item: i for i, item in enumerate(unique_values_y)}\n",
        "dict_decode = {i: item for i, item in enumerate(unique_values_y)}\n",
        "\n",
        "other_users_y = np.array([dict_encode[item] for item in other_users_y])"
      ],
      "metadata": {
        "id": "g-Yv0VlmphXT"
      },
      "execution_count": 154,
      "outputs": []
    },
    {
      "cell_type": "code",
      "source": [
        "# other_users_x = other_users_x.to_numpy()\n",
        "# other_users_y = other_users_y.to_numpy()\n",
        "\n",
        "from sklearn.neighbors import KNeighborsClassifier\n",
        "user_knn = KNeighborsClassifier(metric='cosine', n_neighbors=3)\n",
        "user_knn.fit(other_users_x, other_users_y)\n",
        "user_user_pred = user_knn.predict(target_user_x)\n",
        "# print(user_user_pred)\n",
        "print(\"Predicted score of Aladdin: \", dict_decode[user_user_pred[0]])"
      ],
      "metadata": {
        "colab": {
          "base_uri": "https://localhost:8080/"
        },
        "id": "OPERGo8RnZMZ",
        "outputId": "b79f919b-832c-4f1d-b0bb-13ebe74fc1c7"
      },
      "execution_count": 156,
      "outputs": [
        {
          "output_type": "stream",
          "name": "stdout",
          "text": [
            "Predicted score of Aladdin:  4.0\n"
          ]
        }
      ]
    },
    {
      "cell_type": "markdown",
      "source": [
        "### 3.3 Summary\n",
        "Recommendation의 목적은 결국 \"특정 사용자\"가 \"가장 좋아할만한 Item\"을 제안하는 것\n",
        "- Item-based\n",
        "  - Item 간의 유사도를 미리 계산해두고\n",
        "  - 사용자가 선택한 Item list의 특성에 따라서 다른 Item에 대한 사용자의 선호도를 계산\n",
        "- User-based\n",
        "  - 사용자들 간의 유사도를 계산하고 \n",
        "  - 특정 사용자와 가장 비슷한 사용자들이 선호하는 제품들 중에서 선택\n",
        "\n",
        "||Pros|Cons|\n",
        "|---|---|---|\n",
        "|Item-based|시간이 지나도 일관성이 있는 결과, 설명하기 쉬움, 미리 계산할 수 있음|결과가 너무 명백하다|\n",
        "|User-based|다른 사용자들의 성향에 따라 흥미로운 결과 도출이 가능하다|-|"
      ],
      "metadata": {
        "id": "AmqXkJ4Tr6Ns"
      }
    },
    {
      "cell_type": "markdown",
      "source": [
        "## 4. Matrix Factorization\n",
        "---\n",
        "Data sparsity $s = \\frac{\\text{Empty values}}{\\text{Total cells}}$\n",
        "\n",
        "Sparsity를 고려해야 하는 이유\n",
        "- $s$가 크다는 것은 사용자 데이터가 많이 없다는 것을 의미\n",
        "- 이러한 경우 KNN 방식을 쓰기에는 n_neighbor개 만큼의 데이터가 없을 확률이 높으므로 유의미한 결과를 얻기 어렵다."
      ],
      "metadata": {
        "id": "PN4ho0hmNVwF"
      }
    },
    {
      "cell_type": "code",
      "source": [
        "user_ratings = user_ratings.drop_duplicates([\"userId\", \"title\"])\n",
        "user_ratings_pivot = user_ratings.pivot(\n",
        "    index = \"userId\",\n",
        "    columns = \"title\",\n",
        "    values = \"rating\"\n",
        ")\n",
        "movie_ratings_df = user_ratings_pivot.copy()\n",
        "\n",
        "number_of_empty = movie_ratings_df.isnull().values.sum()\n",
        "total_number = movie_ratings_df.size\n",
        "\n",
        "sparsity = number_of_empty / total_number\n",
        "print(sparsity)\n",
        "print(movie_ratings_df.notnull().sum())"
      ],
      "metadata": {
        "colab": {
          "base_uri": "https://localhost:8080/"
        },
        "id": "DsIHI6tYNl_z",
        "outputId": "91f12a29-ac88-4f9d-c7e1-d0c324491b4c"
      },
      "execution_count": 104,
      "outputs": [
        {
          "output_type": "stream",
          "name": "stdout",
          "text": [
            "0.9829922460483859\n",
            "title\n",
            "'71 (2014)                                    1\n",
            "'Hellboy': The Seeds of Creation (2004)       1\n",
            "'Round Midnight (1986)                        2\n",
            "'Salem's Lot (2004)                           1\n",
            "'Til There Was You (1997)                     2\n",
            "                                             ..\n",
            "eXistenZ (1999)                              22\n",
            "xXx (2002)                                   24\n",
            "xXx: State of the Union (2005)                5\n",
            "¡Three Amigos! (1986)                        26\n",
            "À nous la liberté (Freedom for Us) (1931)     1\n",
            "Length: 9719, dtype: int64\n"
          ]
        }
      ]
    },
    {
      "cell_type": "markdown",
      "source": [
        "### 4.1 SVD (Singular Value Decomposition)"
      ],
      "metadata": {
        "id": "33EEYC3sPH-4"
      }
    },
    {
      "cell_type": "code",
      "source": [
        "avg_ratings = movie_ratings_df.mean(axis=1)\n",
        "movie_ratings_pivot_centered = movie_ratings_df.sub(\n",
        "    avg_ratings, axis=0\n",
        ")\n",
        "movie_ratings_pivot_centered.fillna(0, inplace=True)\n",
        "movie_ratings_pivot_centered"
      ],
      "metadata": {
        "id": "P87bakpcPK7R"
      },
      "execution_count": null,
      "outputs": []
    },
    {
      "cell_type": "code",
      "source": [
        "from scipy.sparse.linalg import svds\n",
        "U, sigma, Vt = svds(movie_ratings_pivot_centered)"
      ],
      "metadata": {
        "id": "TUn0MpYbP8my"
      },
      "execution_count": 71,
      "outputs": []
    },
    {
      "cell_type": "code",
      "source": [
        "sigma = np.diag(sigma)\n",
        "recalculated_ratings = np.dot(np.dot(U, sigma), Vt)\n",
        "recalculated_ratings += avg_ratings.values.reshape(-1, 1)\n",
        "recalculated_ratings = pd.DataFrame(\n",
        "    recalculated_ratings,\n",
        "    index = movie_ratings_df.index,\n",
        "    columns = movie_ratings_df.columns\n",
        ")"
      ],
      "metadata": {
        "id": "jncizj9EQERI"
      },
      "execution_count": 72,
      "outputs": []
    },
    {
      "cell_type": "markdown",
      "source": [
        "### 4.2 Validating predicted results\n",
        "\n",
        "Hold-out sets"
      ],
      "metadata": {
        "id": "Rm2j1nmsQo8e"
      }
    },
    {
      "cell_type": "code",
      "source": [
        "x, y = 60, 100\n",
        "movie_ratings_df_copy = movie_ratings_df.copy()\n",
        "\n",
        "actual_values = movie_ratings_df_copy.iloc[-x:, -y:].values.copy()\n",
        "\n",
        "movie_ratings_df_copy.iloc[-x:, -y:] = np.nan\n",
        "\n",
        "predicted_values = recalculated_ratings.iloc[:x, :y].values.copy()\n",
        "mask = ~np.isnan(actual_values)\n",
        "# print(actual_values[mask])\n",
        "# print(predicted_values[mask])"
      ],
      "metadata": {
        "id": "1niO-aORREK3"
      },
      "execution_count": null,
      "outputs": []
    },
    {
      "cell_type": "code",
      "source": [
        "from sklearn.metrics import mean_squared_error\n",
        "\n",
        "print(\n",
        "    mean_squared_error(\n",
        "        actual_values[mask],\n",
        "        predicted_values[mask],\n",
        "        squared=False\n",
        "    )\n",
        ")"
      ],
      "metadata": {
        "colab": {
          "base_uri": "https://localhost:8080/"
        },
        "id": "nBOAAkfcXqHm",
        "outputId": "830f34a4-e014-499a-ee3d-a439cfd93546"
      },
      "execution_count": 128,
      "outputs": [
        {
          "output_type": "stream",
          "name": "stdout",
          "text": [
            "1.251051392368875\n"
          ]
        }
      ]
    }
  ]
}