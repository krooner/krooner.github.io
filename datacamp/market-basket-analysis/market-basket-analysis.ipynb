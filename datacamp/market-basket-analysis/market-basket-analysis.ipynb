{
  "nbformat": 4,
  "nbformat_minor": 0,
  "metadata": {
    "colab": {
      "name": "datacamp-market-basket-analysis-in-python.ipynb",
      "provenance": [],
      "collapsed_sections": [],
      "authorship_tag": "ABX9TyO0ZUyTvTuqehcvH7a6Joyn",
      "include_colab_link": true
    },
    "kernelspec": {
      "name": "python3",
      "display_name": "Python 3"
    },
    "language_info": {
      "name": "python"
    }
  },
  "cells": [
    {
      "cell_type": "markdown",
      "metadata": {
        "id": "view-in-github",
        "colab_type": "text"
      },
      "source": [
        "<a href=\"https://colab.research.google.com/github/krooner/building-recommendation-engines/blob/main/datacamp_market_basket_analysis_in_python.ipynb\" target=\"_parent\"><img src=\"https://colab.research.google.com/assets/colab-badge.svg\" alt=\"Open In Colab\"/></a>"
      ]
    },
    {
      "cell_type": "markdown",
      "source": [
        "# Python 기반 장바구니 분석 (Market basket analysis)\n",
        "---\n",
        "from [Datacamp](https://app.datacamp.com/learn/courses/market-basket-analysis-in-python)\n",
        "\n",
        "## Introduction\n",
        "장바구니 분석이란\n",
        "  - 같이 구매하는 빈도가 높은 제품들의 집합을 찾는다: 전기 (Biography)와 역사 (History) 책 / 소설과 시\n",
        "  - 위의 결과를 토대로 제품을 추천한다: 전기와 역사 카테고리를 같이 둔다\n",
        "\n",
        "적용 분야\n",
        "  - 넷플릭스의 추천 엔진, 이커머스 플랫폼의 제품 추천 기능, 재고 관리 향상\n",
        "  - 크로스셀링: 한 제품을 구입한 고객이 다른 제품을 추가로 구입할 수 있도록 유도하는 것\n",
        "  - 업셀링: 제품을 더 많이 팔 수 있도록 함\n",
        "\n",
        "데이터 활용\n",
        "\n",
        "|TID|Transaction|\n",
        "|---|---|\n",
        "|11|fiction, biography|\n",
        "|12|fiction, biography|\n",
        "|13|history, biography|\n",
        "|...|...|\n",
        "|19|fiction, biography|\n",
        "|20|fiction, biography|\n",
        "|...|...|\n",
        "\n",
        "- 장바구니 분석을 위해 Association rule을 만들고 함께 자주 구매되는 제품들을 찾는다\n",
        "- 연관 규칙 (Association rule)\n",
        "  - `If, then` 구조로, $\\{\\text{antecedent}\\}\\rightarrow\\{\\text{consequent}\\}$ 형태를 나타낸다.\n",
        "    - $\\{\\text{fiction}\\}\\rightarrow\\{\\text{biography}\\}$\n"
      ],
      "metadata": {
        "id": "iJT5QlH32IFx"
      }
    },
    {
      "cell_type": "markdown",
      "source": [
        "## 0. Download and load dataset\n",
        "---\n",
        "### 0.1 Connect to Google Drive"
      ],
      "metadata": {
        "id": "BRdHztVYzIGA"
      }
    },
    {
      "cell_type": "code",
      "execution_count": 3,
      "metadata": {
        "colab": {
          "base_uri": "https://localhost:8080/"
        },
        "id": "nkJRYZjRyDOO",
        "outputId": "4e872169-9257-4163-8db4-532c6eff9e23"
      },
      "outputs": [
        {
          "output_type": "stream",
          "name": "stdout",
          "text": [
            "Drive already mounted at /gdrive; to attempt to forcibly remount, call drive.mount(\"/gdrive\", force_remount=True).\n"
          ]
        }
      ],
      "source": [
        "from google.colab import drive\n",
        "\n",
        "drive.mount('/gdrive')\n",
        "gdrive_root = \"/gdrive/My\\ Drive\""
      ]
    },
    {
      "cell_type": "markdown",
      "source": [
        "### 0.3 Import"
      ],
      "metadata": {
        "id": "mH0ACmpe4GP2"
      }
    },
    {
      "cell_type": "code",
      "source": [
        "import numpy as np\n",
        "import pandas as pd\n",
        "from matplotlib import pyplot as plt\n",
        "\n",
        "!pip install wget\n",
        "import wget"
      ],
      "metadata": {
        "id": "vXNEdfO84GU_",
        "colab": {
          "base_uri": "https://localhost:8080/"
        },
        "outputId": "6d09c7c4-aea9-4d87-fa50-00569de7c092"
      },
      "execution_count": 4,
      "outputs": [
        {
          "output_type": "stream",
          "name": "stdout",
          "text": [
            "Requirement already satisfied: wget in /usr/local/lib/python3.7/dist-packages (3.2)\n"
          ]
        }
      ]
    },
    {
      "cell_type": "markdown",
      "source": [
        "### 0.2 Copy dataset files from My Drive"
      ],
      "metadata": {
        "id": "6P5pSrrizW7p"
      }
    },
    {
      "cell_type": "code",
      "source": [
        "dataset_folder = gdrive_root + \"/my_data/datacamp/market-basket-analysis-in-python/*.csv\"\n",
        "!cp $dataset_folder .\n",
        "\n",
        "url = \"https://raw.githubusercontent.com/zygmuntz/goodbooks-10k/master/ratings.csv\"\n",
        "wget.download(url)\n",
        "url = \"https://raw.githubusercontent.com/zygmuntz/goodbooks-10k/master/books.csv\"\n",
        "wget.download(url)"
      ],
      "metadata": {
        "id": "Jb7DUINLzWgi"
      },
      "execution_count": null,
      "outputs": []
    },
    {
      "cell_type": "markdown",
      "source": [
        "### 0.4 Load raw dataset files (.csv)"
      ],
      "metadata": {
        "id": "_X-xWq1V4QLR"
      }
    },
    {
      "cell_type": "code",
      "source": [
        "transactions = pd.read_csv(\"bookstore_transactions.csv\")\n",
        "display(transactions.head())\n",
        "\n",
        "books = pd.read_csv(\"books.csv\")[[\"book_id\", \"original_title\"]][:100]\n",
        "ratings = pd.read_csv(\"ratings.csv\")\n",
        "\n",
        "schar = \"^&*\"\n",
        "\n",
        "data = pd.merge(ratings, books, how=\"left\", on = \"book_id\")\n",
        "data = data[data[\"original_title\"].notnull()].reset_index()\n",
        "data = data[[\"user_id\", \"original_title\"]]\n",
        "data = data.groupby(\"user_id\")[\"original_title\"].apply(\n",
        "    lambda x: schar.join(x)\n",
        ")\n",
        "data = pd.DataFrame(data)\n",
        "display(data.head())"
      ],
      "metadata": {
        "id": "EVkWW8tY4QRB",
        "colab": {
          "base_uri": "https://localhost:8080/",
          "height": 426
        },
        "outputId": "72d1e416-1881-4423-fa30-943c3473b5b6"
      },
      "execution_count": 6,
      "outputs": [
        {
          "output_type": "display_data",
          "data": {
            "text/html": [
              "\n",
              "  <div id=\"df-0e89fed6-1af8-45a2-a830-caa3a776c468\">\n",
              "    <div class=\"colab-df-container\">\n",
              "      <div>\n",
              "<style scoped>\n",
              "    .dataframe tbody tr th:only-of-type {\n",
              "        vertical-align: middle;\n",
              "    }\n",
              "\n",
              "    .dataframe tbody tr th {\n",
              "        vertical-align: top;\n",
              "    }\n",
              "\n",
              "    .dataframe thead th {\n",
              "        text-align: right;\n",
              "    }\n",
              "</style>\n",
              "<table border=\"1\" class=\"dataframe\">\n",
              "  <thead>\n",
              "    <tr style=\"text-align: right;\">\n",
              "      <th></th>\n",
              "      <th>Transaction</th>\n",
              "    </tr>\n",
              "  </thead>\n",
              "  <tbody>\n",
              "    <tr>\n",
              "      <th>0</th>\n",
              "      <td>History,Bookmark</td>\n",
              "    </tr>\n",
              "    <tr>\n",
              "      <th>1</th>\n",
              "      <td>History,Bookmark</td>\n",
              "    </tr>\n",
              "    <tr>\n",
              "      <th>2</th>\n",
              "      <td>Fiction,Bookmark</td>\n",
              "    </tr>\n",
              "    <tr>\n",
              "      <th>3</th>\n",
              "      <td>Biography,Bookmark</td>\n",
              "    </tr>\n",
              "    <tr>\n",
              "      <th>4</th>\n",
              "      <td>History,Bookmark</td>\n",
              "    </tr>\n",
              "  </tbody>\n",
              "</table>\n",
              "</div>\n",
              "      <button class=\"colab-df-convert\" onclick=\"convertToInteractive('df-0e89fed6-1af8-45a2-a830-caa3a776c468')\"\n",
              "              title=\"Convert this dataframe to an interactive table.\"\n",
              "              style=\"display:none;\">\n",
              "        \n",
              "  <svg xmlns=\"http://www.w3.org/2000/svg\" height=\"24px\"viewBox=\"0 0 24 24\"\n",
              "       width=\"24px\">\n",
              "    <path d=\"M0 0h24v24H0V0z\" fill=\"none\"/>\n",
              "    <path d=\"M18.56 5.44l.94 2.06.94-2.06 2.06-.94-2.06-.94-.94-2.06-.94 2.06-2.06.94zm-11 1L8.5 8.5l.94-2.06 2.06-.94-2.06-.94L8.5 2.5l-.94 2.06-2.06.94zm10 10l.94 2.06.94-2.06 2.06-.94-2.06-.94-.94-2.06-.94 2.06-2.06.94z\"/><path d=\"M17.41 7.96l-1.37-1.37c-.4-.4-.92-.59-1.43-.59-.52 0-1.04.2-1.43.59L10.3 9.45l-7.72 7.72c-.78.78-.78 2.05 0 2.83L4 21.41c.39.39.9.59 1.41.59.51 0 1.02-.2 1.41-.59l7.78-7.78 2.81-2.81c.8-.78.8-2.07 0-2.86zM5.41 20L4 18.59l7.72-7.72 1.47 1.35L5.41 20z\"/>\n",
              "  </svg>\n",
              "      </button>\n",
              "      \n",
              "  <style>\n",
              "    .colab-df-container {\n",
              "      display:flex;\n",
              "      flex-wrap:wrap;\n",
              "      gap: 12px;\n",
              "    }\n",
              "\n",
              "    .colab-df-convert {\n",
              "      background-color: #E8F0FE;\n",
              "      border: none;\n",
              "      border-radius: 50%;\n",
              "      cursor: pointer;\n",
              "      display: none;\n",
              "      fill: #1967D2;\n",
              "      height: 32px;\n",
              "      padding: 0 0 0 0;\n",
              "      width: 32px;\n",
              "    }\n",
              "\n",
              "    .colab-df-convert:hover {\n",
              "      background-color: #E2EBFA;\n",
              "      box-shadow: 0px 1px 2px rgba(60, 64, 67, 0.3), 0px 1px 3px 1px rgba(60, 64, 67, 0.15);\n",
              "      fill: #174EA6;\n",
              "    }\n",
              "\n",
              "    [theme=dark] .colab-df-convert {\n",
              "      background-color: #3B4455;\n",
              "      fill: #D2E3FC;\n",
              "    }\n",
              "\n",
              "    [theme=dark] .colab-df-convert:hover {\n",
              "      background-color: #434B5C;\n",
              "      box-shadow: 0px 1px 3px 1px rgba(0, 0, 0, 0.15);\n",
              "      filter: drop-shadow(0px 1px 2px rgba(0, 0, 0, 0.3));\n",
              "      fill: #FFFFFF;\n",
              "    }\n",
              "  </style>\n",
              "\n",
              "      <script>\n",
              "        const buttonEl =\n",
              "          document.querySelector('#df-0e89fed6-1af8-45a2-a830-caa3a776c468 button.colab-df-convert');\n",
              "        buttonEl.style.display =\n",
              "          google.colab.kernel.accessAllowed ? 'block' : 'none';\n",
              "\n",
              "        async function convertToInteractive(key) {\n",
              "          const element = document.querySelector('#df-0e89fed6-1af8-45a2-a830-caa3a776c468');\n",
              "          const dataTable =\n",
              "            await google.colab.kernel.invokeFunction('convertToInteractive',\n",
              "                                                     [key], {});\n",
              "          if (!dataTable) return;\n",
              "\n",
              "          const docLinkHtml = 'Like what you see? Visit the ' +\n",
              "            '<a target=\"_blank\" href=https://colab.research.google.com/notebooks/data_table.ipynb>data table notebook</a>'\n",
              "            + ' to learn more about interactive tables.';\n",
              "          element.innerHTML = '';\n",
              "          dataTable['output_type'] = 'display_data';\n",
              "          await google.colab.output.renderOutput(dataTable, element);\n",
              "          const docLink = document.createElement('div');\n",
              "          docLink.innerHTML = docLinkHtml;\n",
              "          element.appendChild(docLink);\n",
              "        }\n",
              "      </script>\n",
              "    </div>\n",
              "  </div>\n",
              "  "
            ],
            "text/plain": [
              "          Transaction\n",
              "0    History,Bookmark\n",
              "1    History,Bookmark\n",
              "2    Fiction,Bookmark\n",
              "3  Biography,Bookmark\n",
              "4    History,Bookmark"
            ]
          },
          "metadata": {}
        },
        {
          "output_type": "display_data",
          "data": {
            "text/html": [
              "\n",
              "  <div id=\"df-1be9a206-07b4-45c0-aa7a-33fd6d439b56\">\n",
              "    <div class=\"colab-df-container\">\n",
              "      <div>\n",
              "<style scoped>\n",
              "    .dataframe tbody tr th:only-of-type {\n",
              "        vertical-align: middle;\n",
              "    }\n",
              "\n",
              "    .dataframe tbody tr th {\n",
              "        vertical-align: top;\n",
              "    }\n",
              "\n",
              "    .dataframe thead th {\n",
              "        text-align: right;\n",
              "    }\n",
              "</style>\n",
              "<table border=\"1\" class=\"dataframe\">\n",
              "  <thead>\n",
              "    <tr style=\"text-align: right;\">\n",
              "      <th></th>\n",
              "      <th>original_title</th>\n",
              "    </tr>\n",
              "    <tr>\n",
              "      <th>user_id</th>\n",
              "      <th></th>\n",
              "    </tr>\n",
              "  </thead>\n",
              "  <tbody>\n",
              "    <tr>\n",
              "      <th>1</th>\n",
              "      <td>The Book Thief^&amp;*The Kite Runner ^&amp;*O Alquimis...</td>\n",
              "    </tr>\n",
              "    <tr>\n",
              "      <th>2</th>\n",
              "      <td>The Da Vinci Code^&amp;*Memoirs of a Geisha^&amp;*Het ...</td>\n",
              "    </tr>\n",
              "    <tr>\n",
              "      <th>3</th>\n",
              "      <td>To Kill a Mockingbird^&amp;*Holes^&amp;*Charlotte's We...</td>\n",
              "    </tr>\n",
              "    <tr>\n",
              "      <th>4</th>\n",
              "      <td>Ender's Game^&amp;*Harry Potter and the Prisoner o...</td>\n",
              "    </tr>\n",
              "    <tr>\n",
              "      <th>5</th>\n",
              "      <td>The Secret Life of Bees^&amp;*The Fault in Our Stars</td>\n",
              "    </tr>\n",
              "  </tbody>\n",
              "</table>\n",
              "</div>\n",
              "      <button class=\"colab-df-convert\" onclick=\"convertToInteractive('df-1be9a206-07b4-45c0-aa7a-33fd6d439b56')\"\n",
              "              title=\"Convert this dataframe to an interactive table.\"\n",
              "              style=\"display:none;\">\n",
              "        \n",
              "  <svg xmlns=\"http://www.w3.org/2000/svg\" height=\"24px\"viewBox=\"0 0 24 24\"\n",
              "       width=\"24px\">\n",
              "    <path d=\"M0 0h24v24H0V0z\" fill=\"none\"/>\n",
              "    <path d=\"M18.56 5.44l.94 2.06.94-2.06 2.06-.94-2.06-.94-.94-2.06-.94 2.06-2.06.94zm-11 1L8.5 8.5l.94-2.06 2.06-.94-2.06-.94L8.5 2.5l-.94 2.06-2.06.94zm10 10l.94 2.06.94-2.06 2.06-.94-2.06-.94-.94-2.06-.94 2.06-2.06.94z\"/><path d=\"M17.41 7.96l-1.37-1.37c-.4-.4-.92-.59-1.43-.59-.52 0-1.04.2-1.43.59L10.3 9.45l-7.72 7.72c-.78.78-.78 2.05 0 2.83L4 21.41c.39.39.9.59 1.41.59.51 0 1.02-.2 1.41-.59l7.78-7.78 2.81-2.81c.8-.78.8-2.07 0-2.86zM5.41 20L4 18.59l7.72-7.72 1.47 1.35L5.41 20z\"/>\n",
              "  </svg>\n",
              "      </button>\n",
              "      \n",
              "  <style>\n",
              "    .colab-df-container {\n",
              "      display:flex;\n",
              "      flex-wrap:wrap;\n",
              "      gap: 12px;\n",
              "    }\n",
              "\n",
              "    .colab-df-convert {\n",
              "      background-color: #E8F0FE;\n",
              "      border: none;\n",
              "      border-radius: 50%;\n",
              "      cursor: pointer;\n",
              "      display: none;\n",
              "      fill: #1967D2;\n",
              "      height: 32px;\n",
              "      padding: 0 0 0 0;\n",
              "      width: 32px;\n",
              "    }\n",
              "\n",
              "    .colab-df-convert:hover {\n",
              "      background-color: #E2EBFA;\n",
              "      box-shadow: 0px 1px 2px rgba(60, 64, 67, 0.3), 0px 1px 3px 1px rgba(60, 64, 67, 0.15);\n",
              "      fill: #174EA6;\n",
              "    }\n",
              "\n",
              "    [theme=dark] .colab-df-convert {\n",
              "      background-color: #3B4455;\n",
              "      fill: #D2E3FC;\n",
              "    }\n",
              "\n",
              "    [theme=dark] .colab-df-convert:hover {\n",
              "      background-color: #434B5C;\n",
              "      box-shadow: 0px 1px 3px 1px rgba(0, 0, 0, 0.15);\n",
              "      filter: drop-shadow(0px 1px 2px rgba(0, 0, 0, 0.3));\n",
              "      fill: #FFFFFF;\n",
              "    }\n",
              "  </style>\n",
              "\n",
              "      <script>\n",
              "        const buttonEl =\n",
              "          document.querySelector('#df-1be9a206-07b4-45c0-aa7a-33fd6d439b56 button.colab-df-convert');\n",
              "        buttonEl.style.display =\n",
              "          google.colab.kernel.accessAllowed ? 'block' : 'none';\n",
              "\n",
              "        async function convertToInteractive(key) {\n",
              "          const element = document.querySelector('#df-1be9a206-07b4-45c0-aa7a-33fd6d439b56');\n",
              "          const dataTable =\n",
              "            await google.colab.kernel.invokeFunction('convertToInteractive',\n",
              "                                                     [key], {});\n",
              "          if (!dataTable) return;\n",
              "\n",
              "          const docLinkHtml = 'Like what you see? Visit the ' +\n",
              "            '<a target=\"_blank\" href=https://colab.research.google.com/notebooks/data_table.ipynb>data table notebook</a>'\n",
              "            + ' to learn more about interactive tables.';\n",
              "          element.innerHTML = '';\n",
              "          dataTable['output_type'] = 'display_data';\n",
              "          await google.colab.output.renderOutput(dataTable, element);\n",
              "          const docLink = document.createElement('div');\n",
              "          docLink.innerHTML = docLinkHtml;\n",
              "          element.appendChild(docLink);\n",
              "        }\n",
              "      </script>\n",
              "    </div>\n",
              "  </div>\n",
              "  "
            ],
            "text/plain": [
              "                                            original_title\n",
              "user_id                                                   \n",
              "1        The Book Thief^&*The Kite Runner ^&*O Alquimis...\n",
              "2        The Da Vinci Code^&*Memoirs of a Geisha^&*Het ...\n",
              "3        To Kill a Mockingbird^&*Holes^&*Charlotte's We...\n",
              "4        Ender's Game^&*Harry Potter and the Prisoner o...\n",
              "5         The Secret Life of Bees^&*The Fault in Our Stars"
            ]
          },
          "metadata": {}
        }
      ]
    },
    {
      "cell_type": "markdown",
      "source": [
        "## 1. Association rules\n",
        "---\n",
        "\"antecedent\" (선행)과 \"consequent\" (후행)으로 구성되어 있다\n",
        "- `single antecedent and consequent rule`: $\\{\\text{health}\\}\\rightarrow\\{\\text{cooking}\\}$\n",
        "- `multi antecedent rule`: $\\{\\text{humor, travel}\\}\\rightarrow\\{\\text{language}\\}$\n",
        "- `multi consequent rule`: $\\{\\text{biography}\\}\\rightarrow\\{\\text{history, language}\\}$\n",
        "\n",
        "유용한 rule을 찾는 것은 어렵다\n",
        "- 모든 가능한 rule의 종류가 너무 많다\n",
        "- 대부분의 rule은 유용하지 않기 때문에 제거해야 한다\n",
        "- single antecedent and consequent rule로 제한해도 여전히 challenging하다\n"
      ],
      "metadata": {
        "id": "8MeQ7cV3554B"
      }
    },
    {
      "cell_type": "code",
      "source": [
        "transactions = transactions['Transaction'].apply(lambda x: x.split(\",\"))\n",
        "transactions = list(transactions)\n",
        "print(transactions.count(['History', 'Bookmark']))\n",
        "\n",
        "from itertools import permutations\n",
        "\n",
        "flattened = [item for transaction in transactions for item in transaction]\n",
        "items = list(set(flattened))\n",
        "\n",
        "rules = list(permutations(items, 2))\n",
        "print(len(rules))"
      ],
      "metadata": {
        "colab": {
          "base_uri": "https://localhost:8080/"
        },
        "id": "_hLkhK7X5qTk",
        "outputId": "fcec2dfc-7f17-4d65-af59-8b191d04aa6d"
      },
      "execution_count": 7,
      "outputs": [
        {
          "output_type": "stream",
          "name": "stdout",
          "text": [
            "25\n",
            "20\n"
          ]
        }
      ]
    },
    {
      "cell_type": "markdown",
      "source": [
        "### Metrics\n",
        "**Metric**은 rule의 성능을 측정하기 위한 수단이다\n",
        "- $\\{\\text{humor}\\}\\rightarrow\\{\\text{poetry}\\}$ (0.81)\n",
        "- $\\{\\text{fiction}\\}\\rightarrow\\{\\text{travel}\\} $ (0.23)\n",
        "\n",
        "**Pruning**은 rule을 제거하기 위해 metric을 활용하는 과정이다\n",
        "- $\\{\\text{humor}\\}\\rightarrow\\{\\text{poetry}\\}$ (0.81 -> 유지)\n",
        "- $\\{\\text{fiction}\\}\\rightarrow\\{\\text{travel}\\} $ (0.23 -> 제거)"
      ],
      "metadata": {
        "id": "E-o7BVwbZ-Mq"
      }
    },
    {
      "cell_type": "markdown",
      "source": [
        "#### 1.1 Support\n",
        "특정 Itemset을 포함하는 transaction의 정도를 측정한다, $\\text{support(X)} = \\frac{\\text{number of transactions with item X}}{\\text{number of transactions}}$ "
      ],
      "metadata": {
        "id": "CpWj9J2eanjN"
      }
    },
    {
      "cell_type": "code",
      "source": [
        "from mlxtend.preprocessing import TransactionEncoder\n",
        "\n",
        "encoder = TransactionEncoder().fit(transactions)\n",
        "\n",
        "onehot = encoder.transform(transactions)\n",
        "onehot = pd.DataFrame(onehot, columns=encoder.columns_)\n",
        "# single-item에 대한 support\n",
        "print(onehot.mean())\n",
        "\n",
        "# multi-item에 대한 support\n",
        "onehot['Fiction+Bookmark'] = np.logical_and(\n",
        "    onehot['Fiction'], onehot['Bookmark']\n",
        ")\n",
        "print(onehot.mean())"
      ],
      "metadata": {
        "colab": {
          "base_uri": "https://localhost:8080/"
        },
        "id": "0QF9l-nZ9ylI",
        "outputId": "801da704-70bb-4fd2-e22d-4e378fb51ff4"
      },
      "execution_count": 8,
      "outputs": [
        {
          "output_type": "stream",
          "name": "stdout",
          "text": [
            "Biography    0.404040\n",
            "Bookmark     1.000000\n",
            "Fiction      0.252525\n",
            "History      0.252525\n",
            "Poetry       0.090909\n",
            "dtype: float64\n",
            "Biography           0.404040\n",
            "Bookmark            1.000000\n",
            "Fiction             0.252525\n",
            "History             0.252525\n",
            "Poetry              0.090909\n",
            "Fiction+Bookmark    0.252525\n",
            "dtype: float64\n"
          ]
        }
      ]
    },
    {
      "cell_type": "markdown",
      "source": [
        "### Confidence와 Lift\n",
        "\n",
        "|TID|Transaction|\n",
        "|---|---|\n",
        "|1|Coffee, Milk|\n",
        "|2|Bread, Milk, Orange|\n",
        "|3|Bread, Milk|\n",
        "|4|Bread, Milk, Sugar|\n",
        "|5|Bread, Jam, Milk|\n",
        "|...|...|\n",
        "\n",
        "우유와 빵은 함께 자주 구매된다, $\\{\\text{Milk}\\}\\rightarrow\\{\\text{Bread}\\}$\n",
        "- 그러나 해당 rule은 마케팅 관점에서 중요성이 떨어짐\n",
        "- 우유와 빵은 둘 다 인기있는 제품이다\n",
        "\n",
        "#### 1.2 Confidence\n",
        "`Support`보다 정확한 정보를 제공한다, $\\text{confidence}(X\\rightarrow Y) = \\frac{\\text{support}(X\\& Y)}{\\text{support}(X)}$ \n",
        "\n",
        "#### 1.3 Lift\n",
        "Item 간의 관계를 평가하기 위한 척도, $\\text{lift}(X\\rightarrow Y) = \\frac{\\text{support}(X\\& Y)}{\\text{support}(X)\\times \\text{support}(Y)}$ \n",
        "- Numerator: $X, Y$를 포함한 transaction의 비율\n",
        "- Denominator: $X, Y$가 서로 임의, 독립적으로 배정된 비율\n"
      ],
      "metadata": {
        "id": "b5-S4OULE1Nx"
      }
    },
    {
      "cell_type": "code",
      "source": [
        "# Data Preparation\n",
        "libraries = data['original_title'].apply(lambda r: r.split(schar))\n",
        "libraries = list(libraries)\n",
        "\n",
        "encoder = TransactionEncoder().fit(libraries)\n",
        "books = encoder.transform(libraries)\n",
        "books = pd.DataFrame(books, columns = encoder.columns_)\n",
        "books.head()"
      ],
      "metadata": {
        "id": "quZc7G09Abfj",
        "colab": {
          "base_uri": "https://localhost:8080/",
          "height": 403
        },
        "outputId": "d4349e1a-9459-4007-bf2f-de6c83cafa05"
      },
      "execution_count": 10,
      "outputs": [
        {
          "output_type": "execute_result",
          "data": {
            "text/html": [
              "\n",
              "  <div id=\"df-eede0899-6757-42c2-8b2c-ac2ed6eabcd7\">\n",
              "    <div class=\"colab-df-container\">\n",
              "      <div>\n",
              "<style scoped>\n",
              "    .dataframe tbody tr th:only-of-type {\n",
              "        vertical-align: middle;\n",
              "    }\n",
              "\n",
              "    .dataframe tbody tr th {\n",
              "        vertical-align: top;\n",
              "    }\n",
              "\n",
              "    .dataframe thead th {\n",
              "        text-align: right;\n",
              "    }\n",
              "</style>\n",
              "<table border=\"1\" class=\"dataframe\">\n",
              "  <thead>\n",
              "    <tr style=\"text-align: right;\">\n",
              "      <th></th>\n",
              "      <th>The Fellowship of the Ring</th>\n",
              "      <th>A Game of Thrones</th>\n",
              "      <th>A Tale of Two Cities</th>\n",
              "      <th>A Thousand Splendid Suns</th>\n",
              "      <th>A Time to Kill</th>\n",
              "      <th>An Excellent conceited Tragedie of Romeo and Juliet</th>\n",
              "      <th>Angels &amp; Demons</th>\n",
              "      <th>Animal Farm: A Fairy Story</th>\n",
              "      <th>Brave New World</th>\n",
              "      <th>Breaking Dawn</th>\n",
              "      <th>...</th>\n",
              "      <th>The Secret Life of Bees</th>\n",
              "      <th>The Shining</th>\n",
              "      <th>The Time Traveler's Wife</th>\n",
              "      <th>To Kill a Mockingbird</th>\n",
              "      <th>Twilight</th>\n",
              "      <th>Un di Velt Hot Geshvign</th>\n",
              "      <th>Water for Elephants</th>\n",
              "      <th>Where the Sidewalk Ends: The Poems and Drawings of Shel Silverstein</th>\n",
              "      <th>Wuthering Heights</th>\n",
              "      <th>Ὀδύσσεια</th>\n",
              "    </tr>\n",
              "  </thead>\n",
              "  <tbody>\n",
              "    <tr>\n",
              "      <th>0</th>\n",
              "      <td>False</td>\n",
              "      <td>False</td>\n",
              "      <td>False</td>\n",
              "      <td>True</td>\n",
              "      <td>False</td>\n",
              "      <td>False</td>\n",
              "      <td>False</td>\n",
              "      <td>False</td>\n",
              "      <td>False</td>\n",
              "      <td>False</td>\n",
              "      <td>...</td>\n",
              "      <td>True</td>\n",
              "      <td>True</td>\n",
              "      <td>True</td>\n",
              "      <td>True</td>\n",
              "      <td>False</td>\n",
              "      <td>False</td>\n",
              "      <td>True</td>\n",
              "      <td>False</td>\n",
              "      <td>False</td>\n",
              "      <td>False</td>\n",
              "    </tr>\n",
              "    <tr>\n",
              "      <th>1</th>\n",
              "      <td>False</td>\n",
              "      <td>False</td>\n",
              "      <td>False</td>\n",
              "      <td>False</td>\n",
              "      <td>False</td>\n",
              "      <td>True</td>\n",
              "      <td>False</td>\n",
              "      <td>False</td>\n",
              "      <td>False</td>\n",
              "      <td>False</td>\n",
              "      <td>...</td>\n",
              "      <td>False</td>\n",
              "      <td>False</td>\n",
              "      <td>False</td>\n",
              "      <td>False</td>\n",
              "      <td>False</td>\n",
              "      <td>False</td>\n",
              "      <td>False</td>\n",
              "      <td>False</td>\n",
              "      <td>False</td>\n",
              "      <td>False</td>\n",
              "    </tr>\n",
              "    <tr>\n",
              "      <th>2</th>\n",
              "      <td>False</td>\n",
              "      <td>False</td>\n",
              "      <td>False</td>\n",
              "      <td>False</td>\n",
              "      <td>False</td>\n",
              "      <td>False</td>\n",
              "      <td>False</td>\n",
              "      <td>False</td>\n",
              "      <td>True</td>\n",
              "      <td>False</td>\n",
              "      <td>...</td>\n",
              "      <td>False</td>\n",
              "      <td>False</td>\n",
              "      <td>False</td>\n",
              "      <td>True</td>\n",
              "      <td>False</td>\n",
              "      <td>False</td>\n",
              "      <td>False</td>\n",
              "      <td>False</td>\n",
              "      <td>False</td>\n",
              "      <td>False</td>\n",
              "    </tr>\n",
              "    <tr>\n",
              "      <th>3</th>\n",
              "      <td>True</td>\n",
              "      <td>False</td>\n",
              "      <td>False</td>\n",
              "      <td>False</td>\n",
              "      <td>True</td>\n",
              "      <td>False</td>\n",
              "      <td>False</td>\n",
              "      <td>True</td>\n",
              "      <td>True</td>\n",
              "      <td>False</td>\n",
              "      <td>...</td>\n",
              "      <td>False</td>\n",
              "      <td>True</td>\n",
              "      <td>False</td>\n",
              "      <td>True</td>\n",
              "      <td>False</td>\n",
              "      <td>True</td>\n",
              "      <td>False</td>\n",
              "      <td>True</td>\n",
              "      <td>False</td>\n",
              "      <td>False</td>\n",
              "    </tr>\n",
              "    <tr>\n",
              "      <th>4</th>\n",
              "      <td>False</td>\n",
              "      <td>False</td>\n",
              "      <td>False</td>\n",
              "      <td>False</td>\n",
              "      <td>False</td>\n",
              "      <td>False</td>\n",
              "      <td>False</td>\n",
              "      <td>False</td>\n",
              "      <td>False</td>\n",
              "      <td>False</td>\n",
              "      <td>...</td>\n",
              "      <td>True</td>\n",
              "      <td>False</td>\n",
              "      <td>False</td>\n",
              "      <td>False</td>\n",
              "      <td>False</td>\n",
              "      <td>False</td>\n",
              "      <td>False</td>\n",
              "      <td>False</td>\n",
              "      <td>False</td>\n",
              "      <td>False</td>\n",
              "    </tr>\n",
              "  </tbody>\n",
              "</table>\n",
              "<p>5 rows × 99 columns</p>\n",
              "</div>\n",
              "      <button class=\"colab-df-convert\" onclick=\"convertToInteractive('df-eede0899-6757-42c2-8b2c-ac2ed6eabcd7')\"\n",
              "              title=\"Convert this dataframe to an interactive table.\"\n",
              "              style=\"display:none;\">\n",
              "        \n",
              "  <svg xmlns=\"http://www.w3.org/2000/svg\" height=\"24px\"viewBox=\"0 0 24 24\"\n",
              "       width=\"24px\">\n",
              "    <path d=\"M0 0h24v24H0V0z\" fill=\"none\"/>\n",
              "    <path d=\"M18.56 5.44l.94 2.06.94-2.06 2.06-.94-2.06-.94-.94-2.06-.94 2.06-2.06.94zm-11 1L8.5 8.5l.94-2.06 2.06-.94-2.06-.94L8.5 2.5l-.94 2.06-2.06.94zm10 10l.94 2.06.94-2.06 2.06-.94-2.06-.94-.94-2.06-.94 2.06-2.06.94z\"/><path d=\"M17.41 7.96l-1.37-1.37c-.4-.4-.92-.59-1.43-.59-.52 0-1.04.2-1.43.59L10.3 9.45l-7.72 7.72c-.78.78-.78 2.05 0 2.83L4 21.41c.39.39.9.59 1.41.59.51 0 1.02-.2 1.41-.59l7.78-7.78 2.81-2.81c.8-.78.8-2.07 0-2.86zM5.41 20L4 18.59l7.72-7.72 1.47 1.35L5.41 20z\"/>\n",
              "  </svg>\n",
              "      </button>\n",
              "      \n",
              "  <style>\n",
              "    .colab-df-container {\n",
              "      display:flex;\n",
              "      flex-wrap:wrap;\n",
              "      gap: 12px;\n",
              "    }\n",
              "\n",
              "    .colab-df-convert {\n",
              "      background-color: #E8F0FE;\n",
              "      border: none;\n",
              "      border-radius: 50%;\n",
              "      cursor: pointer;\n",
              "      display: none;\n",
              "      fill: #1967D2;\n",
              "      height: 32px;\n",
              "      padding: 0 0 0 0;\n",
              "      width: 32px;\n",
              "    }\n",
              "\n",
              "    .colab-df-convert:hover {\n",
              "      background-color: #E2EBFA;\n",
              "      box-shadow: 0px 1px 2px rgba(60, 64, 67, 0.3), 0px 1px 3px 1px rgba(60, 64, 67, 0.15);\n",
              "      fill: #174EA6;\n",
              "    }\n",
              "\n",
              "    [theme=dark] .colab-df-convert {\n",
              "      background-color: #3B4455;\n",
              "      fill: #D2E3FC;\n",
              "    }\n",
              "\n",
              "    [theme=dark] .colab-df-convert:hover {\n",
              "      background-color: #434B5C;\n",
              "      box-shadow: 0px 1px 3px 1px rgba(0, 0, 0, 0.15);\n",
              "      filter: drop-shadow(0px 1px 2px rgba(0, 0, 0, 0.3));\n",
              "      fill: #FFFFFF;\n",
              "    }\n",
              "  </style>\n",
              "\n",
              "      <script>\n",
              "        const buttonEl =\n",
              "          document.querySelector('#df-eede0899-6757-42c2-8b2c-ac2ed6eabcd7 button.colab-df-convert');\n",
              "        buttonEl.style.display =\n",
              "          google.colab.kernel.accessAllowed ? 'block' : 'none';\n",
              "\n",
              "        async function convertToInteractive(key) {\n",
              "          const element = document.querySelector('#df-eede0899-6757-42c2-8b2c-ac2ed6eabcd7');\n",
              "          const dataTable =\n",
              "            await google.colab.kernel.invokeFunction('convertToInteractive',\n",
              "                                                     [key], {});\n",
              "          if (!dataTable) return;\n",
              "\n",
              "          const docLinkHtml = 'Like what you see? Visit the ' +\n",
              "            '<a target=\"_blank\" href=https://colab.research.google.com/notebooks/data_table.ipynb>data table notebook</a>'\n",
              "            + ' to learn more about interactive tables.';\n",
              "          element.innerHTML = '';\n",
              "          dataTable['output_type'] = 'display_data';\n",
              "          await google.colab.output.renderOutput(dataTable, element);\n",
              "          const docLink = document.createElement('div');\n",
              "          docLink.innerHTML = docLinkHtml;\n",
              "          element.appendChild(docLink);\n",
              "        }\n",
              "      </script>\n",
              "    </div>\n",
              "  </div>\n",
              "  "
            ],
            "text/plain": [
              "    The Fellowship of the Ring  A Game of Thrones  A Tale of Two Cities  \\\n",
              "0                        False              False                 False   \n",
              "1                        False              False                 False   \n",
              "2                        False              False                 False   \n",
              "3                         True              False                 False   \n",
              "4                        False              False                 False   \n",
              "\n",
              "   A Thousand Splendid Suns  A Time to Kill  \\\n",
              "0                      True           False   \n",
              "1                     False           False   \n",
              "2                     False           False   \n",
              "3                     False            True   \n",
              "4                     False           False   \n",
              "\n",
              "   An Excellent conceited Tragedie of Romeo and Juliet  Angels & Demons   \\\n",
              "0                                              False               False   \n",
              "1                                               True               False   \n",
              "2                                              False               False   \n",
              "3                                              False               False   \n",
              "4                                              False               False   \n",
              "\n",
              "   Animal Farm: A Fairy Story  Brave New World  Breaking Dawn  ...  \\\n",
              "0                       False            False          False  ...   \n",
              "1                       False            False          False  ...   \n",
              "2                       False             True          False  ...   \n",
              "3                        True             True          False  ...   \n",
              "4                       False            False          False  ...   \n",
              "\n",
              "   The Secret Life of Bees  The Shining  The Time Traveler's Wife  \\\n",
              "0                     True         True                      True   \n",
              "1                    False        False                     False   \n",
              "2                    False        False                     False   \n",
              "3                    False         True                     False   \n",
              "4                     True        False                     False   \n",
              "\n",
              "   To Kill a Mockingbird  Twilight  Un di Velt Hot Geshvign  \\\n",
              "0                   True     False                    False   \n",
              "1                  False     False                    False   \n",
              "2                   True     False                    False   \n",
              "3                   True     False                     True   \n",
              "4                  False     False                    False   \n",
              "\n",
              "   Water for Elephants  \\\n",
              "0                 True   \n",
              "1                False   \n",
              "2                False   \n",
              "3                False   \n",
              "4                False   \n",
              "\n",
              "   Where the Sidewalk Ends: The Poems and Drawings of Shel Silverstein  \\\n",
              "0                                              False                     \n",
              "1                                              False                     \n",
              "2                                              False                     \n",
              "3                                               True                     \n",
              "4                                              False                     \n",
              "\n",
              "   Wuthering Heights  Ὀδύσσεια  \n",
              "0              False     False  \n",
              "1              False     False  \n",
              "2              False     False  \n",
              "3              False     False  \n",
              "4              False     False  \n",
              "\n",
              "[5 rows x 99 columns]"
            ]
          },
          "metadata": {},
          "execution_count": 10
        }
      ]
    },
    {
      "cell_type": "code",
      "source": [
        "book_1 = \"The Hunger Games\"\n",
        "book_2 = \"The Great Gatsby\"\n",
        "\n",
        "supportHG = np.logical_and(books[book_1], books[book_2]).mean()\n",
        "supportH = books[book_1].mean()\n",
        "supportG = books[book_2].mean()\n",
        "\n",
        "confidenceHG = supportHG / supportH\n",
        "liftHG = supportHG / (supportH * supportG)\n",
        "\n",
        "print(supportG, confidenceHG, liftHG)"
      ],
      "metadata": {
        "colab": {
          "base_uri": "https://localhost:8080/"
        },
        "id": "jDhmaZnr1hwL",
        "outputId": "3361af15-3142-4263-879a-63765b5bd94b"
      },
      "execution_count": 14,
      "outputs": [
        {
          "output_type": "stream",
          "name": "stdout",
          "text": [
            "0.3139939485627837 0.362843111461896 1.1555735807097722\n"
          ]
        }
      ]
    },
    {
      "cell_type": "markdown",
      "source": [
        "### Formula of metrics\n",
        "- $Support(X) = \\frac{Freq(X)}{N}$\n",
        "- $Support(X→Y) = \\frac{Freq(X\\&Y)}{N}$\n",
        "- $Confidence(X→Y) = \\frac{Support(X→Y)}{Support(X)}$\n",
        "- $Lift(X\\rightarrow Y) = \\frac{Support(X→Y)}{Support(X)\\times Support(Y)}$"
      ],
      "metadata": {
        "id": "jK3jgALMJ6YQ"
      }
    },
    {
      "cell_type": "markdown",
      "source": [
        "#### 1.4 leverage\n",
        "`lift`와 유사하며 해석하기 더 쉽다.\n",
        "\n",
        "$Leverage(X→Y) = Support(X\\& Y) - Support(X)\\times Support(Y)$\n",
        "- bounded by $[-1, 1]$\n",
        "- cf. `lift` bounded by $[0, ∞]$"
      ],
      "metadata": {
        "id": "gAqWqkPs2mxn"
      }
    },
    {
      "cell_type": "code",
      "source": [
        "book_3 = \"Twilight\"\n",
        "book_4 = \"Harry Potter and the Philosopher's Stone\"\n",
        "\n",
        "supportTP = np.logical_and(books[book_3], books[book_4]).mean()\n",
        "\n",
        "supportT = books[book_3].mean()\n",
        "supportP = books[book_4].mean()\n",
        "\n",
        "leverage = supportTP - supportP * supportT\n",
        "print(leverage)"
      ],
      "metadata": {
        "colab": {
          "base_uri": "https://localhost:8080/"
        },
        "id": "7Yujz59k34pm",
        "outputId": "7f3578f5-805f-4065-9020-adcb15b6b955"
      },
      "execution_count": 15,
      "outputs": [
        {
          "output_type": "stream",
          "name": "stdout",
          "text": [
            "0.07556951442594886\n"
          ]
        }
      ]
    },
    {
      "cell_type": "markdown",
      "source": [
        "#### 1.5 conviction\n",
        "leverage보다 더 복잡하며 덜 직관적이다, $Conviction(X→Y) = \\frac{Support(X) Support(\\bar{Y})}{Support(X→\\bar{Y})}$"
      ],
      "metadata": {
        "id": "GpJCraOaLYOX"
      }
    },
    {
      "cell_type": "code",
      "source": [
        "supportnP = 1 - books[book_4].mean()\n",
        "supportTnP = supportT - supportTP\n",
        "\n",
        "conviction = supportT * supportnP / supportTnP\n",
        "print(conviction)"
      ],
      "metadata": {
        "colab": {
          "base_uri": "https://localhost:8080/"
        },
        "id": "spo3wkJ-LXzv",
        "outputId": "a7fc8b03-21ff-4020-f178-344b2580f8ef"
      },
      "execution_count": 16,
      "outputs": [
        {
          "output_type": "stream",
          "name": "stdout",
          "text": [
            "1.6728600644627336\n"
          ]
        }
      ]
    },
    {
      "cell_type": "markdown",
      "source": [
        "### Association and dissociation\n",
        "#### Zhang's metric\n",
        "- bounded by $[-1, 1]$\n",
        "  - 1은 perfect association\n",
        "  - 1은 perfect dissociation\n",
        "- Comprehensive and interpretable\n",
        "\n",
        "$Zhang(A→B) = \\frac{Confidence(A→B) - Confidence(\\bar{A}→B)}{\\max{[Confidence(A→B), Confidence(\\bar{A}→B)]}} \\\\\n",
        "= \\frac{Support(A→B)-Support(A)Support(B)}{\\max([Support(A\\rightarrow B)(1-Support(A)), Support(A)(Support(B)-Support(A\\rightarrow B))])}$\n",
        "\n"
      ],
      "metadata": {
        "id": "egxRZvuK5PPX"
      }
    },
    {
      "cell_type": "code",
      "source": [
        "book_5 = \"The Hobbit or There and Back Again\"\n",
        "book_6 = \"Pride and Prejudice\"\n",
        "\n",
        "supportH = books[book_5].mean()\n",
        "supportP = books[book_6].mean()\n",
        "supportHP = np.logical_and(books[book_5], books[book_6]).mean()\n",
        "\n",
        "numerator = supportHP - supportH*supportP\n",
        "denominator = max(\n",
        "    supportHP*(1-supportH), supportH*(supportP-supportHP)\n",
        ")\n",
        "\n",
        "zhang = numerator / denominator\n",
        "print(zhang)"
      ],
      "metadata": {
        "colab": {
          "base_uri": "https://localhost:8080/"
        },
        "id": "bnMwXoIP7DhP",
        "outputId": "51ae2aeb-a0b7-4ff3-b2e9-324e844b2253"
      },
      "execution_count": 17,
      "outputs": [
        {
          "output_type": "stream",
          "name": "stdout",
          "text": [
            "0.4344458799726718\n"
          ]
        }
      ]
    },
    {
      "cell_type": "markdown",
      "source": [
        "## 장바구니 분석 개요\n",
        "---\n",
        "1. 가능한 모든 rule의 집합을 생성한다\n",
        "  - item이 많을 수록 rule은 exponential하게 증가한다 (그러나 대부분의 rule은 쓸모없다)\n",
        "  - 초기 필터링은 반드시 적용해야 한다 (Apriori algorithm)\n",
        "2. metric을 활용하여 rule을 필터링한다\n",
        "  - support, confidence, lift, leverage, conviction, zhang, ...\n",
        "3. 직관과 상식을 적용한다."
      ],
      "metadata": {
        "id": "5R4xnVNoPr7B"
      }
    },
    {
      "cell_type": "markdown",
      "source": [
        "## Aggregation\n",
        "---\n",
        "\n",
        "Load dataset"
      ],
      "metadata": {
        "id": "MELj0OoqXXYB"
      }
    },
    {
      "cell_type": "code",
      "source": [
        "gifts = pd.read_csv(\"online_retail.csv\")\n",
        "gifts = gifts[[\"InvoiceNo\", \"Description\"]]\n",
        "gifts = gifts.astype({\"Description\": str})\n",
        "gifts.head()\n",
        "\n",
        "print(len(gifts[\"InvoiceNo\"].unique()))\n",
        "print(len(gifts[\"Description\"].unique()))"
      ],
      "metadata": {
        "id": "Glr45MXEPrci",
        "colab": {
          "base_uri": "https://localhost:8080/"
        },
        "outputId": "ec38a9b1-8f08-4d0b-ff2a-36855008dd33"
      },
      "execution_count": 50,
      "outputs": [
        {
          "output_type": "stream",
          "name": "stdout",
          "text": [
            "9709\n",
            "3461\n"
          ]
        }
      ]
    },
    {
      "cell_type": "code",
      "source": [
        "schars = \"^&*\"\n",
        "retails = gifts.groupby(\"InvoiceNo\")[\"Description\"].apply(lambda x: schars.join(x))\n",
        "retails = pd.DataFrame(retails)\n",
        "retails = retails[\"Description\"].apply(lambda x: x.split(schars))\n",
        "retails = list(retails)"
      ],
      "metadata": {
        "id": "RnxAYjXysqyX"
      },
      "execution_count": 51,
      "outputs": []
    },
    {
      "cell_type": "code",
      "source": [
        "# TODO: create one-hot vector!\n",
        "encoder = TransactionEncoder().fit(retails)\n",
        "onehot = encoder.transform(retails)\n",
        "onehot = pd.DataFrame(onehot, columns=encoder.columns_)\n",
        "\n",
        "# print(onehot.mean())\n",
        "print(onehot.head(2))"
      ],
      "metadata": {
        "id": "4e15SLs9wq1N",
        "colab": {
          "base_uri": "https://localhost:8080/"
        },
        "outputId": "8c21c18c-45a7-42c7-8d4e-5e2116e8fda3"
      },
      "execution_count": 53,
      "outputs": [
        {
          "output_type": "stream",
          "name": "stdout",
          "text": [
            "    4 PURPLE FLOCK DINNER CANDLES   50'S CHRISTMAS GIFT BAG LARGE  \\\n",
            "0                           False                           False   \n",
            "1                           False                           False   \n",
            "\n",
            "    DOLLY GIRL BEAKER   I LOVE LONDON MINI BACKPACK   NINE DRAWER OFFICE TIDY  \\\n",
            "0               False                         False                     False   \n",
            "1               False                         False                     False   \n",
            "\n",
            "    OVAL WALL MIRROR DIAMANTE    RED SPOT GIFT BAG LARGE  \\\n",
            "0                        False                     False   \n",
            "1                        False                     False   \n",
            "\n",
            "    SET 2 TEA TOWELS I LOVE LONDON    SPACEBOY BABY GIFT SET  \\\n",
            "0                             False                    False   \n",
            "1                              True                    False   \n",
            "\n",
            "    TRELLIS COAT RACK  ...  wet boxes  wet pallet  wet rusty   wet?  \\\n",
            "0               False  ...      False       False      False  False   \n",
            "1               False  ...      False       False      False  False   \n",
            "\n",
            "   wrongly coded 20713  wrongly coded 23343  wrongly coded-23343  \\\n",
            "0                False                False                False   \n",
            "1                False                False                False   \n",
            "\n",
            "   wrongly marked  wrongly marked 23343  wrongly marked carton 22804  \n",
            "0           False                 False                        False  \n",
            "1           False                 False                        False  \n",
            "\n",
            "[2 rows x 3461 columns]\n"
          ]
        }
      ]
    },
    {
      "cell_type": "markdown",
      "source": [
        "#### 제품을 `Bag`와 `Box`로 분류\n",
        "\n",
        "Aggregate을 활용한 장바구니 분석\n",
        "1. Item을 Category로 변경\n",
        "2. Metric을 계산\n",
        "3. Rule을 찾는다"
      ],
      "metadata": {
        "id": "-5O3RlN3SF2h"
      }
    },
    {
      "cell_type": "code",
      "source": [
        "# Aggregating the data\n",
        "bag_headers = [item for item in onehot.columns if item.lower().find('bag')+1]\n",
        "box_headers = [item for item in onehot.columns if item.lower().find('box')+1]\n",
        "\n",
        "bags = onehot[bag_headers]\n",
        "boxes = onehot[box_headers]\n",
        "# print(bags.head())\n",
        "\n",
        "bags_bool = (bags.sum(axis=1)>0.).values\n",
        "boxes_bool = (boxes.sum(axis=1)>0.).values\n",
        "print(bags_bool)\n",
        "\n",
        "aggregated = pd.DataFrame(\n",
        "    np.vstack([bags_bool, boxes_bool]).T, columns = ['bags', 'boxes']\n",
        ")\n",
        "print(aggregated.head())\n",
        "print(aggregated.mean())"
      ],
      "metadata": {
        "colab": {
          "base_uri": "https://localhost:8080/"
        },
        "id": "MxesdeyCSF9O",
        "outputId": "2418c4f1-610e-4ced-d6fb-030494422ff3"
      },
      "execution_count": 29,
      "outputs": [
        {
          "output_type": "stream",
          "name": "stdout",
          "text": [
            "[False False  True ... False False False]\n",
            "    bags  boxes\n",
            "0  False  False\n",
            "1  False   True\n",
            "2   True   True\n",
            "3   True  False\n",
            "4  False  False\n",
            "bags     0.371717\n",
            "boxes    0.368524\n",
            "dtype: float64\n"
          ]
        }
      ]
    },
    {
      "cell_type": "markdown",
      "source": [
        "## Apriori Algorithm\n",
        "---\n",
        "$n$개의 item에 대한 전체 itemset의 갯수: $\\sum_{k=0}^{n}\\binom{n}{k}=2^{n}$\n",
        "- 너무 많다.\n",
        "\n",
        "Itemset의 갯수 줄이기\n",
        "- 모든 Itemset을 고려하는 것은 불가능하다 (열거하는 것조차도 불가능)\n",
        "- 각각에 대해 evaluate할 필요없이 어떻게 제거할 수 있을까?\n",
        "  - $k$ 값에 제한을 둔다\n",
        "\n",
        "$\\therefore$ Apriori algorithm\n",
        "- Frequent set의 부분집합도 frequent하다\n",
        "- 가지고 있는 (retain) set은 frequent하다\n",
        "- 제거해야 할 (prune) set은 frequent하지 않다\n",
        "\n",
        "Example\n",
        "* `Candle - Infrequent` \n",
        "  - $→$`{Candle, Sign} -  Infrequent`\n",
        "\n",
        "* `{Candle, Sign} -  Infrequent` \n",
        "  - $→$`{Candle, Sign, Boxes} -  Infrequent`\n",
        "\n",
        "* `{Candle, Sign, Boxes} -  Infrequent` \n",
        "  - $\\rightarrow$ `{Candle, Sign, Boxes, Bags} -  Infrequent`\n",
        "\n",
        "\n",
        "\n"
      ],
      "metadata": {
        "id": "z12jIn0vYG2R"
      }
    },
    {
      "cell_type": "code",
      "source": [
        "from mlxtend.frequent_patterns import apriori, association_rules\n",
        "# display(onehot.head())\n",
        "\n",
        "frequent_itemsets = apriori(\n",
        "    onehot, min_support = .0005, max_len = 4, use_colnames = True\n",
        ")\n",
        "print(len(frequent_itemsets))"
      ],
      "metadata": {
        "id": "gZQbgF2JYSuI"
      },
      "execution_count": null,
      "outputs": []
    },
    {
      "cell_type": "markdown",
      "source": [
        "### Association rules을 구하는 방법\n",
        "- Apriori 결과로부터 rule을 구한다\n",
        "  - $n, k$ 값이 클 때 열거하기 어려움\n",
        "- association rule 수를 줄인다\n",
        "  - `mlxtend`는 pruning 수단을 제공\n",
        "  - `association_rules()`는 frequent item, metric, threshold를 갖는다"
      ],
      "metadata": {
        "id": "h7W3qZwRa-UX"
      }
    },
    {
      "cell_type": "code",
      "source": [
        "rules = association_rules(\n",
        "    frequent_itemsets, metric = \"support\", min_threshold = 0.\n",
        ")\n",
        "\n",
        "print(rules)"
      ],
      "metadata": {
        "id": "M0LUTB0Ca-f3",
        "colab": {
          "base_uri": "https://localhost:8080/"
        },
        "outputId": "cc2c43d2-36db-4cb9-f69a-8198fc8a6d84"
      },
      "execution_count": 48,
      "outputs": [
        {
          "output_type": "stream",
          "name": "stdout",
          "text": [
            "Empty DataFrame\n",
            "Columns: [antecedents, consequents, antecedent support, consequent support, support, confidence, lift, leverage, conviction]\n",
            "Index: []\n"
          ]
        }
      ]
    },
    {
      "cell_type": "markdown",
      "source": [
        "## Visualization\n",
        "### Heatmaps\n",
        "1. Rule을 생성한다: `Apriori algorithm`과 `association rules`\n",
        "2. Antecedent와 Consequent를 String으로 변환한다: \n",
        "3. Rule을 행렬 형태로 변환"
      ],
      "metadata": {
        "id": "Gb207SHnfrqH"
      }
    },
    {
      "cell_type": "code",
      "source": [
        "# movie_ratings = pd.read_csv(\"movielens_movies.csv\")\n",
        "user_ratings = pd.read_csv(\"/gdrive/My Drive/my_data/datacamp/building-recommendation-engines-in-python/user_ratings.csv\")\n",
        "user_ratings = user_ratings.reset_index()[[\"userId\", \"movieId\", \"title\"]]\n",
        "user_ratings.head()\n",
        "\n",
        "user_id = user_ratings['userId'].unique()\n",
        "libraries = [list(user_ratings[user_ratings['userId'] == u].title) for u in user_id]\n",
        "print(libraries[0])"
      ],
      "metadata": {
        "colab": {
          "base_uri": "https://localhost:8080/"
        },
        "id": "4mMBJeBkgiwh",
        "outputId": "208c6698-a82a-457d-dc85-e59bda4c74bf"
      },
      "execution_count": 59,
      "outputs": [
        {
          "output_type": "stream",
          "name": "stdout",
          "text": [
            "['Toy Story (1995)', 'Grumpier Old Men (1995)', 'Heat (1995)', 'Seven (a.k.a. Se7en) (1995)', 'Usual Suspects, The (1995)', 'From Dusk Till Dawn (1996)', 'Bottle Rocket (1996)', 'Braveheart (1995)', 'Rob Roy (1995)', 'Canadian Bacon (1995)', 'Desperado (1995)', 'Billy Madison (1995)', 'Clerks (1994)', 'Dumb & Dumber (Dumb and Dumber) (1994)', 'Ed Wood (1994)', 'Star Wars: Episode IV - A New Hope (1977)', 'Pulp Fiction (1994)', 'Stargate (1994)', 'Tommy Boy (1995)', 'Clear and Present Danger (1994)', 'Forrest Gump (1994)', 'Jungle Book, The (1994)', 'Mask, The (1994)', 'Blown Away (1994)', 'Dazed and Confused (1993)', 'Fugitive, The (1993)', 'Jurassic Park (1993)', 'Mrs. Doubtfire (1993)', \"Schindler's List (1993)\", 'So I Married an Axe Murderer (1993)', 'Three Musketeers, The (1993)', 'Tombstone (1993)', 'Dances with Wolves (1990)', 'Batman (1989)', 'Silence of the Lambs, The (1991)', 'Pinocchio (1940)', 'Fargo (1996)', 'Mission: Impossible (1996)', 'James and the Giant Peach (1996)', 'Space Jam (1996)', 'Rock, The (1996)', 'Twister (1996)', 'Independence Day (a.k.a. ID4) (1996)', \"She's the One (1996)\", 'Wizard of Oz, The (1939)', 'Citizen Kane (1941)', 'Adventures of Robin Hood, The (1938)', 'Ghost and Mrs. Muir, The (1947)', 'Mr. Smith Goes to Washington (1939)', 'Escape to Witch Mountain (1975)', 'Winnie the Pooh and the Blustery Day (1968)', 'Three Caballeros, The (1945)', 'Sword in the Stone, The (1963)', 'Dumbo (1941)', \"Pete's Dragon (1977)\", 'Bedknobs and Broomsticks (1971)', 'Alice in Wonderland (1951)', 'That Thing You Do! (1996)', 'Ghost and the Darkness, The (1996)', 'Swingers (1996)', 'Willy Wonka & the Chocolate Factory (1971)', \"Monty Python's Life of Brian (1979)\", 'Reservoir Dogs (1992)', 'Platoon (1986)', 'Basic Instinct (1992)', 'E.T. the Extra-Terrestrial (1982)', 'Abyss, The (1989)', 'Monty Python and the Holy Grail (1975)', 'Star Wars: Episode V - The Empire Strikes Back (1980)', 'Princess Bride, The (1987)', 'Raiders of the Lost Ark (Indiana Jones and the Raiders of the Lost Ark) (1981)', 'Clockwork Orange, A (1971)', 'Apocalypse Now (1979)', 'Star Wars: Episode VI - Return of the Jedi (1983)', 'Goodfellas (1990)', 'Alien (1979)', 'Psycho (1960)', 'Blues Brothers, The (1980)', 'Full Metal Jacket (1987)', 'Henry V (1989)', 'Quiet Man, The (1952)', 'Terminator, The (1984)', 'Duck Soup (1933)', 'Shining, The (1980)', 'Groundhog Day (1993)', 'Back to the Future (1985)', 'Highlander (1986)', 'Young Frankenstein (1974)', 'Fantasia (1940)', 'Indiana Jones and the Last Crusade (1989)', 'Pink Floyd: The Wall (1982)', 'Nosferatu (Nosferatu, eine Symphonie des Grauens) (1922)', 'Batman Returns (1992)', 'Sneakers (1992)', 'Last of the Mohicans, The (1992)', \"McHale's Navy (1997)\", 'Best Men (1997)', 'Grosse Pointe Blank (1997)', 'Austin Powers: International Man of Mystery (1997)', 'Con Air (1997)', 'Face/Off (1997)', 'Men in Black (a.k.a. MIB) (1997)', 'Conan the Barbarian (1982)', 'L.A. Confidential (1997)', 'Kiss the Girls (1997)', 'Game, The (1997)', 'I Know What You Did Last Summer (1997)', 'Starship Troopers (1997)', 'Big Lebowski, The (1998)', 'Wedding Singer, The (1998)', 'Welcome to Woop-Woop (1997)', 'Newton Boys, The (1998)', 'Wild Things (1998)', 'Small Soldiers (1998)', 'All Quiet on the Western Front (1930)', 'Rocky (1976)', 'Labyrinth (1986)', 'Lethal Weapon (1987)', 'Goonies, The (1985)', 'Back to the Future Part III (1990)', 'Bambi (1942)', 'Saving Private Ryan (1998)', 'Black Cauldron, The (1985)', 'Flight of the Navigator (1986)', 'Great Mouse Detective, The (1986)', 'Honey, I Shrunk the Kids (1989)', 'Negotiator, The (1998)', 'Jungle Book, The (1967)', 'Rescuers, The (1977)', 'Return to Oz (1985)', 'Rocketeer, The (1991)', 'Sleeping Beauty (1959)', 'Song of the South (1946)', 'Tron (1982)', 'Indiana Jones and the Temple of Doom (1984)', 'Lord of the Rings, The (1978)', \"Charlotte's Web (1973)\", 'Secret of NIMH, The (1982)', 'American Tail, An (1986)', 'Legend (1985)', 'NeverEnding Story, The (1984)', 'Beetlejuice (1988)', 'Willow (1988)', 'Toys (1992)', 'Few Good Men, A (1992)', 'Rush Hour (1998)', 'Edward Scissorhands (1990)', 'American History X (1998)', 'I Still Know What You Did Last Summer (1998)', 'Enemy of the State (1998)', 'King Kong (1933)', 'Very Bad Things (1998)', 'Psycho (1998)', 'Rushmore (1998)', 'Romancing the Stone (1984)', 'Young Sherlock Holmes (1985)', 'Thin Red Line, The (1998)', 'Howard the Duck (1986)', 'Texas Chainsaw Massacre, The (1974)', 'Crocodile Dundee (1986)', '¡Three Amigos! (1986)', '20 Dates (1998)', 'Office Space (1999)', \"Logan's Run (1976)\", 'Planet of the Apes (1968)', 'Lock, Stock & Two Smoking Barrels (1998)', 'Matrix, The (1999)', 'Go (1999)', 'SLC Punk! (1998)', 'Dick Tracy (1990)', 'Mummy, The (1999)', 'Star Wars: Episode I - The Phantom Menace (1999)', 'Superman (1978)', 'Superman II (1980)', 'Dracula (1931)', 'Frankenstein (1931)', 'Wolf Man, The (1941)', 'Rocky Horror Picture Show, The (1975)', 'Run Lola Run (Lola rennt) (1998)', 'South Park: Bigger, Longer and Uncut (1999)', 'Ghostbusters (a.k.a. Ghost Busters) (1984)', 'Iron Giant, The (1999)', 'Big (1988)', '13th Warrior, The (1999)', 'American Beauty (1999)', 'Excalibur (1981)', \"Gulliver's Travels (1939)\", 'Total Recall (1990)', 'Dirty Dozen, The (1967)', 'Goldfinger (1964)', 'From Russia with Love (1963)', 'Dr. No (1962)', 'Fight Club (1999)', 'RoboCop (1987)', 'Who Framed Roger Rabbit? (1988)', 'Live and Let Die (1973)', 'Thunderball (1965)', 'Being John Malkovich (1999)', 'Spaceballs (1987)', 'Robin Hood (1973)', 'Dogma (1999)', 'Messenger: The Story of Joan of Arc, The (1999)', 'Longest Day, The (1962)', 'Green Mile, The (1999)', 'Easy Rider (1969)', 'Talented Mr. Ripley, The (1999)', 'Encino Man (1992)', 'Sister Act (1992)', \"Wayne's World (1992)\", 'Scream 3 (2000)', 'JFK (1991)', 'Teenage Mutant Ninja Turtles II: The Secret of the Ooze (1991)', 'Teenage Mutant Ninja Turtles III (1993)', 'Red Dawn (1984)', 'Good Morning, Vietnam (1987)', 'Grumpy Old Men (1993)', 'Ladyhawke (1985)', 'Hook (1991)', 'Predator (1987)', 'Gladiator (2000)', 'Road Trip (2000)', 'Man with the Golden Gun, The (1974)', 'Blazing Saddles (1974)', 'Mad Max (1979)', 'Road Warrior, The (Mad Max 2) (1981)', 'Shaft (1971)', 'Big Trouble in Little China (1986)', 'Shaft (2000)', 'X-Men (2000)', 'What About Bob? (1991)', 'Transformers: The Movie (1986)', 'M*A*S*H (a.k.a. MASH) (1970)']\n"
          ]
        }
      ]
    },
    {
      "cell_type": "code",
      "source": [
        "encoder = TransactionEncoder()\n",
        "onehot = encoder.fit(libraries).transform(libraries)\n",
        "onehot = pd.DataFrame(onehot, columns = encoder.columns_)\n",
        "onehot.head()"
      ],
      "metadata": {
        "colab": {
          "base_uri": "https://localhost:8080/",
          "height": 421
        },
        "id": "LmzFa-bSicWj",
        "outputId": "87d9e9b1-fcbe-4fa8-8f5a-deb5e706e7a4"
      },
      "execution_count": 60,
      "outputs": [
        {
          "output_type": "execute_result",
          "data": {
            "text/html": [
              "\n",
              "  <div id=\"df-aed35c20-9097-4adb-b136-53dd2a262b5c\">\n",
              "    <div class=\"colab-df-container\">\n",
              "      <div>\n",
              "<style scoped>\n",
              "    .dataframe tbody tr th:only-of-type {\n",
              "        vertical-align: middle;\n",
              "    }\n",
              "\n",
              "    .dataframe tbody tr th {\n",
              "        vertical-align: top;\n",
              "    }\n",
              "\n",
              "    .dataframe thead th {\n",
              "        text-align: right;\n",
              "    }\n",
              "</style>\n",
              "<table border=\"1\" class=\"dataframe\">\n",
              "  <thead>\n",
              "    <tr style=\"text-align: right;\">\n",
              "      <th></th>\n",
              "      <th>'71 (2014)</th>\n",
              "      <th>'Hellboy': The Seeds of Creation (2004)</th>\n",
              "      <th>'Round Midnight (1986)</th>\n",
              "      <th>'Salem's Lot (2004)</th>\n",
              "      <th>'Til There Was You (1997)</th>\n",
              "      <th>'Tis the Season for Love (2015)</th>\n",
              "      <th>'burbs, The (1989)</th>\n",
              "      <th>'night Mother (1986)</th>\n",
              "      <th>(500) Days of Summer (2009)</th>\n",
              "      <th>*batteries not included (1987)</th>\n",
              "      <th>...</th>\n",
              "      <th>Zulu (2013)</th>\n",
              "      <th>[REC] (2007)</th>\n",
              "      <th>[REC]² (2009)</th>\n",
              "      <th>[REC]³ 3 Génesis (2012)</th>\n",
              "      <th>anohana: The Flower We Saw That Day - The Movie (2013)</th>\n",
              "      <th>eXistenZ (1999)</th>\n",
              "      <th>xXx (2002)</th>\n",
              "      <th>xXx: State of the Union (2005)</th>\n",
              "      <th>¡Three Amigos! (1986)</th>\n",
              "      <th>À nous la liberté (Freedom for Us) (1931)</th>\n",
              "    </tr>\n",
              "  </thead>\n",
              "  <tbody>\n",
              "    <tr>\n",
              "      <th>0</th>\n",
              "      <td>False</td>\n",
              "      <td>False</td>\n",
              "      <td>False</td>\n",
              "      <td>False</td>\n",
              "      <td>False</td>\n",
              "      <td>False</td>\n",
              "      <td>False</td>\n",
              "      <td>False</td>\n",
              "      <td>False</td>\n",
              "      <td>False</td>\n",
              "      <td>...</td>\n",
              "      <td>False</td>\n",
              "      <td>False</td>\n",
              "      <td>False</td>\n",
              "      <td>False</td>\n",
              "      <td>False</td>\n",
              "      <td>False</td>\n",
              "      <td>False</td>\n",
              "      <td>False</td>\n",
              "      <td>True</td>\n",
              "      <td>False</td>\n",
              "    </tr>\n",
              "    <tr>\n",
              "      <th>1</th>\n",
              "      <td>False</td>\n",
              "      <td>False</td>\n",
              "      <td>False</td>\n",
              "      <td>False</td>\n",
              "      <td>False</td>\n",
              "      <td>False</td>\n",
              "      <td>False</td>\n",
              "      <td>False</td>\n",
              "      <td>False</td>\n",
              "      <td>False</td>\n",
              "      <td>...</td>\n",
              "      <td>False</td>\n",
              "      <td>False</td>\n",
              "      <td>False</td>\n",
              "      <td>False</td>\n",
              "      <td>False</td>\n",
              "      <td>False</td>\n",
              "      <td>False</td>\n",
              "      <td>False</td>\n",
              "      <td>False</td>\n",
              "      <td>False</td>\n",
              "    </tr>\n",
              "    <tr>\n",
              "      <th>2</th>\n",
              "      <td>False</td>\n",
              "      <td>False</td>\n",
              "      <td>False</td>\n",
              "      <td>False</td>\n",
              "      <td>False</td>\n",
              "      <td>False</td>\n",
              "      <td>False</td>\n",
              "      <td>False</td>\n",
              "      <td>False</td>\n",
              "      <td>False</td>\n",
              "      <td>...</td>\n",
              "      <td>False</td>\n",
              "      <td>False</td>\n",
              "      <td>False</td>\n",
              "      <td>False</td>\n",
              "      <td>False</td>\n",
              "      <td>False</td>\n",
              "      <td>False</td>\n",
              "      <td>False</td>\n",
              "      <td>False</td>\n",
              "      <td>False</td>\n",
              "    </tr>\n",
              "    <tr>\n",
              "      <th>3</th>\n",
              "      <td>False</td>\n",
              "      <td>False</td>\n",
              "      <td>False</td>\n",
              "      <td>False</td>\n",
              "      <td>False</td>\n",
              "      <td>False</td>\n",
              "      <td>False</td>\n",
              "      <td>False</td>\n",
              "      <td>True</td>\n",
              "      <td>False</td>\n",
              "      <td>...</td>\n",
              "      <td>False</td>\n",
              "      <td>False</td>\n",
              "      <td>False</td>\n",
              "      <td>False</td>\n",
              "      <td>False</td>\n",
              "      <td>False</td>\n",
              "      <td>False</td>\n",
              "      <td>False</td>\n",
              "      <td>False</td>\n",
              "      <td>False</td>\n",
              "    </tr>\n",
              "    <tr>\n",
              "      <th>4</th>\n",
              "      <td>False</td>\n",
              "      <td>False</td>\n",
              "      <td>False</td>\n",
              "      <td>False</td>\n",
              "      <td>False</td>\n",
              "      <td>False</td>\n",
              "      <td>False</td>\n",
              "      <td>False</td>\n",
              "      <td>False</td>\n",
              "      <td>False</td>\n",
              "      <td>...</td>\n",
              "      <td>False</td>\n",
              "      <td>False</td>\n",
              "      <td>False</td>\n",
              "      <td>False</td>\n",
              "      <td>False</td>\n",
              "      <td>False</td>\n",
              "      <td>False</td>\n",
              "      <td>False</td>\n",
              "      <td>False</td>\n",
              "      <td>False</td>\n",
              "    </tr>\n",
              "  </tbody>\n",
              "</table>\n",
              "<p>5 rows × 9719 columns</p>\n",
              "</div>\n",
              "      <button class=\"colab-df-convert\" onclick=\"convertToInteractive('df-aed35c20-9097-4adb-b136-53dd2a262b5c')\"\n",
              "              title=\"Convert this dataframe to an interactive table.\"\n",
              "              style=\"display:none;\">\n",
              "        \n",
              "  <svg xmlns=\"http://www.w3.org/2000/svg\" height=\"24px\"viewBox=\"0 0 24 24\"\n",
              "       width=\"24px\">\n",
              "    <path d=\"M0 0h24v24H0V0z\" fill=\"none\"/>\n",
              "    <path d=\"M18.56 5.44l.94 2.06.94-2.06 2.06-.94-2.06-.94-.94-2.06-.94 2.06-2.06.94zm-11 1L8.5 8.5l.94-2.06 2.06-.94-2.06-.94L8.5 2.5l-.94 2.06-2.06.94zm10 10l.94 2.06.94-2.06 2.06-.94-2.06-.94-.94-2.06-.94 2.06-2.06.94z\"/><path d=\"M17.41 7.96l-1.37-1.37c-.4-.4-.92-.59-1.43-.59-.52 0-1.04.2-1.43.59L10.3 9.45l-7.72 7.72c-.78.78-.78 2.05 0 2.83L4 21.41c.39.39.9.59 1.41.59.51 0 1.02-.2 1.41-.59l7.78-7.78 2.81-2.81c.8-.78.8-2.07 0-2.86zM5.41 20L4 18.59l7.72-7.72 1.47 1.35L5.41 20z\"/>\n",
              "  </svg>\n",
              "      </button>\n",
              "      \n",
              "  <style>\n",
              "    .colab-df-container {\n",
              "      display:flex;\n",
              "      flex-wrap:wrap;\n",
              "      gap: 12px;\n",
              "    }\n",
              "\n",
              "    .colab-df-convert {\n",
              "      background-color: #E8F0FE;\n",
              "      border: none;\n",
              "      border-radius: 50%;\n",
              "      cursor: pointer;\n",
              "      display: none;\n",
              "      fill: #1967D2;\n",
              "      height: 32px;\n",
              "      padding: 0 0 0 0;\n",
              "      width: 32px;\n",
              "    }\n",
              "\n",
              "    .colab-df-convert:hover {\n",
              "      background-color: #E2EBFA;\n",
              "      box-shadow: 0px 1px 2px rgba(60, 64, 67, 0.3), 0px 1px 3px 1px rgba(60, 64, 67, 0.15);\n",
              "      fill: #174EA6;\n",
              "    }\n",
              "\n",
              "    [theme=dark] .colab-df-convert {\n",
              "      background-color: #3B4455;\n",
              "      fill: #D2E3FC;\n",
              "    }\n",
              "\n",
              "    [theme=dark] .colab-df-convert:hover {\n",
              "      background-color: #434B5C;\n",
              "      box-shadow: 0px 1px 3px 1px rgba(0, 0, 0, 0.15);\n",
              "      filter: drop-shadow(0px 1px 2px rgba(0, 0, 0, 0.3));\n",
              "      fill: #FFFFFF;\n",
              "    }\n",
              "  </style>\n",
              "\n",
              "      <script>\n",
              "        const buttonEl =\n",
              "          document.querySelector('#df-aed35c20-9097-4adb-b136-53dd2a262b5c button.colab-df-convert');\n",
              "        buttonEl.style.display =\n",
              "          google.colab.kernel.accessAllowed ? 'block' : 'none';\n",
              "\n",
              "        async function convertToInteractive(key) {\n",
              "          const element = document.querySelector('#df-aed35c20-9097-4adb-b136-53dd2a262b5c');\n",
              "          const dataTable =\n",
              "            await google.colab.kernel.invokeFunction('convertToInteractive',\n",
              "                                                     [key], {});\n",
              "          if (!dataTable) return;\n",
              "\n",
              "          const docLinkHtml = 'Like what you see? Visit the ' +\n",
              "            '<a target=\"_blank\" href=https://colab.research.google.com/notebooks/data_table.ipynb>data table notebook</a>'\n",
              "            + ' to learn more about interactive tables.';\n",
              "          element.innerHTML = '';\n",
              "          dataTable['output_type'] = 'display_data';\n",
              "          await google.colab.output.renderOutput(dataTable, element);\n",
              "          const docLink = document.createElement('div');\n",
              "          docLink.innerHTML = docLinkHtml;\n",
              "          element.appendChild(docLink);\n",
              "        }\n",
              "      </script>\n",
              "    </div>\n",
              "  </div>\n",
              "  "
            ],
            "text/plain": [
              "   '71 (2014)  'Hellboy': The Seeds of Creation (2004)  \\\n",
              "0       False                                    False   \n",
              "1       False                                    False   \n",
              "2       False                                    False   \n",
              "3       False                                    False   \n",
              "4       False                                    False   \n",
              "\n",
              "   'Round Midnight (1986)  'Salem's Lot (2004)  'Til There Was You (1997)  \\\n",
              "0                   False                False                      False   \n",
              "1                   False                False                      False   \n",
              "2                   False                False                      False   \n",
              "3                   False                False                      False   \n",
              "4                   False                False                      False   \n",
              "\n",
              "   'Tis the Season for Love (2015)  'burbs, The (1989)  'night Mother (1986)  \\\n",
              "0                            False               False                 False   \n",
              "1                            False               False                 False   \n",
              "2                            False               False                 False   \n",
              "3                            False               False                 False   \n",
              "4                            False               False                 False   \n",
              "\n",
              "   (500) Days of Summer (2009)  *batteries not included (1987)  ...  \\\n",
              "0                        False                           False  ...   \n",
              "1                        False                           False  ...   \n",
              "2                        False                           False  ...   \n",
              "3                         True                           False  ...   \n",
              "4                        False                           False  ...   \n",
              "\n",
              "   Zulu (2013)  [REC] (2007)  [REC]² (2009)  [REC]³ 3 Génesis (2012)  \\\n",
              "0        False         False          False                    False   \n",
              "1        False         False          False                    False   \n",
              "2        False         False          False                    False   \n",
              "3        False         False          False                    False   \n",
              "4        False         False          False                    False   \n",
              "\n",
              "   anohana: The Flower We Saw That Day - The Movie (2013)  eXistenZ (1999)  \\\n",
              "0                                              False                 False   \n",
              "1                                              False                 False   \n",
              "2                                              False                 False   \n",
              "3                                              False                 False   \n",
              "4                                              False                 False   \n",
              "\n",
              "   xXx (2002)  xXx: State of the Union (2005)  ¡Three Amigos! (1986)  \\\n",
              "0       False                           False                   True   \n",
              "1       False                           False                  False   \n",
              "2       False                           False                  False   \n",
              "3       False                           False                  False   \n",
              "4       False                           False                  False   \n",
              "\n",
              "   À nous la liberté (Freedom for Us) (1931)  \n",
              "0                                      False  \n",
              "1                                      False  \n",
              "2                                      False  \n",
              "3                                      False  \n",
              "4                                      False  \n",
              "\n",
              "[5 rows x 9719 columns]"
            ]
          },
          "metadata": {},
          "execution_count": 60
        }
      ]
    },
    {
      "cell_type": "code",
      "source": [
        "import seaborn as sns\n",
        "\n",
        "frequent_itemsets = apriori(\n",
        "    onehot, min_support=.1, use_colnames=True, max_len=2\n",
        ")\n",
        "rules = association_rules(frequent_itemsets)\n",
        "\n",
        "rules['antecedents'] = rules['antecedents'].apply(lambda a: \",\".join(list(a)))\n",
        "rules['consequents'] = rules['consequents'].apply(lambda a: \",\".join(list(a)))\n",
        "# print(rules[['antecedents', 'consequents']])\n",
        "\n",
        "support_table = rules.pivot(\n",
        "    index = \"consequents\",\n",
        "    columns = \"antecedents\",\n",
        "    values = \"support\"\n",
        ")\n",
        "# sns.heatmap(support_table)\n",
        "sns.heatmap(support_table, annot=True, cbar=False, cmap='ocean')"
      ],
      "metadata": {
        "id": "4rAB0ox2laK6",
        "colab": {
          "base_uri": "https://localhost:8080/",
          "height": 581
        },
        "outputId": "afb0a187-5743-4073-db0b-4eba51dc4c3f"
      },
      "execution_count": 64,
      "outputs": [
        {
          "output_type": "execute_result",
          "data": {
            "text/plain": [
              "<matplotlib.axes._subplots.AxesSubplot at 0x7f53234a1bd0>"
            ]
          },
          "metadata": {},
          "execution_count": 64
        },
        {
          "output_type": "display_data",
          "data": {
            "image/png": "[encoded data removed]",
            "text/plain": [
              "<Figure size 432x288 with 1 Axes>"
            ]
          },
          "metadata": {
            "needs_background": "light"
          }
        }
      ]
    },
    {
      "cell_type": "markdown",
      "source": [
        "### Scatterplots\n",
        "- Value 쌍을 나타낸다\n",
        "  - (Antecedent, consequent) support\n",
        "  - Confidence and lift\n",
        "- 가정된 모델이 없고, 추세선이나 곡선도 필요없음\n",
        "- Pruning을 위한 시작점을 제공한다"
      ],
      "metadata": {
        "id": "zbFEVFl2xoeo"
      }
    },
    {
      "cell_type": "code",
      "source": [
        "# frequent_itemsets = apriori(\n",
        "#     onehot, min_support=.01, use_colnames=True, max_len=2\n",
        "# )\n",
        "# rules = association_rules(frequent_itemsets, metric='support', min_threshold=.0)\n",
        "sns.scatterplot(\n",
        "    x = \"antecedent support\",\n",
        "    y = \"consequent support\",\n",
        "    size = \"lift\",\n",
        "    data = rules\n",
        ")"
      ],
      "metadata": {
        "id": "SY0qnmJClr6D",
        "colab": {
          "base_uri": "https://localhost:8080/",
          "height": 370
        },
        "outputId": "2f1f95a4-7aae-4348-b5d7-a7d61dc1e4db"
      },
      "execution_count": 69,
      "outputs": [
        {
          "output_type": "execute_result",
          "data": {
            "text/plain": [
              "<matplotlib.axes._subplots.AxesSubplot at 0x7f53232a0390>"
            ]
          },
          "metadata": {},
          "execution_count": 69
        },
        {
          "output_type": "stream",
          "name": "stderr",
          "text": [
            "/usr/local/lib/python3.7/dist-packages/google/colab/_event_manager.py:28: UserWarning: Creating legend with loc=\"best\" can be slow with large amounts of data.\n",
            "  func(*args, **kwargs)\n",
            "/usr/local/lib/python3.7/dist-packages/IPython/core/pylabtools.py:125: UserWarning: Creating legend with loc=\"best\" can be slow with large amounts of data.\n",
            "  fig.canvas.print_figure(bytes_io, **kw)\n"
          ]
        },
        {
          "output_type": "display_data",
          "data": {
            "image/png": "[encoded data removed]",
            "text/plain": [
              "<Figure size 432x288 with 1 Axes>"
            ]
          },
          "metadata": {
            "needs_background": "light"
          }
        }
      ]
    },
    {
      "cell_type": "markdown",
      "source": [
        "### Parallel coordinates plot\n",
        "vs. heatmap\n",
        "- Intensity 정보가 필요없다\n",
        "- Rule의 존재 여부만 알기 원할 때\n",
        "- Visual clutter (방해)를 줄이고 싶을 때\n",
        "\n",
        "vs. scatterplot\n",
        "- 개별적인 rule의 정보를 알고 싶을 때\n",
        "- multiple metric과는 관련이 적음\n",
        "- 최종 rule만 관심 있을 때"
      ],
      "metadata": {
        "id": "EtiYnHWwzFbH"
      }
    },
    {
      "cell_type": "code",
      "source": [
        "frequent_itemsets = apriori(onehot, min_support=.1,\n",
        "                             use_colnames=True, max_len=2)\n",
        "rules = association_rules(frequent_itemsets, metric=\"support\",\n",
        "                          min_threshold=.0)\n",
        "\n",
        "rules['antecedents'] = rules['antecedents'].apply(lambda a: list(a)[0])\n",
        "rules['consequents'] = rules['consequents'].apply(lambda a: list(a)[0])\n",
        "rules['rule'] = rules.index\n",
        "\n",
        "coords = rules[['antecedents', 'consequents', 'rule']]\n",
        "display(coords.head(1))"
      ],
      "metadata": {
        "id": "TEIHa3Ycl3RI",
        "colab": {
          "base_uri": "https://localhost:8080/",
          "height": 81
        },
        "outputId": "e99d0f84-3ab1-46f3-82e3-7334eb3c3997"
      },
      "execution_count": 76,
      "outputs": [
        {
          "output_type": "display_data",
          "data": {
            "text/html": [
              "\n",
              "  <div id=\"df-a09bcb1f-d698-47d5-9148-852864f1ed0a\">\n",
              "    <div class=\"colab-df-container\">\n",
              "      <div>\n",
              "<style scoped>\n",
              "    .dataframe tbody tr th:only-of-type {\n",
              "        vertical-align: middle;\n",
              "    }\n",
              "\n",
              "    .dataframe tbody tr th {\n",
              "        vertical-align: top;\n",
              "    }\n",
              "\n",
              "    .dataframe thead th {\n",
              "        text-align: right;\n",
              "    }\n",
              "</style>\n",
              "<table border=\"1\" class=\"dataframe\">\n",
              "  <thead>\n",
              "    <tr style=\"text-align: right;\">\n",
              "      <th></th>\n",
              "      <th>antecedents</th>\n",
              "      <th>consequents</th>\n",
              "      <th>rule</th>\n",
              "    </tr>\n",
              "  </thead>\n",
              "  <tbody>\n",
              "    <tr>\n",
              "      <th>0</th>\n",
              "      <td>2001: A Space Odyssey (1968)</td>\n",
              "      <td>Alien (1979)</td>\n",
              "      <td>0</td>\n",
              "    </tr>\n",
              "  </tbody>\n",
              "</table>\n",
              "</div>\n",
              "      <button class=\"colab-df-convert\" onclick=\"convertToInteractive('df-a09bcb1f-d698-47d5-9148-852864f1ed0a')\"\n",
              "              title=\"Convert this dataframe to an interactive table.\"\n",
              "              style=\"display:none;\">\n",
              "        \n",
              "  <svg xmlns=\"http://www.w3.org/2000/svg\" height=\"24px\"viewBox=\"0 0 24 24\"\n",
              "       width=\"24px\">\n",
              "    <path d=\"M0 0h24v24H0V0z\" fill=\"none\"/>\n",
              "    <path d=\"M18.56 5.44l.94 2.06.94-2.06 2.06-.94-2.06-.94-.94-2.06-.94 2.06-2.06.94zm-11 1L8.5 8.5l.94-2.06 2.06-.94-2.06-.94L8.5 2.5l-.94 2.06-2.06.94zm10 10l.94 2.06.94-2.06 2.06-.94-2.06-.94-.94-2.06-.94 2.06-2.06.94z\"/><path d=\"M17.41 7.96l-1.37-1.37c-.4-.4-.92-.59-1.43-.59-.52 0-1.04.2-1.43.59L10.3 9.45l-7.72 7.72c-.78.78-.78 2.05 0 2.83L4 21.41c.39.39.9.59 1.41.59.51 0 1.02-.2 1.41-.59l7.78-7.78 2.81-2.81c.8-.78.8-2.07 0-2.86zM5.41 20L4 18.59l7.72-7.72 1.47 1.35L5.41 20z\"/>\n",
              "  </svg>\n",
              "      </button>\n",
              "      \n",
              "  <style>\n",
              "    .colab-df-container {\n",
              "      display:flex;\n",
              "      flex-wrap:wrap;\n",
              "      gap: 12px;\n",
              "    }\n",
              "\n",
              "    .colab-df-convert {\n",
              "      background-color: #E8F0FE;\n",
              "      border: none;\n",
              "      border-radius: 50%;\n",
              "      cursor: pointer;\n",
              "      display: none;\n",
              "      fill: #1967D2;\n",
              "      height: 32px;\n",
              "      padding: 0 0 0 0;\n",
              "      width: 32px;\n",
              "    }\n",
              "\n",
              "    .colab-df-convert:hover {\n",
              "      background-color: #E2EBFA;\n",
              "      box-shadow: 0px 1px 2px rgba(60, 64, 67, 0.3), 0px 1px 3px 1px rgba(60, 64, 67, 0.15);\n",
              "      fill: #174EA6;\n",
              "    }\n",
              "\n",
              "    [theme=dark] .colab-df-convert {\n",
              "      background-color: #3B4455;\n",
              "      fill: #D2E3FC;\n",
              "    }\n",
              "\n",
              "    [theme=dark] .colab-df-convert:hover {\n",
              "      background-color: #434B5C;\n",
              "      box-shadow: 0px 1px 3px 1px rgba(0, 0, 0, 0.15);\n",
              "      filter: drop-shadow(0px 1px 2px rgba(0, 0, 0, 0.3));\n",
              "      fill: #FFFFFF;\n",
              "    }\n",
              "  </style>\n",
              "\n",
              "      <script>\n",
              "        const buttonEl =\n",
              "          document.querySelector('#df-a09bcb1f-d698-47d5-9148-852864f1ed0a button.colab-df-convert');\n",
              "        buttonEl.style.display =\n",
              "          google.colab.kernel.accessAllowed ? 'block' : 'none';\n",
              "\n",
              "        async function convertToInteractive(key) {\n",
              "          const element = document.querySelector('#df-a09bcb1f-d698-47d5-9148-852864f1ed0a');\n",
              "          const dataTable =\n",
              "            await google.colab.kernel.invokeFunction('convertToInteractive',\n",
              "                                                     [key], {});\n",
              "          if (!dataTable) return;\n",
              "\n",
              "          const docLinkHtml = 'Like what you see? Visit the ' +\n",
              "            '<a target=\"_blank\" href=https://colab.research.google.com/notebooks/data_table.ipynb>data table notebook</a>'\n",
              "            + ' to learn more about interactive tables.';\n",
              "          element.innerHTML = '';\n",
              "          dataTable['output_type'] = 'display_data';\n",
              "          await google.colab.output.renderOutput(dataTable, element);\n",
              "          const docLink = document.createElement('div');\n",
              "          docLink.innerHTML = docLinkHtml;\n",
              "          element.appendChild(docLink);\n",
              "        }\n",
              "      </script>\n",
              "    </div>\n",
              "  </div>\n",
              "  "
            ],
            "text/plain": [
              "                    antecedents   consequents  rule\n",
              "0  2001: A Space Odyssey (1968)  Alien (1979)     0"
            ]
          },
          "metadata": {}
        }
      ]
    },
    {
      "cell_type": "code",
      "source": [
        "from pandas.plotting import parallel_coordinates\n",
        "\n",
        "frequent_itemsets = apriori(onehot, min_support=.01,\n",
        "                             use_colnames=True, max_len=2)\n",
        "rules = association_rules(frequent_itemsets, metric=\"lift\",\n",
        "                          min_threshold=1.0)\n",
        "\n",
        "rules['antecedents'] = rules['antecedents'].apply(lambda a: list(a)[0])\n",
        "rules['consequents'] = rules['consequents'].apply(lambda a: list(a)[0])\n",
        "rules['rule'] = rules.index\n",
        "\n",
        "coords = rules[['antecedents', 'consequents', 'rule']]\n",
        "parallel_coordinates(coords, \"rule\")"
      ],
      "metadata": {
        "id": "P0HO0Gumm7aB"
      },
      "execution_count": null,
      "outputs": []
    }
  ]
}