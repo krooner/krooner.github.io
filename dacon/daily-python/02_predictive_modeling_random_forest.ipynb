{
  "nbformat": 4,
  "nbformat_minor": 0,
  "metadata": {
    "colab": {
      "name": "02-predictive-modeling-random-forest.ipynb",
      "provenance": [],
      "collapsed_sections": [],
      "authorship_tag": "ABX9TyPzbZ03hyFkAzwCuduETc+E",
      "include_colab_link": true
    },
    "kernelspec": {
      "name": "python3",
      "display_name": "Python 3"
    },
    "language_info": {
      "name": "python"
    }
  },
  "cells": [
    {
      "cell_type": "markdown",
      "metadata": {
        "id": "view-in-github",
        "colab_type": "text"
      },
      "source": [
        "<a href=\"https://colab.research.google.com/github/krooner/data-analysis-projects/blob/main/02_predictive_modeling_random_forest.ipynb\" target=\"_parent\"><img src=\"https://colab.research.google.com/assets/colab-badge.svg\" alt=\"Open In Colab\"/></a>"
      ]
    },
    {
      "cell_type": "markdown",
      "source": [
        "# 결측치 보간법과 랜덤포레스트로 따릉이 데이터 예측하기\n",
        "---\n",
        "1시간 전의 기상 정보를 활용하여 **해당 시간의 따릉이 대여 수를 예측하기**"
      ],
      "metadata": {
        "id": "ZJ8eTJ7k0Dw3"
      }
    },
    {
      "cell_type": "markdown",
      "source": [
        "## 1. Import libraries"
      ],
      "metadata": {
        "id": "5f2Zxr9R0v4p"
      }
    },
    {
      "cell_type": "code",
      "source": [
        "import pandas as pd\n",
        "import numpy as np\n",
        "from sklearn.ensemble import RandomForestRegressor\n",
        "from sklearn.model_selection import GridSearchCV\n",
        "\n",
        "from matplotlib import pyplot as plt\n",
        "import seaborn as sns\n",
        "\n",
        "plt.rc('axes', unicode_minus=False) # 마이너스 기호 출력\n",
        "\n",
        "import warnings\n",
        "warnings.filterwarnings('ignore')"
      ],
      "metadata": {
        "id": "bbEDDNX90oEr"
      },
      "execution_count": null,
      "outputs": []
    },
    {
      "cell_type": "markdown",
      "source": [
        "## 2. Download dataset"
      ],
      "metadata": {
        "id": "c8GTaacm0cq6"
      }
    },
    {
      "cell_type": "code",
      "source": [
        "!wget 'https://bit.ly/3gLj0Q6'\n",
        "\n",
        "import zipfile\n",
        "with zipfile.ZipFile('3gLj0Q6', 'r') as existing_zip:\n",
        "    existing_zip.extractall('data')"
      ],
      "metadata": {
        "colab": {
          "base_uri": "https://localhost:8080/"
        },
        "id": "9NCw4bQD0MMJ",
        "outputId": "19c138af-868f-4297-b5fb-97bb048c6eea"
      },
      "execution_count": null,
      "outputs": [
        {
          "output_type": "stream",
          "name": "stdout",
          "text": [
            "--2022-05-22 03:18:02--  https://bit.ly/3gLj0Q6\n",
            "Resolving bit.ly (bit.ly)... 67.199.248.10, 67.199.248.11\n",
            "Connecting to bit.ly (bit.ly)|67.199.248.10|:443... connected.\n",
            "HTTP request sent, awaiting response... 301 Moved Permanently\n",
            "Location: https://drive.google.com/uc?export=download&id=1or_QN1ksv81DNog6Tu_kWcZ5jJWf5W9E [following]\n",
            "--2022-05-22 03:18:03--  https://drive.google.com/uc?export=download&id=1or_QN1ksv81DNog6Tu_kWcZ5jJWf5W9E\n",
            "Resolving drive.google.com (drive.google.com)... 173.194.216.100, 173.194.216.113, 173.194.216.138, ...\n",
            "Connecting to drive.google.com (drive.google.com)|173.194.216.100|:443... connected.\n",
            "HTTP request sent, awaiting response... 303 See Other\n",
            "Location: https://doc-0c-10-docs.googleusercontent.com/docs/securesc/ha0ro937gcuc7l7deffksulhg5h7mbp1/ripsk6biu5bjeknm4bfh0nt1h53bcc0b/1653189450000/17946651057176172524/*/1or_QN1ksv81DNog6Tu_kWcZ5jJWf5W9E?e=download [following]\n",
            "Warning: wildcards not supported in HTTP.\n",
            "--2022-05-22 03:18:03--  https://doc-0c-10-docs.googleusercontent.com/docs/securesc/ha0ro937gcuc7l7deffksulhg5h7mbp1/ripsk6biu5bjeknm4bfh0nt1h53bcc0b/1653189450000/17946651057176172524/*/1or_QN1ksv81DNog6Tu_kWcZ5jJWf5W9E?e=download\n",
            "Resolving doc-0c-10-docs.googleusercontent.com (doc-0c-10-docs.googleusercontent.com)... 173.194.217.132, 2607:f8b0:400c:c13::84\n",
            "Connecting to doc-0c-10-docs.googleusercontent.com (doc-0c-10-docs.googleusercontent.com)|173.194.217.132|:443... connected.\n",
            "HTTP request sent, awaiting response... 200 OK\n",
            "Length: 39208 (38K) [application/zip]\n",
            "Saving to: ‘3gLj0Q6’\n",
            "\n",
            "3gLj0Q6             100%[===================>]  38.29K  --.-KB/s    in 0s      \n",
            "\n",
            "2022-05-22 03:18:03 (122 MB/s) - ‘3gLj0Q6’ saved [39208/39208]\n",
            "\n"
          ]
        }
      ]
    },
    {
      "cell_type": "markdown",
      "source": [
        "## 3. Load file"
      ],
      "metadata": {
        "id": "CyimF_NW1COs"
      }
    },
    {
      "cell_type": "code",
      "source": [
        "train = pd.read_csv(\"data/train.csv\")\n",
        "test = pd.read_csv(\"data/test.csv\")"
      ],
      "metadata": {
        "id": "GWbuHqOA1CWf"
      },
      "execution_count": null,
      "outputs": []
    },
    {
      "cell_type": "markdown",
      "source": [
        "## 4. EDA\n",
        "\n",
        "### `train`\n",
        "피쳐 종류는 다음과 같다.\n",
        "\n",
        "||id|hour|temp|prec|wind|humidity|visibility|ozone|pm10|pm2.5|count|\n",
        "|---|---|---|---|---|---|---|---|---|---|---|---| \n",
        "||ID|시간|기온|강수 여부|풍속|습도|가시성|오존|미세먼지|초미세먼지|대여 수 (종속 변수)|\n",
        "\n",
        "피쳐가 모두 수치형 데이터이다. \n",
        "- **수치형 데이터 간의 상관관계** 분석을 통해 필요없는 피쳐는 제외한다.\n",
        "\n",
        "결측치가 존재한다.\n",
        "- 결측치를 어떻게 대체할 것인가?"
      ],
      "metadata": {
        "id": "4GUoQZwf1Q8l"
      }
    },
    {
      "cell_type": "code",
      "source": [
        "print(train.info())\n",
        "print()\n",
        "# print(train.isnull().sum())\n",
        "# print()\n",
        "print(train.describe())\n",
        "print()\n",
        "display(train.head())"
      ],
      "metadata": {
        "colab": {
          "base_uri": "https://localhost:8080/",
          "height": 1000
        },
        "id": "6D_QXp0w1IMt",
        "outputId": "8757b7e8-728b-4af5-df83-d4c08651c4a8"
      },
      "execution_count": null,
      "outputs": [
        {
          "output_type": "stream",
          "name": "stdout",
          "text": [
            "<class 'pandas.core.frame.DataFrame'>\n",
            "RangeIndex: 1459 entries, 0 to 1458\n",
            "Data columns (total 11 columns):\n",
            " #   Column                  Non-Null Count  Dtype  \n",
            "---  ------                  --------------  -----  \n",
            " 0   id                      1459 non-null   int64  \n",
            " 1   hour                    1459 non-null   int64  \n",
            " 2   hour_bef_temperature    1457 non-null   float64\n",
            " 3   hour_bef_precipitation  1457 non-null   float64\n",
            " 4   hour_bef_windspeed      1450 non-null   float64\n",
            " 5   hour_bef_humidity       1457 non-null   float64\n",
            " 6   hour_bef_visibility     1457 non-null   float64\n",
            " 7   hour_bef_ozone          1383 non-null   float64\n",
            " 8   hour_bef_pm10           1369 non-null   float64\n",
            " 9   hour_bef_pm2.5          1342 non-null   float64\n",
            " 10  count                   1459 non-null   float64\n",
            "dtypes: float64(9), int64(2)\n",
            "memory usage: 125.5 KB\n",
            "None\n",
            "\n",
            "                id         hour  hour_bef_temperature  hour_bef_precipitation  \\\n",
            "count  1459.000000  1459.000000           1457.000000             1457.000000   \n",
            "mean   1105.914325    11.493489             16.717433                0.031572   \n",
            "std     631.338681     6.922790              5.239150                0.174917   \n",
            "min       3.000000     0.000000              3.100000                0.000000   \n",
            "25%     555.500000     5.500000             12.800000                0.000000   \n",
            "50%    1115.000000    11.000000             16.600000                0.000000   \n",
            "75%    1651.000000    17.500000             20.100000                0.000000   \n",
            "max    2179.000000    23.000000             30.000000                1.000000   \n",
            "\n",
            "       hour_bef_windspeed  hour_bef_humidity  hour_bef_visibility  \\\n",
            "count         1450.000000        1457.000000          1457.000000   \n",
            "mean             2.479034          52.231297          1405.216884   \n",
            "std              1.378265          20.370387           583.131708   \n",
            "min              0.000000           7.000000            78.000000   \n",
            "25%              1.400000          36.000000           879.000000   \n",
            "50%              2.300000          51.000000          1577.000000   \n",
            "75%              3.400000          69.000000          1994.000000   \n",
            "max              8.000000          99.000000          2000.000000   \n",
            "\n",
            "       hour_bef_ozone  hour_bef_pm10  hour_bef_pm2.5        count  \n",
            "count     1383.000000    1369.000000     1342.000000  1459.000000  \n",
            "mean         0.039149      57.168736       30.327124   108.563400  \n",
            "std          0.019509      31.771019       14.713252    82.631733  \n",
            "min          0.003000       9.000000        8.000000     1.000000  \n",
            "25%          0.025500      36.000000       20.000000    37.000000  \n",
            "50%          0.039000      51.000000       26.000000    96.000000  \n",
            "75%          0.052000      69.000000       37.000000   150.000000  \n",
            "max          0.125000     269.000000       90.000000   431.000000  \n",
            "\n"
          ]
        },
        {
          "output_type": "display_data",
          "data": {
            "text/plain": [
              "   id  hour  hour_bef_temperature  hour_bef_precipitation  hour_bef_windspeed  \\\n",
              "0   3    20                  16.3                     1.0                 1.5   \n",
              "1   6    13                  20.1                     0.0                 1.4   \n",
              "2   7     6                  13.9                     0.0                 0.7   \n",
              "3   8    23                   8.1                     0.0                 2.7   \n",
              "4   9    18                  29.5                     0.0                 4.8   \n",
              "\n",
              "   hour_bef_humidity  hour_bef_visibility  hour_bef_ozone  hour_bef_pm10  \\\n",
              "0               89.0                576.0           0.027           76.0   \n",
              "1               48.0                916.0           0.042           73.0   \n",
              "2               79.0               1382.0           0.033           32.0   \n",
              "3               54.0                946.0           0.040           75.0   \n",
              "4                7.0               2000.0           0.057           27.0   \n",
              "\n",
              "   hour_bef_pm2.5  count  \n",
              "0            33.0   49.0  \n",
              "1            40.0  159.0  \n",
              "2            19.0   26.0  \n",
              "3            64.0   57.0  \n",
              "4            11.0  431.0  "
            ],
            "text/html": [
              "\n",
              "  <div id=\"df-c7c9256e-05fe-4a94-913c-3c48b4702110\">\n",
              "    <div class=\"colab-df-container\">\n",
              "      <div>\n",
              "<style scoped>\n",
              "    .dataframe tbody tr th:only-of-type {\n",
              "        vertical-align: middle;\n",
              "    }\n",
              "\n",
              "    .dataframe tbody tr th {\n",
              "        vertical-align: top;\n",
              "    }\n",
              "\n",
              "    .dataframe thead th {\n",
              "        text-align: right;\n",
              "    }\n",
              "</style>\n",
              "<table border=\"1\" class=\"dataframe\">\n",
              "  <thead>\n",
              "    <tr style=\"text-align: right;\">\n",
              "      <th></th>\n",
              "      <th>id</th>\n",
              "      <th>hour</th>\n",
              "      <th>hour_bef_temperature</th>\n",
              "      <th>hour_bef_precipitation</th>\n",
              "      <th>hour_bef_windspeed</th>\n",
              "      <th>hour_bef_humidity</th>\n",
              "      <th>hour_bef_visibility</th>\n",
              "      <th>hour_bef_ozone</th>\n",
              "      <th>hour_bef_pm10</th>\n",
              "      <th>hour_bef_pm2.5</th>\n",
              "      <th>count</th>\n",
              "    </tr>\n",
              "  </thead>\n",
              "  <tbody>\n",
              "    <tr>\n",
              "      <th>0</th>\n",
              "      <td>3</td>\n",
              "      <td>20</td>\n",
              "      <td>16.3</td>\n",
              "      <td>1.0</td>\n",
              "      <td>1.5</td>\n",
              "      <td>89.0</td>\n",
              "      <td>576.0</td>\n",
              "      <td>0.027</td>\n",
              "      <td>76.0</td>\n",
              "      <td>33.0</td>\n",
              "      <td>49.0</td>\n",
              "    </tr>\n",
              "    <tr>\n",
              "      <th>1</th>\n",
              "      <td>6</td>\n",
              "      <td>13</td>\n",
              "      <td>20.1</td>\n",
              "      <td>0.0</td>\n",
              "      <td>1.4</td>\n",
              "      <td>48.0</td>\n",
              "      <td>916.0</td>\n",
              "      <td>0.042</td>\n",
              "      <td>73.0</td>\n",
              "      <td>40.0</td>\n",
              "      <td>159.0</td>\n",
              "    </tr>\n",
              "    <tr>\n",
              "      <th>2</th>\n",
              "      <td>7</td>\n",
              "      <td>6</td>\n",
              "      <td>13.9</td>\n",
              "      <td>0.0</td>\n",
              "      <td>0.7</td>\n",
              "      <td>79.0</td>\n",
              "      <td>1382.0</td>\n",
              "      <td>0.033</td>\n",
              "      <td>32.0</td>\n",
              "      <td>19.0</td>\n",
              "      <td>26.0</td>\n",
              "    </tr>\n",
              "    <tr>\n",
              "      <th>3</th>\n",
              "      <td>8</td>\n",
              "      <td>23</td>\n",
              "      <td>8.1</td>\n",
              "      <td>0.0</td>\n",
              "      <td>2.7</td>\n",
              "      <td>54.0</td>\n",
              "      <td>946.0</td>\n",
              "      <td>0.040</td>\n",
              "      <td>75.0</td>\n",
              "      <td>64.0</td>\n",
              "      <td>57.0</td>\n",
              "    </tr>\n",
              "    <tr>\n",
              "      <th>4</th>\n",
              "      <td>9</td>\n",
              "      <td>18</td>\n",
              "      <td>29.5</td>\n",
              "      <td>0.0</td>\n",
              "      <td>4.8</td>\n",
              "      <td>7.0</td>\n",
              "      <td>2000.0</td>\n",
              "      <td>0.057</td>\n",
              "      <td>27.0</td>\n",
              "      <td>11.0</td>\n",
              "      <td>431.0</td>\n",
              "    </tr>\n",
              "  </tbody>\n",
              "</table>\n",
              "</div>\n",
              "      <button class=\"colab-df-convert\" onclick=\"convertToInteractive('df-c7c9256e-05fe-4a94-913c-3c48b4702110')\"\n",
              "              title=\"Convert this dataframe to an interactive table.\"\n",
              "              style=\"display:none;\">\n",
              "        \n",
              "  <svg xmlns=\"http://www.w3.org/2000/svg\" height=\"24px\"viewBox=\"0 0 24 24\"\n",
              "       width=\"24px\">\n",
              "    <path d=\"M0 0h24v24H0V0z\" fill=\"none\"/>\n",
              "    <path d=\"M18.56 5.44l.94 2.06.94-2.06 2.06-.94-2.06-.94-.94-2.06-.94 2.06-2.06.94zm-11 1L8.5 8.5l.94-2.06 2.06-.94-2.06-.94L8.5 2.5l-.94 2.06-2.06.94zm10 10l.94 2.06.94-2.06 2.06-.94-2.06-.94-.94-2.06-.94 2.06-2.06.94z\"/><path d=\"M17.41 7.96l-1.37-1.37c-.4-.4-.92-.59-1.43-.59-.52 0-1.04.2-1.43.59L10.3 9.45l-7.72 7.72c-.78.78-.78 2.05 0 2.83L4 21.41c.39.39.9.59 1.41.59.51 0 1.02-.2 1.41-.59l7.78-7.78 2.81-2.81c.8-.78.8-2.07 0-2.86zM5.41 20L4 18.59l7.72-7.72 1.47 1.35L5.41 20z\"/>\n",
              "  </svg>\n",
              "      </button>\n",
              "      \n",
              "  <style>\n",
              "    .colab-df-container {\n",
              "      display:flex;\n",
              "      flex-wrap:wrap;\n",
              "      gap: 12px;\n",
              "    }\n",
              "\n",
              "    .colab-df-convert {\n",
              "      background-color: #E8F0FE;\n",
              "      border: none;\n",
              "      border-radius: 50%;\n",
              "      cursor: pointer;\n",
              "      display: none;\n",
              "      fill: #1967D2;\n",
              "      height: 32px;\n",
              "      padding: 0 0 0 0;\n",
              "      width: 32px;\n",
              "    }\n",
              "\n",
              "    .colab-df-convert:hover {\n",
              "      background-color: #E2EBFA;\n",
              "      box-shadow: 0px 1px 2px rgba(60, 64, 67, 0.3), 0px 1px 3px 1px rgba(60, 64, 67, 0.15);\n",
              "      fill: #174EA6;\n",
              "    }\n",
              "\n",
              "    [theme=dark] .colab-df-convert {\n",
              "      background-color: #3B4455;\n",
              "      fill: #D2E3FC;\n",
              "    }\n",
              "\n",
              "    [theme=dark] .colab-df-convert:hover {\n",
              "      background-color: #434B5C;\n",
              "      box-shadow: 0px 1px 3px 1px rgba(0, 0, 0, 0.15);\n",
              "      filter: drop-shadow(0px 1px 2px rgba(0, 0, 0, 0.3));\n",
              "      fill: #FFFFFF;\n",
              "    }\n",
              "  </style>\n",
              "\n",
              "      <script>\n",
              "        const buttonEl =\n",
              "          document.querySelector('#df-c7c9256e-05fe-4a94-913c-3c48b4702110 button.colab-df-convert');\n",
              "        buttonEl.style.display =\n",
              "          google.colab.kernel.accessAllowed ? 'block' : 'none';\n",
              "\n",
              "        async function convertToInteractive(key) {\n",
              "          const element = document.querySelector('#df-c7c9256e-05fe-4a94-913c-3c48b4702110');\n",
              "          const dataTable =\n",
              "            await google.colab.kernel.invokeFunction('convertToInteractive',\n",
              "                                                     [key], {});\n",
              "          if (!dataTable) return;\n",
              "\n",
              "          const docLinkHtml = 'Like what you see? Visit the ' +\n",
              "            '<a target=\"_blank\" href=https://colab.research.google.com/notebooks/data_table.ipynb>data table notebook</a>'\n",
              "            + ' to learn more about interactive tables.';\n",
              "          element.innerHTML = '';\n",
              "          dataTable['output_type'] = 'display_data';\n",
              "          await google.colab.output.renderOutput(dataTable, element);\n",
              "          const docLink = document.createElement('div');\n",
              "          docLink.innerHTML = docLinkHtml;\n",
              "          element.appendChild(docLink);\n",
              "        }\n",
              "      </script>\n",
              "    </div>\n",
              "  </div>\n",
              "  "
            ]
          },
          "metadata": {}
        }
      ]
    },
    {
      "cell_type": "markdown",
      "source": [
        "### 시각화\n",
        "`count`에 대한 히스토그램"
      ],
      "metadata": {
        "id": "4K3ZsoOy-Ysh"
      }
    },
    {
      "cell_type": "code",
      "source": [
        "sns.histplot(train['count'])\n",
        "plt.ylabel(\"Frequency\")\n",
        "plt.show()"
      ],
      "metadata": {
        "colab": {
          "base_uri": "https://localhost:8080/",
          "height": 279
        },
        "id": "6LBs6C7F7x9w",
        "outputId": "c3b0a5c4-eb46-4439-84a3-e98dff9d4e63"
      },
      "execution_count": null,
      "outputs": [
        {
          "output_type": "display_data",
          "data": {
            "text/plain": [
              "<Figure size 432x288 with 1 Axes>"
            ],
            "image/png": "[encoded data removed]"
          },
          "metadata": {
            "needs_background": "light"
          }
        }
      ]
    },
    {
      "cell_type": "markdown",
      "source": [
        "### 전체 수치형 변수 간의 상관관계 시각화\n",
        "- `id`는 무의미한 피쳐다.\n",
        "- `강수량, 미세먼지, 초미세먼지`는 비교적 `count`와의 상관관계의 정도가 낮다."
      ],
      "metadata": {
        "id": "cd72xUrQ-7Bd"
      }
    },
    {
      "cell_type": "code",
      "source": [
        "plt.figure(figsize = (12, 12))\n",
        "sns.heatmap(train.corr(), annot = True)"
      ],
      "metadata": {
        "colab": {
          "base_uri": "https://localhost:8080/",
          "height": 824
        },
        "id": "aN6yh0vw74Bb",
        "outputId": "17d4ba86-ab40-47e7-8c78-c27e6365eb9c"
      },
      "execution_count": null,
      "outputs": [
        {
          "output_type": "execute_result",
          "data": {
            "text/plain": [
              "<matplotlib.axes._subplots.AxesSubplot at 0x7fb1823baa10>"
            ]
          },
          "metadata": {},
          "execution_count": 7
        },
        {
          "output_type": "display_data",
          "data": {
            "text/plain": [
              "<Figure size 864x864 with 2 Axes>"
            ],
            "image/png": "[encoded data removed]"
          },
          "metadata": {
            "needs_background": "light"
          }
        }
      ]
    },
    {
      "cell_type": "markdown",
      "source": [
        "### `test`\n",
        "피쳐 종류는 `count`를 제외하고 동일하며, 역시 결측치가 존재한다."
      ],
      "metadata": {
        "id": "_QD-xZWo49LP"
      }
    },
    {
      "cell_type": "code",
      "source": [
        "print(test.info())\n",
        "print()\n",
        "# print(test.isnull().sum())\n",
        "# print()\n",
        "print(test.describe())\n",
        "print()\n",
        "display(test.head())"
      ],
      "metadata": {
        "colab": {
          "base_uri": "https://localhost:8080/",
          "height": 1000
        },
        "id": "N385UH-U49SX",
        "outputId": "9bca8e79-b3a6-4f81-9cde-b1037341e25f"
      },
      "execution_count": null,
      "outputs": [
        {
          "output_type": "stream",
          "name": "stdout",
          "text": [
            "<class 'pandas.core.frame.DataFrame'>\n",
            "RangeIndex: 715 entries, 0 to 714\n",
            "Data columns (total 10 columns):\n",
            " #   Column                  Non-Null Count  Dtype  \n",
            "---  ------                  --------------  -----  \n",
            " 0   id                      715 non-null    int64  \n",
            " 1   hour                    715 non-null    int64  \n",
            " 2   hour_bef_temperature    714 non-null    float64\n",
            " 3   hour_bef_precipitation  714 non-null    float64\n",
            " 4   hour_bef_windspeed      714 non-null    float64\n",
            " 5   hour_bef_humidity       714 non-null    float64\n",
            " 6   hour_bef_visibility     714 non-null    float64\n",
            " 7   hour_bef_ozone          680 non-null    float64\n",
            " 8   hour_bef_pm10           678 non-null    float64\n",
            " 9   hour_bef_pm2.5          679 non-null    float64\n",
            "dtypes: float64(8), int64(2)\n",
            "memory usage: 56.0 KB\n",
            "None\n",
            "\n",
            "                id        hour  hour_bef_temperature  hour_bef_precipitation  \\\n",
            "count   715.000000  715.000000            714.000000              714.000000   \n",
            "mean   1056.854545   11.472727             23.263305                0.051821   \n",
            "std     625.574471    6.928427              4.039645                0.221820   \n",
            "min       0.000000    0.000000             14.600000                0.000000   \n",
            "25%     507.000000    5.500000             20.300000                0.000000   \n",
            "50%    1046.000000   11.000000             22.900000                0.000000   \n",
            "75%    1616.500000   17.000000             26.375000                0.000000   \n",
            "max    2177.000000   23.000000             33.800000                1.000000   \n",
            "\n",
            "       hour_bef_windspeed  hour_bef_humidity  hour_bef_visibility  \\\n",
            "count          714.000000         714.000000           714.000000   \n",
            "mean             2.388515          56.668067          1359.494398   \n",
            "std              1.171270          19.661880           614.171870   \n",
            "min              0.000000          16.000000           126.000000   \n",
            "25%              1.500000          42.000000           807.250000   \n",
            "50%              2.300000          55.000000          1489.000000   \n",
            "75%              3.275000          73.750000          2000.000000   \n",
            "max              5.900000         100.000000          2000.000000   \n",
            "\n",
            "       hour_bef_ozone  hour_bef_pm10  hour_bef_pm2.5  \n",
            "count      680.000000     678.000000      679.000000  \n",
            "mean         0.041196      36.930678       24.939617  \n",
            "std          0.020656      12.641503       10.075857  \n",
            "min          0.003000       9.000000        7.000000  \n",
            "25%          0.027000      28.000000       17.000000  \n",
            "50%          0.039000      35.000000       24.000000  \n",
            "75%          0.052250      45.000000       31.000000  \n",
            "max          0.138000      94.000000       69.000000  \n",
            "\n"
          ]
        },
        {
          "output_type": "display_data",
          "data": {
            "text/plain": [
              "   id  hour  hour_bef_temperature  hour_bef_precipitation  hour_bef_windspeed  \\\n",
              "0   0     7                  20.7                     0.0                 1.3   \n",
              "1   1    17                  30.0                     0.0                 5.4   \n",
              "2   2    13                  19.0                     1.0                 2.1   \n",
              "3   4     6                  22.5                     0.0                 2.5   \n",
              "4   5    22                  14.6                     1.0                 3.4   \n",
              "\n",
              "   hour_bef_humidity  hour_bef_visibility  hour_bef_ozone  hour_bef_pm10  \\\n",
              "0               62.0                954.0           0.041           44.0   \n",
              "1               33.0               1590.0           0.061           49.0   \n",
              "2               95.0                193.0           0.020           36.0   \n",
              "3               60.0               1185.0           0.027           52.0   \n",
              "4               93.0                218.0           0.041           18.0   \n",
              "\n",
              "   hour_bef_pm2.5  \n",
              "0            27.0  \n",
              "1            36.0  \n",
              "2            28.0  \n",
              "3            38.0  \n",
              "4            15.0  "
            ],
            "text/html": [
              "\n",
              "  <div id=\"df-55b5edb9-bcb1-42e7-8ac9-6949d0e55f6e\">\n",
              "    <div class=\"colab-df-container\">\n",
              "      <div>\n",
              "<style scoped>\n",
              "    .dataframe tbody tr th:only-of-type {\n",
              "        vertical-align: middle;\n",
              "    }\n",
              "\n",
              "    .dataframe tbody tr th {\n",
              "        vertical-align: top;\n",
              "    }\n",
              "\n",
              "    .dataframe thead th {\n",
              "        text-align: right;\n",
              "    }\n",
              "</style>\n",
              "<table border=\"1\" class=\"dataframe\">\n",
              "  <thead>\n",
              "    <tr style=\"text-align: right;\">\n",
              "      <th></th>\n",
              "      <th>id</th>\n",
              "      <th>hour</th>\n",
              "      <th>hour_bef_temperature</th>\n",
              "      <th>hour_bef_precipitation</th>\n",
              "      <th>hour_bef_windspeed</th>\n",
              "      <th>hour_bef_humidity</th>\n",
              "      <th>hour_bef_visibility</th>\n",
              "      <th>hour_bef_ozone</th>\n",
              "      <th>hour_bef_pm10</th>\n",
              "      <th>hour_bef_pm2.5</th>\n",
              "    </tr>\n",
              "  </thead>\n",
              "  <tbody>\n",
              "    <tr>\n",
              "      <th>0</th>\n",
              "      <td>0</td>\n",
              "      <td>7</td>\n",
              "      <td>20.7</td>\n",
              "      <td>0.0</td>\n",
              "      <td>1.3</td>\n",
              "      <td>62.0</td>\n",
              "      <td>954.0</td>\n",
              "      <td>0.041</td>\n",
              "      <td>44.0</td>\n",
              "      <td>27.0</td>\n",
              "    </tr>\n",
              "    <tr>\n",
              "      <th>1</th>\n",
              "      <td>1</td>\n",
              "      <td>17</td>\n",
              "      <td>30.0</td>\n",
              "      <td>0.0</td>\n",
              "      <td>5.4</td>\n",
              "      <td>33.0</td>\n",
              "      <td>1590.0</td>\n",
              "      <td>0.061</td>\n",
              "      <td>49.0</td>\n",
              "      <td>36.0</td>\n",
              "    </tr>\n",
              "    <tr>\n",
              "      <th>2</th>\n",
              "      <td>2</td>\n",
              "      <td>13</td>\n",
              "      <td>19.0</td>\n",
              "      <td>1.0</td>\n",
              "      <td>2.1</td>\n",
              "      <td>95.0</td>\n",
              "      <td>193.0</td>\n",
              "      <td>0.020</td>\n",
              "      <td>36.0</td>\n",
              "      <td>28.0</td>\n",
              "    </tr>\n",
              "    <tr>\n",
              "      <th>3</th>\n",
              "      <td>4</td>\n",
              "      <td>6</td>\n",
              "      <td>22.5</td>\n",
              "      <td>0.0</td>\n",
              "      <td>2.5</td>\n",
              "      <td>60.0</td>\n",
              "      <td>1185.0</td>\n",
              "      <td>0.027</td>\n",
              "      <td>52.0</td>\n",
              "      <td>38.0</td>\n",
              "    </tr>\n",
              "    <tr>\n",
              "      <th>4</th>\n",
              "      <td>5</td>\n",
              "      <td>22</td>\n",
              "      <td>14.6</td>\n",
              "      <td>1.0</td>\n",
              "      <td>3.4</td>\n",
              "      <td>93.0</td>\n",
              "      <td>218.0</td>\n",
              "      <td>0.041</td>\n",
              "      <td>18.0</td>\n",
              "      <td>15.0</td>\n",
              "    </tr>\n",
              "  </tbody>\n",
              "</table>\n",
              "</div>\n",
              "      <button class=\"colab-df-convert\" onclick=\"convertToInteractive('df-55b5edb9-bcb1-42e7-8ac9-6949d0e55f6e')\"\n",
              "              title=\"Convert this dataframe to an interactive table.\"\n",
              "              style=\"display:none;\">\n",
              "        \n",
              "  <svg xmlns=\"http://www.w3.org/2000/svg\" height=\"24px\"viewBox=\"0 0 24 24\"\n",
              "       width=\"24px\">\n",
              "    <path d=\"M0 0h24v24H0V0z\" fill=\"none\"/>\n",
              "    <path d=\"M18.56 5.44l.94 2.06.94-2.06 2.06-.94-2.06-.94-.94-2.06-.94 2.06-2.06.94zm-11 1L8.5 8.5l.94-2.06 2.06-.94-2.06-.94L8.5 2.5l-.94 2.06-2.06.94zm10 10l.94 2.06.94-2.06 2.06-.94-2.06-.94-.94-2.06-.94 2.06-2.06.94z\"/><path d=\"M17.41 7.96l-1.37-1.37c-.4-.4-.92-.59-1.43-.59-.52 0-1.04.2-1.43.59L10.3 9.45l-7.72 7.72c-.78.78-.78 2.05 0 2.83L4 21.41c.39.39.9.59 1.41.59.51 0 1.02-.2 1.41-.59l7.78-7.78 2.81-2.81c.8-.78.8-2.07 0-2.86zM5.41 20L4 18.59l7.72-7.72 1.47 1.35L5.41 20z\"/>\n",
              "  </svg>\n",
              "      </button>\n",
              "      \n",
              "  <style>\n",
              "    .colab-df-container {\n",
              "      display:flex;\n",
              "      flex-wrap:wrap;\n",
              "      gap: 12px;\n",
              "    }\n",
              "\n",
              "    .colab-df-convert {\n",
              "      background-color: #E8F0FE;\n",
              "      border: none;\n",
              "      border-radius: 50%;\n",
              "      cursor: pointer;\n",
              "      display: none;\n",
              "      fill: #1967D2;\n",
              "      height: 32px;\n",
              "      padding: 0 0 0 0;\n",
              "      width: 32px;\n",
              "    }\n",
              "\n",
              "    .colab-df-convert:hover {\n",
              "      background-color: #E2EBFA;\n",
              "      box-shadow: 0px 1px 2px rgba(60, 64, 67, 0.3), 0px 1px 3px 1px rgba(60, 64, 67, 0.15);\n",
              "      fill: #174EA6;\n",
              "    }\n",
              "\n",
              "    [theme=dark] .colab-df-convert {\n",
              "      background-color: #3B4455;\n",
              "      fill: #D2E3FC;\n",
              "    }\n",
              "\n",
              "    [theme=dark] .colab-df-convert:hover {\n",
              "      background-color: #434B5C;\n",
              "      box-shadow: 0px 1px 3px 1px rgba(0, 0, 0, 0.15);\n",
              "      filter: drop-shadow(0px 1px 2px rgba(0, 0, 0, 0.3));\n",
              "      fill: #FFFFFF;\n",
              "    }\n",
              "  </style>\n",
              "\n",
              "      <script>\n",
              "        const buttonEl =\n",
              "          document.querySelector('#df-55b5edb9-bcb1-42e7-8ac9-6949d0e55f6e button.colab-df-convert');\n",
              "        buttonEl.style.display =\n",
              "          google.colab.kernel.accessAllowed ? 'block' : 'none';\n",
              "\n",
              "        async function convertToInteractive(key) {\n",
              "          const element = document.querySelector('#df-55b5edb9-bcb1-42e7-8ac9-6949d0e55f6e');\n",
              "          const dataTable =\n",
              "            await google.colab.kernel.invokeFunction('convertToInteractive',\n",
              "                                                     [key], {});\n",
              "          if (!dataTable) return;\n",
              "\n",
              "          const docLinkHtml = 'Like what you see? Visit the ' +\n",
              "            '<a target=\"_blank\" href=https://colab.research.google.com/notebooks/data_table.ipynb>data table notebook</a>'\n",
              "            + ' to learn more about interactive tables.';\n",
              "          element.innerHTML = '';\n",
              "          dataTable['output_type'] = 'display_data';\n",
              "          await google.colab.output.renderOutput(dataTable, element);\n",
              "          const docLink = document.createElement('div');\n",
              "          docLink.innerHTML = docLinkHtml;\n",
              "          element.appendChild(docLink);\n",
              "        }\n",
              "      </script>\n",
              "    </div>\n",
              "  </div>\n",
              "  "
            ]
          },
          "metadata": {}
        }
      ]
    },
    {
      "cell_type": "markdown",
      "source": [
        "## 5. 전처리\n",
        "결측치를 어떻게 처리할 것인가? \n",
        "\n",
        "변수들의 상관관계를 고려할 필요가 있다.\n",
        "\n",
        "변수 `A`에 결측치가 있고, 변수 `A, B`의 상관관계가 높은 경우 Regression으로 결측치를 대체할 수 있을 것이다.\n",
        "\n",
        "`train`에서 결측이 존재하는 컬럼: \n",
        "- `hour_bef_temperature` - 온도\n",
        "- `hour_bef_precipitation` - 강수량\n",
        "- `hour_bef_windspeed` - 풍속\n",
        "- `hour_bef_humidity` - 습도\n",
        "- `hour_bef_visibility` - 가시성\n",
        "- `hour_bef_ozone` - 오존\n",
        "- `hour_bef_pm10` - 미세먼지\n",
        "- `hour_bef_pm2.5` - 초미세먼지\n",
        "\n",
        "---\n",
        "\n",
        "- ~~`train` 에서 결측치를 포함한 row는 제거하고 `test`의 결측치는 0으로 대체하기.~~\n",
        "\n",
        "- ~~보간법으로 채우기. `.interpolate`~~\n",
        "  - 시간 순으로 정렬되어 있지 않다 (Unordered)\n",
        "\n",
        "- **결측치의 컬럼 평균 값으로 대체하기.**"
      ],
      "metadata": {
        "id": "flNWnLgl5mVe"
      }
    },
    {
      "cell_type": "code",
      "source": [
        "# train = train.dropna()\n",
        "# test = test.fillna(0)\n",
        "\n",
        "# train.interpolate(inplace = True)\n",
        "# test.interpolate(inplace = True)\n",
        "\n",
        "train.fillna(train.mean(), inplace = True)\n",
        "test.fillna(test.mean(), inplace = True)\n",
        "\n",
        "print(train.isnull().sum())\n",
        "print(test.isnull().sum())\n",
        "\n",
        "X_train = train.drop(['count', 'id', 'hour_bef_pm10', 'hour_bef_pm2.5'], axis = 1)\n",
        "# X_train = train.drop(['id', 'count'], axis = 1)\n",
        "Y_train = train['count']"
      ],
      "metadata": {
        "colab": {
          "base_uri": "https://localhost:8080/"
        },
        "id": "cH0d8uxhtlAH",
        "outputId": "f54f5b80-cb7b-4b0c-9ebf-908f5421830d"
      },
      "execution_count": null,
      "outputs": [
        {
          "output_type": "stream",
          "name": "stdout",
          "text": [
            "id                        0\n",
            "hour                      0\n",
            "hour_bef_temperature      0\n",
            "hour_bef_precipitation    0\n",
            "hour_bef_windspeed        0\n",
            "hour_bef_humidity         0\n",
            "hour_bef_visibility       0\n",
            "hour_bef_ozone            0\n",
            "hour_bef_pm10             0\n",
            "hour_bef_pm2.5            0\n",
            "count                     0\n",
            "dtype: int64\n",
            "id                        0\n",
            "hour                      0\n",
            "hour_bef_temperature      0\n",
            "hour_bef_precipitation    0\n",
            "hour_bef_windspeed        0\n",
            "hour_bef_humidity         0\n",
            "hour_bef_visibility       0\n",
            "hour_bef_ozone            0\n",
            "hour_bef_pm10             0\n",
            "hour_bef_pm2.5            0\n",
            "dtype: int64\n"
          ]
        }
      ]
    },
    {
      "cell_type": "markdown",
      "source": [
        "## 6. 모델링\n",
        "\n",
        "1. `분류`가 아닌 `대여 횟수`를 추정해야하기 때문에 ~~`DecisionTreeClassifier()`~~ `DecisionTreeRegressor()`를 선언한다.\n",
        "2. 모델을 학습시킨다.\n",
        "3. 모델을 평가한다."
      ],
      "metadata": {
        "id": "bBqjZEDytg-0"
      }
    },
    {
      "cell_type": "code",
      "source": [
        "model = RandomForestRegressor(\n",
        "    criterion = 'squared_error', random_state = 42\n",
        ")\n",
        "model.fit(X_train, Y_train)\n",
        "\n",
        "test = test.drop(['id', 'hour_bef_pm10', 'hour_bef_pm2.5'], axis = 1)\n",
        "# test = test.drop(['id'], axis = 1)\n",
        "pred = model.predict(test)"
      ],
      "metadata": {
        "id": "5BOX7R1b1q30"
      },
      "execution_count": null,
      "outputs": []
    },
    {
      "cell_type": "markdown",
      "source": [
        "## 7. 결과 저장"
      ],
      "metadata": {
        "id": "hreIGR_5vPkD"
      }
    },
    {
      "cell_type": "code",
      "source": [
        "df = pd.read_csv(\"data/submission.csv\")\n",
        "df['count'] = pred\n",
        "df.to_csv(\"submission_rf_fill_mean_remove_dust.csv\", index = False)"
      ],
      "metadata": {
        "id": "2a8AYSjG6AhU"
      },
      "execution_count": null,
      "outputs": []
    },
    {
      "cell_type": "markdown",
      "source": [
        "## 8. 하이퍼파라미터 튜닝\n",
        "GridSearch\n",
        "- 검색할 Parameter candidates를 정한다.\n",
        "- 모델, 파라미터, 목적 함수 (MSE), Fold (3)를 설정한다."
      ],
      "metadata": {
        "id": "Uz8E3Ea90xjB"
      }
    },
    {
      "cell_type": "code",
      "source": [
        "param = {\n",
        "    'min_samples_split': [30, 50, 70, 90],\n",
        "    'max_depth': [5, 6, 7],\n",
        "    'min_samples_leaf': [1, 3, 5],\n",
        "    'n_estimators': [50, 150, 250, 300]\n",
        "}\n",
        "\n",
        "gs = GridSearchCV(\n",
        "    estimator = model, \n",
        "    param_grid = param, \n",
        "    scoring = 'neg_mean_squared_error', \n",
        "    cv = 3)\n",
        "\n",
        "gs.fit(X_train, Y_train)\n",
        "\n",
        "pred_gs = gs.predict(test)"
      ],
      "metadata": {
        "id": "iNQiYzMnumU3"
      },
      "execution_count": 21,
      "outputs": []
    },
    {
      "cell_type": "markdown",
      "source": [
        "## 결과 저장"
      ],
      "metadata": {
        "id": "-oqlc9I81tTU"
      }
    },
    {
      "cell_type": "code",
      "source": [
        "df = pd.read_csv(\"data/submission.csv\")\n",
        "df['count'] = pred_gs\n",
        "df.to_csv(\"submission_rf_fill_mean_remove_dust_grid.csv\", index = False)"
      ],
      "metadata": {
        "id": "SXj8lIcm1sK8"
      },
      "execution_count": 22,
      "outputs": []
    },
    {
      "cell_type": "code",
      "source": [
        ""
      ],
      "metadata": {
        "id": "JM6VZYJB2MWq"
      },
      "execution_count": null,
      "outputs": []
    }
  ]
}