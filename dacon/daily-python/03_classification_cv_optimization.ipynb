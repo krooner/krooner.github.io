{
  "nbformat": 4,
  "nbformat_minor": 0,
  "metadata": {
    "colab": {
      "name": "03-classification-cv-optimization.ipynb",
      "provenance": [],
      "collapsed_sections": [],
      "authorship_tag": "ABX9TyOidAJRTYucjFga3CEjOyac",
      "include_colab_link": true
    },
    "kernelspec": {
      "name": "python3",
      "display_name": "Python 3"
    },
    "language_info": {
      "name": "python"
    }
  },
  "cells": [
    {
      "cell_type": "markdown",
      "metadata": {
        "id": "view-in-github",
        "colab_type": "text"
      },
      "source": [
        "<a href=\"https://colab.research.google.com/github/krooner/data-analysis-projects/blob/main/03_classification_cv_optimization.ipynb\" target=\"_parent\"><img src=\"https://colab.research.google.com/assets/colab-badge.svg\" alt=\"Open In Colab\"/></a>"
      ]
    },
    {
      "cell_type": "markdown",
      "source": [
        "# 교차검증과 랜덤 포레스트를 활용한 와인 품질 분류하기\n",
        "---"
      ],
      "metadata": {
        "id": "ZJ8eTJ7k0Dw3"
      }
    },
    {
      "cell_type": "markdown",
      "source": [
        "## 1. Import libraries"
      ],
      "metadata": {
        "id": "5f2Zxr9R0v4p"
      }
    },
    {
      "cell_type": "code",
      "source": [
        "import pandas as pd\n",
        "import numpy as np\n",
        "\n",
        "import matplotlib\n",
        "import matplotlib.pyplot as plt\n",
        "import seaborn as sns\n",
        "\n",
        "from sklearn.preprocessing import MinMaxScaler\n",
        "from sklearn.preprocessing import OneHotEncoder\n",
        "from sklearn.ensemble import RandomForestClassifier\n",
        "from sklearn.model_selection import KFold, train_test_split\n",
        "from sklearn.metrics import accuracy_score\n",
        "\n",
        "%matplotlib inline\n",
        "\n",
        "import warnings\n",
        "warnings.filterwarnings('ignore')"
      ],
      "metadata": {
        "id": "bbEDDNX90oEr"
      },
      "execution_count": 1,
      "outputs": []
    },
    {
      "cell_type": "markdown",
      "source": [
        "## 2. Download dataset"
      ],
      "metadata": {
        "id": "c8GTaacm0cq6"
      }
    },
    {
      "cell_type": "code",
      "source": [
        "!wget 'https://bit.ly/3i4n1QB'\n",
        "\n",
        "import zipfile\n",
        "with zipfile.ZipFile('3i4n1QB', 'r') as existing_zip:\n",
        "    existing_zip.extractall('data')"
      ],
      "metadata": {
        "colab": {
          "base_uri": "https://localhost:8080/"
        },
        "id": "9NCw4bQD0MMJ",
        "outputId": "cc743078-2300-4d45-94ad-9a53e14f4a81"
      },
      "execution_count": 3,
      "outputs": [
        {
          "output_type": "stream",
          "name": "stdout",
          "text": [
            "--2022-05-22 05:37:53--  https://bit.ly/3i4n1QB\n",
            "Resolving bit.ly (bit.ly)... 67.199.248.10, 67.199.248.11\n",
            "Connecting to bit.ly (bit.ly)|67.199.248.10|:443... connected.\n",
            "HTTP request sent, awaiting response... 301 Moved Permanently\n",
            "Location: https://drive.google.com/uc?export=download&id=1emLrrpFWT8dCoj5BJb12-5QMG2-nruUw [following]\n",
            "--2022-05-22 05:37:53--  https://drive.google.com/uc?export=download&id=1emLrrpFWT8dCoj5BJb12-5QMG2-nruUw\n",
            "Resolving drive.google.com (drive.google.com)... 142.250.145.138, 142.250.145.101, 142.250.145.100, ...\n",
            "Connecting to drive.google.com (drive.google.com)|142.250.145.138|:443... connected.\n",
            "HTTP request sent, awaiting response... 303 See Other\n",
            "Location: https://doc-10-10-docs.googleusercontent.com/docs/securesc/ha0ro937gcuc7l7deffksulhg5h7mbp1/4ihucsbcg6et9arbqq7jnq3nctms23ct/1653197850000/17946651057176172524/*/1emLrrpFWT8dCoj5BJb12-5QMG2-nruUw?e=download [following]\n",
            "Warning: wildcards not supported in HTTP.\n",
            "--2022-05-22 05:37:54--  https://doc-10-10-docs.googleusercontent.com/docs/securesc/ha0ro937gcuc7l7deffksulhg5h7mbp1/4ihucsbcg6et9arbqq7jnq3nctms23ct/1653197850000/17946651057176172524/*/1emLrrpFWT8dCoj5BJb12-5QMG2-nruUw?e=download\n",
            "Resolving doc-10-10-docs.googleusercontent.com (doc-10-10-docs.googleusercontent.com)... 142.250.145.132, 2a00:1450:4013:c14::84\n",
            "Connecting to doc-10-10-docs.googleusercontent.com (doc-10-10-docs.googleusercontent.com)|142.250.145.132|:443... connected.\n",
            "HTTP request sent, awaiting response... 200 OK\n",
            "Length: 137694 (134K) [application/zip]\n",
            "Saving to: ‘3i4n1QB’\n",
            "\n",
            "3i4n1QB             100%[===================>] 134.47K  --.-KB/s    in 0.002s  \n",
            "\n",
            "2022-05-22 05:37:54 (72.4 MB/s) - ‘3i4n1QB’ saved [137694/137694]\n",
            "\n"
          ]
        }
      ]
    },
    {
      "cell_type": "markdown",
      "source": [
        "## 3. Load file"
      ],
      "metadata": {
        "id": "CyimF_NW1COs"
      }
    },
    {
      "cell_type": "code",
      "source": [
        "train = pd.read_csv(\"data/train.csv\")\n",
        "test = pd.read_csv(\"data/test.csv\")"
      ],
      "metadata": {
        "id": "GWbuHqOA1CWf"
      },
      "execution_count": 4,
      "outputs": []
    },
    {
      "cell_type": "markdown",
      "source": [
        "## 4. EDA\n",
        "\n",
        "### `train`\n",
        "피쳐 종류는 다음과 같다.\n",
        "\n",
        "\n",
        "||index|quality|fixed acidity|volatile acidity|citric acid|residual sugar|chlorides|free sulfur dioxide|totla sulfur dioxide|density|pH|sulphates|alcohol|type|\n",
        "|---|---|---|---|---|---|---|---|---|---|---|---|---|---|---| \n",
        "||구분자|품질|산도|휘발성산|시트르산|잔당|염화물|독립 이산화황|총 이산화황|밀도|수소이온농도|황산염|도수|종류|\n",
        "\n",
        "`quality`는 종속 변수로, 3부터 9까지의 정수\n",
        "\n",
        "`type`을 제외한 컬럼이 모두 수치형 데이터이다. \n",
        "- **수치형 데이터 간의 상관관계** 분석을 통해 필요없는 피쳐는 제외한다.\n",
        "\n",
        "`type`과 같은 카테고리 변수는 One-hot Vector 변환"
      ],
      "metadata": {
        "id": "4GUoQZwf1Q8l"
      }
    },
    {
      "cell_type": "code",
      "source": [
        "print(train.info())\n",
        "print()\n",
        "# print(train.isnull().sum())\n",
        "# print()\n",
        "print(train.describe())\n",
        "print()\n",
        "display(train.head())"
      ],
      "metadata": {
        "colab": {
          "base_uri": "https://localhost:8080/",
          "height": 1000
        },
        "id": "6D_QXp0w1IMt",
        "outputId": "aac6895a-27fa-4bfd-f51c-768e38ba0895"
      },
      "execution_count": 5,
      "outputs": [
        {
          "output_type": "stream",
          "name": "stdout",
          "text": [
            "<class 'pandas.core.frame.DataFrame'>\n",
            "RangeIndex: 5497 entries, 0 to 5496\n",
            "Data columns (total 14 columns):\n",
            " #   Column                Non-Null Count  Dtype  \n",
            "---  ------                --------------  -----  \n",
            " 0   index                 5497 non-null   int64  \n",
            " 1   quality               5497 non-null   int64  \n",
            " 2   fixed acidity         5497 non-null   float64\n",
            " 3   volatile acidity      5497 non-null   float64\n",
            " 4   citric acid           5497 non-null   float64\n",
            " 5   residual sugar        5497 non-null   float64\n",
            " 6   chlorides             5497 non-null   float64\n",
            " 7   free sulfur dioxide   5497 non-null   float64\n",
            " 8   total sulfur dioxide  5497 non-null   float64\n",
            " 9   density               5497 non-null   float64\n",
            " 10  pH                    5497 non-null   float64\n",
            " 11  sulphates             5497 non-null   float64\n",
            " 12  alcohol               5497 non-null   float64\n",
            " 13  type                  5497 non-null   object \n",
            "dtypes: float64(11), int64(2), object(1)\n",
            "memory usage: 601.4+ KB\n",
            "None\n",
            "\n",
            "             index      quality  fixed acidity  volatile acidity  citric acid  \\\n",
            "count  5497.000000  5497.000000    5497.000000       5497.000000  5497.000000   \n",
            "mean   2748.000000     5.818992       7.210115          0.338163     0.318543   \n",
            "std    1586.991546     0.870311       1.287579          0.163224     0.145104   \n",
            "min       0.000000     3.000000       3.800000          0.080000     0.000000   \n",
            "25%    1374.000000     5.000000       6.400000          0.230000     0.250000   \n",
            "50%    2748.000000     6.000000       7.000000          0.290000     0.310000   \n",
            "75%    4122.000000     6.000000       7.700000          0.400000     0.390000   \n",
            "max    5496.000000     9.000000      15.900000          1.580000     1.660000   \n",
            "\n",
            "       residual sugar    chlorides  free sulfur dioxide  total sulfur dioxide  \\\n",
            "count     5497.000000  5497.000000          5497.000000           5497.000000   \n",
            "mean         5.438075     0.055808            30.417682            115.566491   \n",
            "std          4.756676     0.034653            17.673881             56.288223   \n",
            "min          0.600000     0.009000             1.000000              6.000000   \n",
            "25%          1.800000     0.038000            17.000000             78.000000   \n",
            "50%          3.000000     0.047000            29.000000            118.000000   \n",
            "75%          8.100000     0.064000            41.000000            155.000000   \n",
            "max         65.800000     0.610000           289.000000            440.000000   \n",
            "\n",
            "           density           pH    sulphates      alcohol  \n",
            "count  5497.000000  5497.000000  5497.000000  5497.000000  \n",
            "mean      0.994673     3.219502     0.530524    10.504918  \n",
            "std       0.003014     0.160713     0.149396     1.194524  \n",
            "min       0.987110     2.740000     0.220000     8.000000  \n",
            "25%       0.992300     3.110000     0.430000     9.500000  \n",
            "50%       0.994800     3.210000     0.510000    10.300000  \n",
            "75%       0.996930     3.320000     0.600000    11.300000  \n",
            "max       1.038980     4.010000     2.000000    14.900000  \n",
            "\n"
          ]
        },
        {
          "output_type": "display_data",
          "data": {
            "text/plain": [
              "   index  quality  fixed acidity  volatile acidity  citric acid  \\\n",
              "0      0        5            5.6             0.695         0.06   \n",
              "1      1        5            8.8             0.610         0.14   \n",
              "2      2        5            7.9             0.210         0.39   \n",
              "3      3        6            7.0             0.210         0.31   \n",
              "4      4        6            7.8             0.400         0.26   \n",
              "\n",
              "   residual sugar  chlorides  free sulfur dioxide  total sulfur dioxide  \\\n",
              "0             6.8      0.042                  9.0                  84.0   \n",
              "1             2.4      0.067                 10.0                  42.0   \n",
              "2             2.0      0.057                 21.0                 138.0   \n",
              "3             6.0      0.046                 29.0                 108.0   \n",
              "4             9.5      0.059                 32.0                 178.0   \n",
              "\n",
              "   density    pH  sulphates  alcohol   type  \n",
              "0  0.99432  3.44       0.44     10.2  white  \n",
              "1  0.99690  3.19       0.59      9.5    red  \n",
              "2  0.99176  3.05       0.52     10.9  white  \n",
              "3  0.99390  3.26       0.50     10.8  white  \n",
              "4  0.99550  3.04       0.43     10.9  white  "
            ],
            "text/html": [
              "\n",
              "  <div id=\"df-c7d3d27b-d042-45c1-b9d7-023addeb1e31\">\n",
              "    <div class=\"colab-df-container\">\n",
              "      <div>\n",
              "<style scoped>\n",
              "    .dataframe tbody tr th:only-of-type {\n",
              "        vertical-align: middle;\n",
              "    }\n",
              "\n",
              "    .dataframe tbody tr th {\n",
              "        vertical-align: top;\n",
              "    }\n",
              "\n",
              "    .dataframe thead th {\n",
              "        text-align: right;\n",
              "    }\n",
              "</style>\n",
              "<table border=\"1\" class=\"dataframe\">\n",
              "  <thead>\n",
              "    <tr style=\"text-align: right;\">\n",
              "      <th></th>\n",
              "      <th>index</th>\n",
              "      <th>quality</th>\n",
              "      <th>fixed acidity</th>\n",
              "      <th>volatile acidity</th>\n",
              "      <th>citric acid</th>\n",
              "      <th>residual sugar</th>\n",
              "      <th>chlorides</th>\n",
              "      <th>free sulfur dioxide</th>\n",
              "      <th>total sulfur dioxide</th>\n",
              "      <th>density</th>\n",
              "      <th>pH</th>\n",
              "      <th>sulphates</th>\n",
              "      <th>alcohol</th>\n",
              "      <th>type</th>\n",
              "    </tr>\n",
              "  </thead>\n",
              "  <tbody>\n",
              "    <tr>\n",
              "      <th>0</th>\n",
              "      <td>0</td>\n",
              "      <td>5</td>\n",
              "      <td>5.6</td>\n",
              "      <td>0.695</td>\n",
              "      <td>0.06</td>\n",
              "      <td>6.8</td>\n",
              "      <td>0.042</td>\n",
              "      <td>9.0</td>\n",
              "      <td>84.0</td>\n",
              "      <td>0.99432</td>\n",
              "      <td>3.44</td>\n",
              "      <td>0.44</td>\n",
              "      <td>10.2</td>\n",
              "      <td>white</td>\n",
              "    </tr>\n",
              "    <tr>\n",
              "      <th>1</th>\n",
              "      <td>1</td>\n",
              "      <td>5</td>\n",
              "      <td>8.8</td>\n",
              "      <td>0.610</td>\n",
              "      <td>0.14</td>\n",
              "      <td>2.4</td>\n",
              "      <td>0.067</td>\n",
              "      <td>10.0</td>\n",
              "      <td>42.0</td>\n",
              "      <td>0.99690</td>\n",
              "      <td>3.19</td>\n",
              "      <td>0.59</td>\n",
              "      <td>9.5</td>\n",
              "      <td>red</td>\n",
              "    </tr>\n",
              "    <tr>\n",
              "      <th>2</th>\n",
              "      <td>2</td>\n",
              "      <td>5</td>\n",
              "      <td>7.9</td>\n",
              "      <td>0.210</td>\n",
              "      <td>0.39</td>\n",
              "      <td>2.0</td>\n",
              "      <td>0.057</td>\n",
              "      <td>21.0</td>\n",
              "      <td>138.0</td>\n",
              "      <td>0.99176</td>\n",
              "      <td>3.05</td>\n",
              "      <td>0.52</td>\n",
              "      <td>10.9</td>\n",
              "      <td>white</td>\n",
              "    </tr>\n",
              "    <tr>\n",
              "      <th>3</th>\n",
              "      <td>3</td>\n",
              "      <td>6</td>\n",
              "      <td>7.0</td>\n",
              "      <td>0.210</td>\n",
              "      <td>0.31</td>\n",
              "      <td>6.0</td>\n",
              "      <td>0.046</td>\n",
              "      <td>29.0</td>\n",
              "      <td>108.0</td>\n",
              "      <td>0.99390</td>\n",
              "      <td>3.26</td>\n",
              "      <td>0.50</td>\n",
              "      <td>10.8</td>\n",
              "      <td>white</td>\n",
              "    </tr>\n",
              "    <tr>\n",
              "      <th>4</th>\n",
              "      <td>4</td>\n",
              "      <td>6</td>\n",
              "      <td>7.8</td>\n",
              "      <td>0.400</td>\n",
              "      <td>0.26</td>\n",
              "      <td>9.5</td>\n",
              "      <td>0.059</td>\n",
              "      <td>32.0</td>\n",
              "      <td>178.0</td>\n",
              "      <td>0.99550</td>\n",
              "      <td>3.04</td>\n",
              "      <td>0.43</td>\n",
              "      <td>10.9</td>\n",
              "      <td>white</td>\n",
              "    </tr>\n",
              "  </tbody>\n",
              "</table>\n",
              "</div>\n",
              "      <button class=\"colab-df-convert\" onclick=\"convertToInteractive('df-c7d3d27b-d042-45c1-b9d7-023addeb1e31')\"\n",
              "              title=\"Convert this dataframe to an interactive table.\"\n",
              "              style=\"display:none;\">\n",
              "        \n",
              "  <svg xmlns=\"http://www.w3.org/2000/svg\" height=\"24px\"viewBox=\"0 0 24 24\"\n",
              "       width=\"24px\">\n",
              "    <path d=\"M0 0h24v24H0V0z\" fill=\"none\"/>\n",
              "    <path d=\"M18.56 5.44l.94 2.06.94-2.06 2.06-.94-2.06-.94-.94-2.06-.94 2.06-2.06.94zm-11 1L8.5 8.5l.94-2.06 2.06-.94-2.06-.94L8.5 2.5l-.94 2.06-2.06.94zm10 10l.94 2.06.94-2.06 2.06-.94-2.06-.94-.94-2.06-.94 2.06-2.06.94z\"/><path d=\"M17.41 7.96l-1.37-1.37c-.4-.4-.92-.59-1.43-.59-.52 0-1.04.2-1.43.59L10.3 9.45l-7.72 7.72c-.78.78-.78 2.05 0 2.83L4 21.41c.39.39.9.59 1.41.59.51 0 1.02-.2 1.41-.59l7.78-7.78 2.81-2.81c.8-.78.8-2.07 0-2.86zM5.41 20L4 18.59l7.72-7.72 1.47 1.35L5.41 20z\"/>\n",
              "  </svg>\n",
              "      </button>\n",
              "      \n",
              "  <style>\n",
              "    .colab-df-container {\n",
              "      display:flex;\n",
              "      flex-wrap:wrap;\n",
              "      gap: 12px;\n",
              "    }\n",
              "\n",
              "    .colab-df-convert {\n",
              "      background-color: #E8F0FE;\n",
              "      border: none;\n",
              "      border-radius: 50%;\n",
              "      cursor: pointer;\n",
              "      display: none;\n",
              "      fill: #1967D2;\n",
              "      height: 32px;\n",
              "      padding: 0 0 0 0;\n",
              "      width: 32px;\n",
              "    }\n",
              "\n",
              "    .colab-df-convert:hover {\n",
              "      background-color: #E2EBFA;\n",
              "      box-shadow: 0px 1px 2px rgba(60, 64, 67, 0.3), 0px 1px 3px 1px rgba(60, 64, 67, 0.15);\n",
              "      fill: #174EA6;\n",
              "    }\n",
              "\n",
              "    [theme=dark] .colab-df-convert {\n",
              "      background-color: #3B4455;\n",
              "      fill: #D2E3FC;\n",
              "    }\n",
              "\n",
              "    [theme=dark] .colab-df-convert:hover {\n",
              "      background-color: #434B5C;\n",
              "      box-shadow: 0px 1px 3px 1px rgba(0, 0, 0, 0.15);\n",
              "      filter: drop-shadow(0px 1px 2px rgba(0, 0, 0, 0.3));\n",
              "      fill: #FFFFFF;\n",
              "    }\n",
              "  </style>\n",
              "\n",
              "      <script>\n",
              "        const buttonEl =\n",
              "          document.querySelector('#df-c7d3d27b-d042-45c1-b9d7-023addeb1e31 button.colab-df-convert');\n",
              "        buttonEl.style.display =\n",
              "          google.colab.kernel.accessAllowed ? 'block' : 'none';\n",
              "\n",
              "        async function convertToInteractive(key) {\n",
              "          const element = document.querySelector('#df-c7d3d27b-d042-45c1-b9d7-023addeb1e31');\n",
              "          const dataTable =\n",
              "            await google.colab.kernel.invokeFunction('convertToInteractive',\n",
              "                                                     [key], {});\n",
              "          if (!dataTable) return;\n",
              "\n",
              "          const docLinkHtml = 'Like what you see? Visit the ' +\n",
              "            '<a target=\"_blank\" href=https://colab.research.google.com/notebooks/data_table.ipynb>data table notebook</a>'\n",
              "            + ' to learn more about interactive tables.';\n",
              "          element.innerHTML = '';\n",
              "          dataTable['output_type'] = 'display_data';\n",
              "          await google.colab.output.renderOutput(dataTable, element);\n",
              "          const docLink = document.createElement('div');\n",
              "          docLink.innerHTML = docLinkHtml;\n",
              "          element.appendChild(docLink);\n",
              "        }\n",
              "      </script>\n",
              "    </div>\n",
              "  </div>\n",
              "  "
            ]
          },
          "metadata": {}
        }
      ]
    },
    {
      "cell_type": "markdown",
      "source": [
        "### 시각화\n",
        "`quality`에 대한 히스토그램"
      ],
      "metadata": {
        "id": "4K3ZsoOy-Ysh"
      }
    },
    {
      "cell_type": "code",
      "source": [
        "sns.distplot(train['quality'], kde = False, bins = 7)\n",
        "plt.axis([3, 9, 0, 2500])\n",
        "plt.ylabel(\"Quality\")\n",
        "plt.show()"
      ],
      "metadata": {
        "colab": {
          "base_uri": "https://localhost:8080/",
          "height": 283
        },
        "id": "6LBs6C7F7x9w",
        "outputId": "dfa830e2-1722-4a1d-8ccb-b63cbe24412f"
      },
      "execution_count": 8,
      "outputs": [
        {
          "output_type": "display_data",
          "data": {
            "text/plain": [
              "<Figure size 432x288 with 1 Axes>"
            ],
            "image/png": "[encoded data removed]"
          },
          "metadata": {
            "needs_background": "light"
          }
        }
      ]
    },
    {
      "cell_type": "markdown",
      "source": [
        "### 전체 수치형 변수 간의 상관관계 시각화"
      ],
      "metadata": {
        "id": "cd72xUrQ-7Bd"
      }
    },
    {
      "cell_type": "code",
      "source": [
        "plt.figure(figsize = (12, 12))\n",
        "sns.heatmap(train.corr(), annot = True)"
      ],
      "metadata": {
        "colab": {
          "base_uri": "https://localhost:8080/",
          "height": 805
        },
        "id": "aN6yh0vw74Bb",
        "outputId": "8413f31a-8803-40e1-9eae-10d0d0d32348"
      },
      "execution_count": 9,
      "outputs": [
        {
          "output_type": "execute_result",
          "data": {
            "text/plain": [
              "<matplotlib.axes._subplots.AxesSubplot at 0x7f1e09361b50>"
            ]
          },
          "metadata": {},
          "execution_count": 9
        },
        {
          "output_type": "display_data",
          "data": {
            "text/plain": [
              "<Figure size 864x864 with 2 Axes>"
            ],
            "image/png": "[encoded data removed]"
          },
          "metadata": {
            "needs_background": "light"
          }
        }
      ]
    },
    {
      "cell_type": "markdown",
      "source": [
        "### `test`\n",
        "피쳐 종류는 `count`를 제외하고 동일하며, 역시 결측치가 존재한다."
      ],
      "metadata": {
        "id": "_QD-xZWo49LP"
      }
    },
    {
      "cell_type": "code",
      "source": [
        "print(test.info())\n",
        "print()\n",
        "# print(test.isnull().sum())\n",
        "# print()\n",
        "print(test.describe())\n",
        "print()\n",
        "display(test.head())"
      ],
      "metadata": {
        "colab": {
          "base_uri": "https://localhost:8080/",
          "height": 1000
        },
        "id": "N385UH-U49SX",
        "outputId": "0afc48a3-f660-4922-8dd6-0b8eeaa23b2c"
      },
      "execution_count": 10,
      "outputs": [
        {
          "output_type": "stream",
          "name": "stdout",
          "text": [
            "<class 'pandas.core.frame.DataFrame'>\n",
            "RangeIndex: 1000 entries, 0 to 999\n",
            "Data columns (total 13 columns):\n",
            " #   Column                Non-Null Count  Dtype  \n",
            "---  ------                --------------  -----  \n",
            " 0   index                 1000 non-null   int64  \n",
            " 1   fixed acidity         1000 non-null   float64\n",
            " 2   volatile acidity      1000 non-null   float64\n",
            " 3   citric acid           1000 non-null   float64\n",
            " 4   residual sugar        1000 non-null   float64\n",
            " 5   chlorides             1000 non-null   float64\n",
            " 6   free sulfur dioxide   1000 non-null   float64\n",
            " 7   total sulfur dioxide  1000 non-null   float64\n",
            " 8   density               1000 non-null   float64\n",
            " 9   pH                    1000 non-null   float64\n",
            " 10  sulphates             1000 non-null   float64\n",
            " 11  alcohol               1000 non-null   float64\n",
            " 12  type                  1000 non-null   object \n",
            "dtypes: float64(11), int64(1), object(1)\n",
            "memory usage: 101.7+ KB\n",
            "None\n",
            "\n",
            "             index  fixed acidity  volatile acidity  citric acid  \\\n",
            "count  1000.000000    1000.000000       1000.000000  1000.000000   \n",
            "mean    499.500000       7.243850          0.347930     0.319130   \n",
            "std     288.819436       1.344372          0.172043     0.146561   \n",
            "min       0.000000       4.200000          0.080000     0.000000   \n",
            "25%     249.750000       6.400000          0.230000     0.240000   \n",
            "50%     499.500000       7.000000          0.300000     0.300000   \n",
            "75%     749.250000       7.700000          0.410000     0.392500   \n",
            "max     999.000000      15.600000          1.240000     0.810000   \n",
            "\n",
            "       residual sugar    chlorides  free sulfur dioxide  total sulfur dioxide  \\\n",
            "count      1000.00000  1000.000000          1000.000000           1000.000000   \n",
            "mean          5.47160     0.057275            31.117000            116.723500   \n",
            "std           4.76628     0.037048            18.156527             57.808145   \n",
            "min           0.70000     0.014000             1.000000              7.000000   \n",
            "25%           1.80000     0.039000            17.750000             76.750000   \n",
            "50%           2.90000     0.048000            29.000000            118.500000   \n",
            "75%           8.20000     0.067250            42.000000            156.000000   \n",
            "max          22.60000     0.611000           122.500000            289.000000   \n",
            "\n",
            "           density           pH    sulphates      alcohol  \n",
            "count  1000.000000  1000.000000  1000.000000  1000.000000  \n",
            "mean      0.994825     3.213000     0.535360    10.419693  \n",
            "std       0.002912     0.161165     0.145525     1.180694  \n",
            "min       0.988150     2.720000     0.230000     8.400000  \n",
            "25%       0.992448     3.100000     0.437500     9.500000  \n",
            "50%       0.995130     3.200000     0.510000    10.200000  \n",
            "75%       0.997060     3.312500     0.620000    11.200000  \n",
            "max       1.003150     3.780000     1.310000    14.000000  \n",
            "\n"
          ]
        },
        {
          "output_type": "display_data",
          "data": {
            "text/plain": [
              "   index  fixed acidity  volatile acidity  citric acid  residual sugar  \\\n",
              "0      0            9.0              0.31         0.48             6.6   \n",
              "1      1           13.3              0.43         0.58             1.9   \n",
              "2      2            6.5              0.28         0.27             5.2   \n",
              "3      3            7.2              0.15         0.39             1.8   \n",
              "4      4            6.8              0.26         0.26             2.0   \n",
              "\n",
              "   chlorides  free sulfur dioxide  total sulfur dioxide  density    pH  \\\n",
              "0      0.043                 11.0                  73.0  0.99380  2.90   \n",
              "1      0.070                 15.0                  40.0  1.00040  3.06   \n",
              "2      0.040                 44.0                 179.0  0.99480  3.19   \n",
              "3      0.043                 21.0                 159.0  0.99480  3.52   \n",
              "4      0.019                 23.5                  72.0  0.99041  3.16   \n",
              "\n",
              "   sulphates  alcohol   type  \n",
              "0       0.38     11.6  white  \n",
              "1       0.49      9.0    red  \n",
              "2       0.69      9.4  white  \n",
              "3       0.47     10.0  white  \n",
              "4       0.47     11.8  white  "
            ],
            "text/html": [
              "\n",
              "  <div id=\"df-ed8c99af-a3f1-428b-b46c-a1a435ef1a3d\">\n",
              "    <div class=\"colab-df-container\">\n",
              "      <div>\n",
              "<style scoped>\n",
              "    .dataframe tbody tr th:only-of-type {\n",
              "        vertical-align: middle;\n",
              "    }\n",
              "\n",
              "    .dataframe tbody tr th {\n",
              "        vertical-align: top;\n",
              "    }\n",
              "\n",
              "    .dataframe thead th {\n",
              "        text-align: right;\n",
              "    }\n",
              "</style>\n",
              "<table border=\"1\" class=\"dataframe\">\n",
              "  <thead>\n",
              "    <tr style=\"text-align: right;\">\n",
              "      <th></th>\n",
              "      <th>index</th>\n",
              "      <th>fixed acidity</th>\n",
              "      <th>volatile acidity</th>\n",
              "      <th>citric acid</th>\n",
              "      <th>residual sugar</th>\n",
              "      <th>chlorides</th>\n",
              "      <th>free sulfur dioxide</th>\n",
              "      <th>total sulfur dioxide</th>\n",
              "      <th>density</th>\n",
              "      <th>pH</th>\n",
              "      <th>sulphates</th>\n",
              "      <th>alcohol</th>\n",
              "      <th>type</th>\n",
              "    </tr>\n",
              "  </thead>\n",
              "  <tbody>\n",
              "    <tr>\n",
              "      <th>0</th>\n",
              "      <td>0</td>\n",
              "      <td>9.0</td>\n",
              "      <td>0.31</td>\n",
              "      <td>0.48</td>\n",
              "      <td>6.6</td>\n",
              "      <td>0.043</td>\n",
              "      <td>11.0</td>\n",
              "      <td>73.0</td>\n",
              "      <td>0.99380</td>\n",
              "      <td>2.90</td>\n",
              "      <td>0.38</td>\n",
              "      <td>11.6</td>\n",
              "      <td>white</td>\n",
              "    </tr>\n",
              "    <tr>\n",
              "      <th>1</th>\n",
              "      <td>1</td>\n",
              "      <td>13.3</td>\n",
              "      <td>0.43</td>\n",
              "      <td>0.58</td>\n",
              "      <td>1.9</td>\n",
              "      <td>0.070</td>\n",
              "      <td>15.0</td>\n",
              "      <td>40.0</td>\n",
              "      <td>1.00040</td>\n",
              "      <td>3.06</td>\n",
              "      <td>0.49</td>\n",
              "      <td>9.0</td>\n",
              "      <td>red</td>\n",
              "    </tr>\n",
              "    <tr>\n",
              "      <th>2</th>\n",
              "      <td>2</td>\n",
              "      <td>6.5</td>\n",
              "      <td>0.28</td>\n",
              "      <td>0.27</td>\n",
              "      <td>5.2</td>\n",
              "      <td>0.040</td>\n",
              "      <td>44.0</td>\n",
              "      <td>179.0</td>\n",
              "      <td>0.99480</td>\n",
              "      <td>3.19</td>\n",
              "      <td>0.69</td>\n",
              "      <td>9.4</td>\n",
              "      <td>white</td>\n",
              "    </tr>\n",
              "    <tr>\n",
              "      <th>3</th>\n",
              "      <td>3</td>\n",
              "      <td>7.2</td>\n",
              "      <td>0.15</td>\n",
              "      <td>0.39</td>\n",
              "      <td>1.8</td>\n",
              "      <td>0.043</td>\n",
              "      <td>21.0</td>\n",
              "      <td>159.0</td>\n",
              "      <td>0.99480</td>\n",
              "      <td>3.52</td>\n",
              "      <td>0.47</td>\n",
              "      <td>10.0</td>\n",
              "      <td>white</td>\n",
              "    </tr>\n",
              "    <tr>\n",
              "      <th>4</th>\n",
              "      <td>4</td>\n",
              "      <td>6.8</td>\n",
              "      <td>0.26</td>\n",
              "      <td>0.26</td>\n",
              "      <td>2.0</td>\n",
              "      <td>0.019</td>\n",
              "      <td>23.5</td>\n",
              "      <td>72.0</td>\n",
              "      <td>0.99041</td>\n",
              "      <td>3.16</td>\n",
              "      <td>0.47</td>\n",
              "      <td>11.8</td>\n",
              "      <td>white</td>\n",
              "    </tr>\n",
              "  </tbody>\n",
              "</table>\n",
              "</div>\n",
              "      <button class=\"colab-df-convert\" onclick=\"convertToInteractive('df-ed8c99af-a3f1-428b-b46c-a1a435ef1a3d')\"\n",
              "              title=\"Convert this dataframe to an interactive table.\"\n",
              "              style=\"display:none;\">\n",
              "        \n",
              "  <svg xmlns=\"http://www.w3.org/2000/svg\" height=\"24px\"viewBox=\"0 0 24 24\"\n",
              "       width=\"24px\">\n",
              "    <path d=\"M0 0h24v24H0V0z\" fill=\"none\"/>\n",
              "    <path d=\"M18.56 5.44l.94 2.06.94-2.06 2.06-.94-2.06-.94-.94-2.06-.94 2.06-2.06.94zm-11 1L8.5 8.5l.94-2.06 2.06-.94-2.06-.94L8.5 2.5l-.94 2.06-2.06.94zm10 10l.94 2.06.94-2.06 2.06-.94-2.06-.94-.94-2.06-.94 2.06-2.06.94z\"/><path d=\"M17.41 7.96l-1.37-1.37c-.4-.4-.92-.59-1.43-.59-.52 0-1.04.2-1.43.59L10.3 9.45l-7.72 7.72c-.78.78-.78 2.05 0 2.83L4 21.41c.39.39.9.59 1.41.59.51 0 1.02-.2 1.41-.59l7.78-7.78 2.81-2.81c.8-.78.8-2.07 0-2.86zM5.41 20L4 18.59l7.72-7.72 1.47 1.35L5.41 20z\"/>\n",
              "  </svg>\n",
              "      </button>\n",
              "      \n",
              "  <style>\n",
              "    .colab-df-container {\n",
              "      display:flex;\n",
              "      flex-wrap:wrap;\n",
              "      gap: 12px;\n",
              "    }\n",
              "\n",
              "    .colab-df-convert {\n",
              "      background-color: #E8F0FE;\n",
              "      border: none;\n",
              "      border-radius: 50%;\n",
              "      cursor: pointer;\n",
              "      display: none;\n",
              "      fill: #1967D2;\n",
              "      height: 32px;\n",
              "      padding: 0 0 0 0;\n",
              "      width: 32px;\n",
              "    }\n",
              "\n",
              "    .colab-df-convert:hover {\n",
              "      background-color: #E2EBFA;\n",
              "      box-shadow: 0px 1px 2px rgba(60, 64, 67, 0.3), 0px 1px 3px 1px rgba(60, 64, 67, 0.15);\n",
              "      fill: #174EA6;\n",
              "    }\n",
              "\n",
              "    [theme=dark] .colab-df-convert {\n",
              "      background-color: #3B4455;\n",
              "      fill: #D2E3FC;\n",
              "    }\n",
              "\n",
              "    [theme=dark] .colab-df-convert:hover {\n",
              "      background-color: #434B5C;\n",
              "      box-shadow: 0px 1px 3px 1px rgba(0, 0, 0, 0.15);\n",
              "      filter: drop-shadow(0px 1px 2px rgba(0, 0, 0, 0.3));\n",
              "      fill: #FFFFFF;\n",
              "    }\n",
              "  </style>\n",
              "\n",
              "      <script>\n",
              "        const buttonEl =\n",
              "          document.querySelector('#df-ed8c99af-a3f1-428b-b46c-a1a435ef1a3d button.colab-df-convert');\n",
              "        buttonEl.style.display =\n",
              "          google.colab.kernel.accessAllowed ? 'block' : 'none';\n",
              "\n",
              "        async function convertToInteractive(key) {\n",
              "          const element = document.querySelector('#df-ed8c99af-a3f1-428b-b46c-a1a435ef1a3d');\n",
              "          const dataTable =\n",
              "            await google.colab.kernel.invokeFunction('convertToInteractive',\n",
              "                                                     [key], {});\n",
              "          if (!dataTable) return;\n",
              "\n",
              "          const docLinkHtml = 'Like what you see? Visit the ' +\n",
              "            '<a target=\"_blank\" href=https://colab.research.google.com/notebooks/data_table.ipynb>data table notebook</a>'\n",
              "            + ' to learn more about interactive tables.';\n",
              "          element.innerHTML = '';\n",
              "          dataTable['output_type'] = 'display_data';\n",
              "          await google.colab.output.renderOutput(dataTable, element);\n",
              "          const docLink = document.createElement('div');\n",
              "          docLink.innerHTML = docLinkHtml;\n",
              "          element.appendChild(docLink);\n",
              "        }\n",
              "      </script>\n",
              "    </div>\n",
              "  </div>\n",
              "  "
            ]
          },
          "metadata": {}
        }
      ]
    },
    {
      "cell_type": "markdown",
      "source": [
        "## 5. 전처리\n",
        "이상치를 어떻게 처리할 것인가? 예 - `fixed acidity`\n",
        "\n",
        "#### Boxplot에서 `[minimum, maximum]` 값 이외에는 제거하기"
      ],
      "metadata": {
        "id": "flNWnLgl5mVe"
      }
    },
    {
      "cell_type": "code",
      "source": [
        "sns.boxplot(data = train['fixed acidity'])\n",
        "plt.show()\n",
        "\n",
        "quantile_25 = np.quantile(train['fixed acidity'], .25)\n",
        "quantile_75 = np.quantile(train['fixed acidity'], .75)\n",
        "IQR = quantile_75 - quantile_25\n",
        "\n",
        "minimum = quantile_25 - 1.5 * IQR\n",
        "maximum = quantile_75 + 1.5 * IQR\n",
        "\n",
        "train_boxplot = train[(minimum < train['fixed acidity']) & (train['fixed acidity'] < maximum)]\n",
        "\n",
        "print(train.shape)\n",
        "print(train_boxplot.shape)\n",
        "print(f\"Number of outliers: {train.shape[0] - train_boxplot.shape[0]}\")"
      ],
      "metadata": {
        "colab": {
          "base_uri": "https://localhost:8080/",
          "height": 317
        },
        "id": "jTllmjCzV2WU",
        "outputId": "92a30f51-4a86-4435-ffa8-09f2b831c4e3"
      },
      "execution_count": 14,
      "outputs": [
        {
          "output_type": "display_data",
          "data": {
            "text/plain": [
              "<Figure size 432x288 with 1 Axes>"
            ],
            "image/png": "[encoded data removed]"
          },
          "metadata": {
            "needs_background": "light"
          }
        },
        {
          "output_type": "stream",
          "name": "stdout",
          "text": [
            "(5497, 14)\n",
            "(5203, 14)\n",
            "Number of outliers: 294\n"
          ]
        }
      ]
    },
    {
      "cell_type": "markdown",
      "source": [
        "#### 데이터 정규화 (Normalization) - `MinMaxScaler`\n",
        "1. `MinMaxScaler`를 선언한다.\n",
        "2. 정규화 하려는 컬럼 값을 학습 데이터에서 추출하여 Scaler를 구성한다.\n",
        "3. `train, test` 데이터에 Scaler를 적용하여 정규화된 값을 얻는다."
      ],
      "metadata": {
        "id": "Z7-yZFrvW_v_"
      }
    },
    {
      "cell_type": "code",
      "source": [
        "sns.distplot(train['fixed acidity'])\n",
        "plt.show()\n",
        "\n",
        "scaler = MinMaxScaler()\n",
        "scaler.fit(train[['fixed acidity']])\n",
        "\n",
        "train['fixed acidity scaled'] = scaler.transform(train[['fixed acidity']])\n",
        "test['fixed acidity scaled'] = scaler.transform(test[['fixed acidity']])\n",
        "\n",
        "sns.distplot(train['fixed acidity scaled'])\n",
        "plt.show()"
      ],
      "metadata": {
        "colab": {
          "base_uri": "https://localhost:8080/",
          "height": 541
        },
        "id": "CvcMttWjXSVx",
        "outputId": "f217e91a-5b68-4dd3-9d63-16c41647305f"
      },
      "execution_count": 16,
      "outputs": [
        {
          "output_type": "display_data",
          "data": {
            "text/plain": [
              "<Figure size 432x288 with 1 Axes>"
            ],
            "image/png": "[encoded data removed]"
          },
          "metadata": {
            "needs_background": "light"
          }
        },
        {
          "output_type": "display_data",
          "data": {
            "text/plain": [
              "<Figure size 432x288 with 1 Axes>"
            ],
            "image/png": "[encoded data removed]"
          },
          "metadata": {
            "needs_background": "light"
          }
        }
      ]
    },
    {
      "cell_type": "markdown",
      "source": [
        "#### 카테고리 변수를 처리하기 위한 One-hot encoding\n",
        "1. `OneHotEncoder`를 선언한다.\n",
        "2. 인코딩하려는 컬럼 값을 학습 데이터에서 추출하여 Encoder를 구성한다.\n",
        "3. `train, test`에 있는 해당 컬럼 데이터에 Encoder를 적용하여 인코딩된 값을 얻는다.\n",
        "\n",
        "---\n",
        "\n",
        "인코딩된 값을 `np.array`로 바꾼 다음 `pd.DataFrame`으로 만든다.\n",
        "\n",
        "`train, test`에 인코딩된 DataFrame을 병합한다.\n"
      ],
      "metadata": {
        "id": "54WZt4XIYP2z"
      }
    },
    {
      "cell_type": "code",
      "source": [
        "encoder = OneHotEncoder()\n",
        "encoder.fit(train[['type']])\n",
        "\n",
        "onehot_train = encoder.transform(train[['type']]).toarray()\n",
        "onehot_test = encoder.transform(test[['type']]).toarray()\n",
        "\n",
        "onehot_train = pd.DataFrame(onehot_train)\n",
        "onehot_train.columns = encoder.get_feature_names()\n",
        "\n",
        "onehot_test = pd.DataFrame(onehot_test)\n",
        "onehot_test.columns = encoder.get_feature_names()\n",
        "\n",
        "train_encoded = pd.concat([train, onehot_train], axis = 1)\n",
        "train_encoded.drop(columns = ['type'], inplace = True)\n",
        "\n",
        "test_encoded = pd.concat([test, onehot_test], axis = 1)\n",
        "test_encoded.drop(columns = ['type'], inplace = True)"
      ],
      "metadata": {
        "id": "xcVpz4MaYZNY"
      },
      "execution_count": 21,
      "outputs": []
    },
    {
      "cell_type": "markdown",
      "source": [
        "## 6. 모델링\n",
        "\n",
        "1. `분류`를 위해 `DecisionTreeClassifier`를 선언한다.\n",
        "2. 모델을 학습시킨다."
      ],
      "metadata": {
        "id": "bBqjZEDytg-0"
      }
    },
    {
      "cell_type": "code",
      "source": [
        "model = RandomForestClassifier(random_state = 42)\n",
        "\n",
        "X_train = train_encoded.drop(columns = ['quality', 'index'])\n",
        "Y_train = train_encoded['quality']\n",
        "\n",
        "X_test = test_encoded.drop(columns = ['index'])\n",
        "\n",
        "model.fit(X_train, Y_train)"
      ],
      "metadata": {
        "id": "5BOX7R1b1q30",
        "colab": {
          "base_uri": "https://localhost:8080/"
        },
        "outputId": "b5276b37-b70d-4630-c838-ed0a6f113c17"
      },
      "execution_count": 29,
      "outputs": [
        {
          "output_type": "execute_result",
          "data": {
            "text/plain": [
              "RandomForestClassifier(random_state=42)"
            ]
          },
          "metadata": {},
          "execution_count": 29
        }
      ]
    },
    {
      "cell_type": "markdown",
      "source": [
        "## 7. 평가\n",
        "`K-Fold Cross Validation`을 적용한다.\n",
        "1. `train` 데이터셋을 `K-Fold`로 분할하여 `train_data, valid_data`를 구성한다.\n",
        "2. 매 fold마다 모델을 초기화하고 `train_data`로 학습시킨다.\n",
        "3. 학습된 모델을 `valid_data`로 평가하여 점수를 계산한다.\n",
        "4. `K`번 반복하여 얻은 점수들을 평균낸다."
      ],
      "metadata": {
        "id": "RsRQ7bbLbTO0"
      }
    },
    {
      "cell_type": "code",
      "source": [
        "k = 5\n",
        "kf = KFold(n_splits = k, shuffle = True, random_state = 42)\n",
        "\n",
        "valid_scores = []\n",
        "test_predictions = []\n",
        "\n",
        "for i, (train_idx, valid_idx) in enumerate(kf.split(X_train, Y_train)) :\n",
        "  X_fold_train = X_train.iloc[train_idx]\n",
        "  Y_fold_train = Y_train.iloc[train_idx]\n",
        "\n",
        "  X_fold_val = X_train.iloc[valid_idx]\n",
        "  Y_fold_val = Y_train.iloc[valid_idx]\n",
        "\n",
        "  model.fit(X_fold_train, Y_fold_train)\n",
        "\n",
        "  valid_prediction = model.predict(X_fold_val)\n",
        "  score = accuracy_score(Y_fold_val, valid_prediction)\n",
        "  \n",
        "  valid_scores.append(score)\n",
        "  print(f\"[{i+1}/{k}] Validation score: {score}\")\n",
        "\n",
        "  test_prediction = model.predict(X_test)\n",
        "  test_predictions.append(test_prediction)\n",
        "\n",
        "print(f\"Average score: {np.mean(valid_scores)}\")"
      ],
      "metadata": {
        "colab": {
          "base_uri": "https://localhost:8080/"
        },
        "id": "CCainhHUbTVF",
        "outputId": "43c323d9-92c2-42d4-ecb7-1876ee90436d"
      },
      "execution_count": 31,
      "outputs": [
        {
          "output_type": "stream",
          "name": "stdout",
          "text": [
            "[1/5] Validation score: 0.6781818181818182\n",
            "[2/5] Validation score: 0.6736363636363636\n",
            "[3/5] Validation score: 0.6642402183803457\n",
            "[4/5] Validation score: 0.6860782529572339\n",
            "[5/5] Validation score: 0.6660600545950864\n",
            "Average score: 0.6736393415501697\n"
          ]
        }
      ]
    },
    {
      "cell_type": "markdown",
      "source": [
        "## 7. 결과 저장"
      ],
      "metadata": {
        "id": "hreIGR_5vPkD"
      }
    },
    {
      "cell_type": "code",
      "source": [
        "test_predictions = pd.DataFrame(test_predictions)\n",
        "test_prediction = test_predictions.mode()\n",
        "test_prediction = test_predictions.values[0]\n",
        "test_prediction\n",
        "\n",
        "sample_submission = pd.read_csv('data/sample_submission.csv')\n",
        "sample_submission['quality'] = test_prediction\n",
        "sample_submission.to_csv('submission_KFOLD.csv', index=False)"
      ],
      "metadata": {
        "id": "2a8AYSjG6AhU"
      },
      "execution_count": 34,
      "outputs": []
    },
    {
      "cell_type": "markdown",
      "source": [
        "## 8. 하이퍼파라미터 튜닝\n",
        "Bayesian Optimization"
      ],
      "metadata": {
        "id": "Uz8E3Ea90xjB"
      }
    },
    {
      "cell_type": "code",
      "source": [
        "# !pip install bayesian-optimization\n",
        "from bayes_opt import BayesianOptimization\n",
        "\n",
        "rf_parameter_bounds = {\n",
        "    'max_depth': (1, 14),\n",
        "    'n_estimators': (50, 500)\n",
        "}\n",
        "\n",
        "def bayes_function(max_depth, n_estimators):\n",
        "  param = {\n",
        "      'max_depth': int(round(max_depth)),\n",
        "      'n_estimators': int(round(n_estimators))\n",
        "  }\n",
        "  \n",
        "  model = RandomForestClassifier(**param)\n",
        "\n",
        "  X_train_bo, X_valid_bo, Y_train_bo, Y_valid_bo = train_test_split(X_train, Y_train, test_size = .2)\n",
        "\n",
        "  model.fit(X_train_bo, Y_train_bo)\n",
        "  score = accuracy_score(Y_valid_bo, model.predict(X_valid_bo))\n",
        "\n",
        "  return score"
      ],
      "metadata": {
        "id": "iNQiYzMnumU3"
      },
      "execution_count": 48,
      "outputs": []
    },
    {
      "cell_type": "code",
      "source": [
        "bayes_rf = BayesianOptimization(\n",
        "    f = bayes_function, \n",
        "    pbounds = rf_parameter_bounds,\n",
        "    random_state = 42)\n",
        "\n",
        "bayes_rf.maximize(init_points = 5, n_iter = 5)"
      ],
      "metadata": {
        "colab": {
          "base_uri": "https://localhost:8080/"
        },
        "id": "9YZU-VYef_Qe",
        "outputId": "846aa9c2-cccf-4ff7-cb64-4cd718f17903"
      },
      "execution_count": 49,
      "outputs": [
        {
          "output_type": "stream",
          "name": "stdout",
          "text": [
            "|   iter    |  target   | max_depth | n_esti... |\n",
            "-------------------------------------------------\n",
            "| \u001b[0m 1       \u001b[0m | \u001b[0m 0.5845  \u001b[0m | \u001b[0m 5.869   \u001b[0m | \u001b[0m 477.8   \u001b[0m |\n",
            "| \u001b[95m 2       \u001b[0m | \u001b[95m 0.65    \u001b[0m | \u001b[95m 10.52   \u001b[0m | \u001b[95m 319.4   \u001b[0m |\n",
            "| \u001b[0m 3       \u001b[0m | \u001b[0m 0.5245  \u001b[0m | \u001b[0m 3.028   \u001b[0m | \u001b[0m 120.2   \u001b[0m |\n",
            "| \u001b[0m 4       \u001b[0m | \u001b[0m 0.5336  \u001b[0m | \u001b[0m 1.755   \u001b[0m | \u001b[0m 439.8   \u001b[0m |\n",
            "| \u001b[0m 5       \u001b[0m | \u001b[0m 0.6127  \u001b[0m | \u001b[0m 8.814   \u001b[0m | \u001b[0m 368.6   \u001b[0m |\n",
            "| \u001b[0m 6       \u001b[0m | \u001b[0m 0.4536  \u001b[0m | \u001b[0m 1.464   \u001b[0m | \u001b[0m 281.1   \u001b[0m |\n",
            "| \u001b[0m 7       \u001b[0m | \u001b[0m 0.6482  \u001b[0m | \u001b[0m 9.864   \u001b[0m | \u001b[0m 320.3   \u001b[0m |\n",
            "| \u001b[95m 8       \u001b[0m | \u001b[95m 0.66    \u001b[0m | \u001b[95m 14.0    \u001b[0m | \u001b[95m 343.8   \u001b[0m |\n",
            "| \u001b[0m 9       \u001b[0m | \u001b[0m 0.6427  \u001b[0m | \u001b[0m 14.0    \u001b[0m | \u001b[0m 50.0    \u001b[0m |\n",
            "| \u001b[0m 10      \u001b[0m | \u001b[0m 0.4709  \u001b[0m | \u001b[0m 1.0     \u001b[0m | \u001b[0m 71.61   \u001b[0m |\n",
            "=================================================\n"
          ]
        }
      ]
    },
    {
      "cell_type": "markdown",
      "source": [
        "## 결과 저장"
      ],
      "metadata": {
        "id": "-oqlc9I81tTU"
      }
    },
    {
      "cell_type": "code",
      "source": [
        "max_params = bayes_rf.max['params']\n",
        "max_params['max_depth'] = int(max_params['max_depth'])\n",
        "max_params['n_estimators'] = int(max_params['n_estimators'])\n",
        "max_params"
      ],
      "metadata": {
        "id": "SXj8lIcm1sK8",
        "colab": {
          "base_uri": "https://localhost:8080/"
        },
        "outputId": "73c3b56b-1166-4926-e2d5-d311301734f5"
      },
      "execution_count": 50,
      "outputs": [
        {
          "output_type": "execute_result",
          "data": {
            "text/plain": [
              "{'max_depth': 14, 'n_estimators': 343}"
            ]
          },
          "metadata": {},
          "execution_count": 50
        }
      ]
    },
    {
      "cell_type": "code",
      "source": [
        "model_bayes_tuned = RandomForestClassifier(**max_params)\n",
        "model_bayes_tuned.fit(X_train, Y_train)\n",
        "\n",
        "pred = model_bayes_tuned.predict(X_test)\n",
        "\n",
        "df = pd.read_csv(\"data/sample_submission.csv\")\n",
        "df['quality'] = pred\n",
        "df.to_csv(\"submission_bayes.csv\", index = False)"
      ],
      "metadata": {
        "id": "JM6VZYJB2MWq"
      },
      "execution_count": 51,
      "outputs": []
    },
    {
      "cell_type": "code",
      "source": [
        ""
      ],
      "metadata": {
        "id": "Cn6Xl_v4hmmL"
      },
      "execution_count": null,
      "outputs": []
    }
  ]
}